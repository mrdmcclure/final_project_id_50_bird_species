{
 "cells": [
  {
   "cell_type": "code",
   "execution_count": null,
   "id": "7e5e80e7",
   "metadata": {},
   "outputs": [],
   "source": [
    "import os\n",
    "import shutil\n",
    "import glob\n",
    "\n",
    "def nutcracker(source_folder, dest_first_folder, dest_last_folder, num_images=4):\n",
    "    \"\"\"\n",
    "        source_folder (str): Path to the folder containing the original images.\n",
    "        dest_first_folder (str): Path to the folder where the first images will be saved.\n",
    "        dest_last_folder (str): Path to the folder where the last images will be saved.\n",
    "        num_images (int, optional): The number of images to copy from the beginning and end. Defaults to 4.\n",
    "    \"\"\"\n",
    "    # Create the destination folders if they don't exist\n",
    "    for dest_folder in [dest_first_folder, dest_last_folder]:\n",
    "        if not os.path.exists(dest_folder):\n",
    "            os.makedirs(dest_folder)\n",
    "            print(f\"Created destination folder: {dest_folder}\")\n",
    "        else:\n",
    "            print(f\"Destination folder already exists: {dest_folder}\")\n",
    "\n",
    "    # Get a list of all image files in the source folder\n",
    "    image_files = glob.glob(os.path.join(source_folder, \"*.jpg\")) + \\\n",
    "                  glob.glob(os.path.join(source_folder, \"*.png\")) + \\\n",
    "                  glob.glob(os.path.join(source_folder, \"*.jpeg\"))\n",
    "    image_files.sort()\n",
    "\n",
    "    # Check if there are enough images in the source folder\n",
    "    if len(image_files) < num_images * 2:\n",
    "        print(f\"Error: Not enough images in the source folder. Found {len(image_files)}, but need at least {num_images * 2}.\")\n",
    "        return\n",
    "\n",
    "    # Copy the first 'num_images' files\n",
    "    for i in range(num_images):\n",
    "        source_path = image_files[i]\n",
    "        filename = os.path.basename(source_path)\n",
    "        dest_path = os.path.join(dest_first_folder, filename)\n",
    "        try:\n",
    "            shutil.copy2(source_path, dest_path)\n",
    "            print(f\"Copied first: {filename} to {dest_first_folder}\")\n",
    "        except Exception as e:\n",
    "            print(f\"Error copying {filename} to {dest_first_folder}: {e}\")\n",
    "        else:  # Only delete if copy was successful\n",
    "            try:\n",
    "                os.remove(source_path)\n",
    "                print(f\"Deleted: {filename} from {source_folder}\")\n",
    "            except Exception as e:\n",
    "                print(f\"Error deleting {filename} from {source_folder}: {e}\")\n",
    "\n",
    "    # Copy the last 'num_images' files\n",
    "    for i in range(num_images):\n",
    "        source_path = image_files[-num_images + i]  # Get the last num_images files\n",
    "        filename = os.path.basename(source_path)\n",
    "        dest_path = os.path.join(dest_last_folder, filename)\n",
    "        try:\n",
    "            shutil.copy2(source_path, dest_path)\n",
    "            print(f\"Copied last: {filename} to {dest_last_folder}\")\n",
    "        except Exception as e:\n",
    "            print(f\"Error copying {filename} to {dest_last_folder}: {e}\")\n",
    "        else: # Only delete if copy was successful\n",
    "            try:\n",
    "                os.remove(source_path)\n",
    "                print(f\"Deleted: {filename} from {source_folder}\")\n",
    "            except Exception as e:\n",
    "                print(f\"Error deleting {filename} from {source_folder}: {e}\")\n",
    "\n",
    "    print(f\"Successfully copied the first {num_images} images to {dest_first_folder} and the last {num_images} images to {dest_last_folder}, and deleted them from {source_folder}\")\n",
    "\n",
    "\n",
    "\n",
    "#if __name__ == \"__main__\":\n",
    "    # Get the folder paths from the user\n",
    "#    source_folder = input(\"Enter the path to the source folder containing the images: \")\n",
    "#    dest_first_folder = input(\"Enter the path to the destination folder for the first images: \")\n",
    "#    dest_last_folder = input(\"Enter the path to the destination folder for the last images: \")\n",
    "\n",
    "    # Call the function to copy and delete the images\n",
    "#   nutcracker(source_folder, dest_first_folder, dest_last_folder)"
   ]
  },
  {
   "cell_type": "code",
   "execution_count": null,
   "id": "5bdf07a8",
   "metadata": {},
   "outputs": [],
   "source": [
    "#copy these, add final folder\n",
    "\n",
    "#train = \"C:\\Users\\dwmcc\\Desktop\\Learningfuze\\images\\Train\"\n",
    "#test = \"C:\\Users\\dwmcc\\Desktop\\Learningfuze\\images\\Train\"\n",
    "#valid = \"C:\\Users\\dwmcc\\Desktop\\Learningfuze\\images\\Valid\"\n",
    "\n",
    "#nutcracker(train, test, valid)"
   ]
  },
  {
   "cell_type": "code",
   "execution_count": null,
   "id": "f8183dee",
   "metadata": {},
   "outputs": [
    {
     "name": "stdout",
     "output_type": "stream",
     "text": [
      "Destination folder already exists: C:\\Users\\dwmcc\\Desktop\\Learningfuze\\images\\Test\\001.Black_footed_Albatross\n",
      "Destination folder already exists: C:\\Users\\dwmcc\\Desktop\\Learningfuze\\images\\Valid\\001.Black_footed_Albatross\n",
      "Copied first: Black_Footed_Albatross_0001_796111.jpg to C:\\Users\\dwmcc\\Desktop\\Learningfuze\\images\\Test\\001.Black_footed_Albatross\n",
      "Copied first: Black_Footed_Albatross_0002_55.jpg to C:\\Users\\dwmcc\\Desktop\\Learningfuze\\images\\Test\\001.Black_footed_Albatross\n",
      "Copied first: Black_Footed_Albatross_0003_796136.jpg to C:\\Users\\dwmcc\\Desktop\\Learningfuze\\images\\Test\\001.Black_footed_Albatross\n",
      "Copied first: Black_Footed_Albatross_0005_796090.jpg to C:\\Users\\dwmcc\\Desktop\\Learningfuze\\images\\Test\\001.Black_footed_Albatross\n",
      "Copied last: Black_Footed_Albatross_0086_796062.jpg to C:\\Users\\dwmcc\\Desktop\\Learningfuze\\images\\Valid\\001.Black_footed_Albatross\n",
      "Copied last: Black_Footed_Albatross_0088_796133.jpg to C:\\Users\\dwmcc\\Desktop\\Learningfuze\\images\\Valid\\001.Black_footed_Albatross\n",
      "Copied last: Black_Footed_Albatross_0089_796069.jpg to C:\\Users\\dwmcc\\Desktop\\Learningfuze\\images\\Valid\\001.Black_footed_Albatross\n",
      "Copied last: Black_Footed_Albatross_0090_796077.jpg to C:\\Users\\dwmcc\\Desktop\\Learningfuze\\images\\Valid\\001.Black_footed_Albatross\n",
      "Successfully copied the first 4 images to C:\\Users\\dwmcc\\Desktop\\Learningfuze\\images\\Test\\001.Black_footed_Albatross and the last 4 images to C:\\Users\\dwmcc\\Desktop\\Learningfuze\\images\\Valid\\001.Black_footed_Albatross\n"
     ]
    }
   ],
   "source": [
    "train = r\"C:\\Users\\dwmcc\\Desktop\\Learningfuze\\images\\Train\\001.Black_footed_Albatross\"\n",
    "test = r\"C:\\Users\\dwmcc\\Desktop\\Learningfuze\\images\\Test\\001.Black_footed_Albatross\"\n",
    "valid = r\"C:\\Users\\dwmcc\\Desktop\\Learningfuze\\images\\Valid\\001.Black_footed_Albatross\"\n",
    "\n",
    "nutcracker(train, test, valid)"
   ]
  },
  {
   "cell_type": "code",
   "execution_count": null,
   "id": "dcd6beaf",
   "metadata": {},
   "outputs": [
    {
     "name": "stdout",
     "output_type": "stream",
     "text": [
      "Destination folder already exists: C:\\Users\\dwmcc\\Desktop\\Learningfuze\\images\\Test\\008.Rhinoceros_Auklet\n",
      "Destination folder already exists: C:\\Users\\dwmcc\\Desktop\\Learningfuze\\images\\Valid\\008.Rhinoceros_Auklet\n",
      "Copied first: Rhinoceros_Auklet_0001_797538.jpg to C:\\Users\\dwmcc\\Desktop\\Learningfuze\\images\\Test\\008.Rhinoceros_Auklet\n",
      "Deleted: Rhinoceros_Auklet_0001_797538.jpg from C:\\Users\\dwmcc\\Desktop\\Learningfuze\\images\\Train\\008.Rhinoceros_Auklet\n",
      "Copied first: Rhinoceros_Auklet_0003_797535.jpg to C:\\Users\\dwmcc\\Desktop\\Learningfuze\\images\\Test\\008.Rhinoceros_Auklet\n",
      "Deleted: Rhinoceros_Auklet_0003_797535.jpg from C:\\Users\\dwmcc\\Desktop\\Learningfuze\\images\\Train\\008.Rhinoceros_Auklet\n",
      "Copied first: Rhinoceros_Auklet_0004_797541.jpg to C:\\Users\\dwmcc\\Desktop\\Learningfuze\\images\\Test\\008.Rhinoceros_Auklet\n",
      "Deleted: Rhinoceros_Auklet_0004_797541.jpg from C:\\Users\\dwmcc\\Desktop\\Learningfuze\\images\\Train\\008.Rhinoceros_Auklet\n",
      "Copied first: Rhinoceros_Auklet_0005_2111.jpg to C:\\Users\\dwmcc\\Desktop\\Learningfuze\\images\\Test\\008.Rhinoceros_Auklet\n",
      "Deleted: Rhinoceros_Auklet_0005_2111.jpg from C:\\Users\\dwmcc\\Desktop\\Learningfuze\\images\\Train\\008.Rhinoceros_Auklet\n",
      "Copied last: Rhinoceros_Auklet_0048_2162.jpg to C:\\Users\\dwmcc\\Desktop\\Learningfuze\\images\\Valid\\008.Rhinoceros_Auklet\n",
      "Deleted: Rhinoceros_Auklet_0048_2162.jpg from C:\\Users\\dwmcc\\Desktop\\Learningfuze\\images\\Train\\008.Rhinoceros_Auklet\n",
      "Copied last: Rhinoceros_Auklet_0049_797543.jpg to C:\\Users\\dwmcc\\Desktop\\Learningfuze\\images\\Valid\\008.Rhinoceros_Auklet\n",
      "Deleted: Rhinoceros_Auklet_0049_797543.jpg from C:\\Users\\dwmcc\\Desktop\\Learningfuze\\images\\Train\\008.Rhinoceros_Auklet\n",
      "Copied last: Rhinoceros_Auklet_0050_797534.jpg to C:\\Users\\dwmcc\\Desktop\\Learningfuze\\images\\Valid\\008.Rhinoceros_Auklet\n",
      "Deleted: Rhinoceros_Auklet_0050_797534.jpg from C:\\Users\\dwmcc\\Desktop\\Learningfuze\\images\\Train\\008.Rhinoceros_Auklet\n",
      "Copied last: Rhinoceros_Auklet_0051_797510.jpg to C:\\Users\\dwmcc\\Desktop\\Learningfuze\\images\\Valid\\008.Rhinoceros_Auklet\n",
      "Deleted: Rhinoceros_Auklet_0051_797510.jpg from C:\\Users\\dwmcc\\Desktop\\Learningfuze\\images\\Train\\008.Rhinoceros_Auklet\n",
      "Successfully copied the first 4 images to C:\\Users\\dwmcc\\Desktop\\Learningfuze\\images\\Test\\008.Rhinoceros_Auklet and the last 4 images to C:\\Users\\dwmcc\\Desktop\\Learningfuze\\images\\Valid\\008.Rhinoceros_Auklet, and deleted them from C:\\Users\\dwmcc\\Desktop\\Learningfuze\\images\\Train\\008.Rhinoceros_Auklet\n"
     ]
    }
   ],
   "source": [
    "train = r\"C:\\Users\\dwmcc\\Desktop\\Learningfuze\\images\\Train\\008.Rhinoceros_Auklet\"\n",
    "test = r\"C:\\Users\\dwmcc\\Desktop\\Learningfuze\\images\\Test\\008.Rhinoceros_Auklet\"\n",
    "valid = r\"C:\\Users\\dwmcc\\Desktop\\Learningfuze\\images\\Valid\\008.Rhinoceros_Auklet\"\n",
    "\n",
    "nutcracker(train, test, valid)"
   ]
  },
  {
   "cell_type": "code",
   "execution_count": 5,
   "id": "45dc88f3",
   "metadata": {},
   "outputs": [
    {
     "name": "stdout",
     "output_type": "stream",
     "text": [
      "Destination folder already exists: C:\\Users\\dwmcc\\Desktop\\Learningfuze\\new_na_birds_dataset\\Test\\009.Brewer_Blackbird\n",
      "Destination folder already exists: C:\\Users\\dwmcc\\Desktop\\Learningfuze\\new_na_birds_dataset\\Valid\\009.Brewer_Blackbird\n",
      "Copied first: Brewer_Blackbird_0002_2278.jpg to C:\\Users\\dwmcc\\Desktop\\Learningfuze\\new_na_birds_dataset\\Test\\009.Brewer_Blackbird\n",
      "Deleted: Brewer_Blackbird_0002_2278.jpg from C:\\Users\\dwmcc\\Desktop\\Learningfuze\\new_na_birds_dataset\\Train\\009.Brewer_Blackbird\n",
      "Copied first: Brewer_Blackbird_0004_2345.jpg to C:\\Users\\dwmcc\\Desktop\\Learningfuze\\new_na_birds_dataset\\Test\\009.Brewer_Blackbird\n",
      "Deleted: Brewer_Blackbird_0004_2345.jpg from C:\\Users\\dwmcc\\Desktop\\Learningfuze\\new_na_birds_dataset\\Train\\009.Brewer_Blackbird\n",
      "Copied first: Brewer_Blackbird_0009_2616.jpg to C:\\Users\\dwmcc\\Desktop\\Learningfuze\\new_na_birds_dataset\\Test\\009.Brewer_Blackbird\n",
      "Deleted: Brewer_Blackbird_0009_2616.jpg from C:\\Users\\dwmcc\\Desktop\\Learningfuze\\new_na_birds_dataset\\Train\\009.Brewer_Blackbird\n",
      "Copied first: Brewer_Blackbird_0010_2269.jpg to C:\\Users\\dwmcc\\Desktop\\Learningfuze\\new_na_birds_dataset\\Test\\009.Brewer_Blackbird\n",
      "Deleted: Brewer_Blackbird_0010_2269.jpg from C:\\Users\\dwmcc\\Desktop\\Learningfuze\\new_na_birds_dataset\\Train\\009.Brewer_Blackbird\n",
      "Copied last: Brewer_Blackbird_0137_2680.jpg to C:\\Users\\dwmcc\\Desktop\\Learningfuze\\new_na_birds_dataset\\Valid\\009.Brewer_Blackbird\n",
      "Deleted: Brewer_Blackbird_0137_2680.jpg from C:\\Users\\dwmcc\\Desktop\\Learningfuze\\new_na_birds_dataset\\Train\\009.Brewer_Blackbird\n",
      "Copied last: Brewer_Blackbird_0139_2567.jpg to C:\\Users\\dwmcc\\Desktop\\Learningfuze\\new_na_birds_dataset\\Valid\\009.Brewer_Blackbird\n",
      "Deleted: Brewer_Blackbird_0139_2567.jpg from C:\\Users\\dwmcc\\Desktop\\Learningfuze\\new_na_birds_dataset\\Train\\009.Brewer_Blackbird\n",
      "Copied last: Brewer_Blackbird_0140_2586.jpg to C:\\Users\\dwmcc\\Desktop\\Learningfuze\\new_na_birds_dataset\\Valid\\009.Brewer_Blackbird\n",
      "Deleted: Brewer_Blackbird_0140_2586.jpg from C:\\Users\\dwmcc\\Desktop\\Learningfuze\\new_na_birds_dataset\\Train\\009.Brewer_Blackbird\n",
      "Copied last: Brewer_Blackbird_0142_2636.jpg to C:\\Users\\dwmcc\\Desktop\\Learningfuze\\new_na_birds_dataset\\Valid\\009.Brewer_Blackbird\n",
      "Deleted: Brewer_Blackbird_0142_2636.jpg from C:\\Users\\dwmcc\\Desktop\\Learningfuze\\new_na_birds_dataset\\Train\\009.Brewer_Blackbird\n",
      "Successfully copied the first 4 images to C:\\Users\\dwmcc\\Desktop\\Learningfuze\\new_na_birds_dataset\\Test\\009.Brewer_Blackbird and the last 4 images to C:\\Users\\dwmcc\\Desktop\\Learningfuze\\new_na_birds_dataset\\Valid\\009.Brewer_Blackbird, and deleted them from C:\\Users\\dwmcc\\Desktop\\Learningfuze\\new_na_birds_dataset\\Train\\009.Brewer_Blackbird\n"
     ]
    }
   ],
   "source": [
    "train = r\"C:\\Users\\dwmcc\\Desktop\\Learningfuze\\new_na_birds_dataset\\Train\\009.Brewer_Blackbird\"\n",
    "test = r\"C:\\Users\\dwmcc\\Desktop\\Learningfuze\\new_na_birds_dataset\\Test\\009.Brewer_Blackbird\"\n",
    "valid = r\"C:\\Users\\dwmcc\\Desktop\\Learningfuze\\new_na_birds_dataset\\Valid\\009.Brewer_Blackbird\"\n",
    "\n",
    "nutcracker(train, test, valid)"
   ]
  },
  {
   "cell_type": "code",
   "execution_count": 6,
   "id": "00c2657e",
   "metadata": {},
   "outputs": [
    {
     "name": "stdout",
     "output_type": "stream",
     "text": [
      "Destination folder already exists: C:\\Users\\dwmcc\\Desktop\\Learningfuze\\new_na_birds_dataset\\Test\\010.Red_winged_Blackbird\n",
      "Destination folder already exists: C:\\Users\\dwmcc\\Desktop\\Learningfuze\\new_na_birds_dataset\\Valid\\010.Red_winged_Blackbird\n",
      "Copied first: Red_Winged_Blackbird_0001_3695.jpg to C:\\Users\\dwmcc\\Desktop\\Learningfuze\\new_na_birds_dataset\\Test\\010.Red_winged_Blackbird\n",
      "Deleted: Red_Winged_Blackbird_0001_3695.jpg from C:\\Users\\dwmcc\\Desktop\\Learningfuze\\new_na_birds_dataset\\Train\\010.Red_winged_Blackbird\n",
      "Copied first: Red_Winged_Blackbird_0005_5636.jpg to C:\\Users\\dwmcc\\Desktop\\Learningfuze\\new_na_birds_dataset\\Test\\010.Red_winged_Blackbird\n",
      "Deleted: Red_Winged_Blackbird_0005_5636.jpg from C:\\Users\\dwmcc\\Desktop\\Learningfuze\\new_na_birds_dataset\\Train\\010.Red_winged_Blackbird\n",
      "Copied first: Red_Winged_Blackbird_0006_6005.jpg to C:\\Users\\dwmcc\\Desktop\\Learningfuze\\new_na_birds_dataset\\Test\\010.Red_winged_Blackbird\n",
      "Deleted: Red_Winged_Blackbird_0006_6005.jpg from C:\\Users\\dwmcc\\Desktop\\Learningfuze\\new_na_birds_dataset\\Train\\010.Red_winged_Blackbird\n",
      "Copied first: Red_Winged_Blackbird_0007_3706.jpg to C:\\Users\\dwmcc\\Desktop\\Learningfuze\\new_na_birds_dataset\\Test\\010.Red_winged_Blackbird\n",
      "Deleted: Red_Winged_Blackbird_0007_3706.jpg from C:\\Users\\dwmcc\\Desktop\\Learningfuze\\new_na_birds_dataset\\Train\\010.Red_winged_Blackbird\n",
      "Copied last: Red_Winged_Blackbird_0101_6244.jpg to C:\\Users\\dwmcc\\Desktop\\Learningfuze\\new_na_birds_dataset\\Valid\\010.Red_winged_Blackbird\n",
      "Deleted: Red_Winged_Blackbird_0101_6244.jpg from C:\\Users\\dwmcc\\Desktop\\Learningfuze\\new_na_birds_dataset\\Train\\010.Red_winged_Blackbird\n",
      "Copied last: Red_Winged_Blackbird_0104_3918.jpg to C:\\Users\\dwmcc\\Desktop\\Learningfuze\\new_na_birds_dataset\\Valid\\010.Red_winged_Blackbird\n",
      "Deleted: Red_Winged_Blackbird_0104_3918.jpg from C:\\Users\\dwmcc\\Desktop\\Learningfuze\\new_na_birds_dataset\\Train\\010.Red_winged_Blackbird\n",
      "Copied last: Red_Winged_Blackbird_0105_4842.jpg to C:\\Users\\dwmcc\\Desktop\\Learningfuze\\new_na_birds_dataset\\Valid\\010.Red_winged_Blackbird\n",
      "Deleted: Red_Winged_Blackbird_0105_4842.jpg from C:\\Users\\dwmcc\\Desktop\\Learningfuze\\new_na_birds_dataset\\Train\\010.Red_winged_Blackbird\n",
      "Copied last: Red_Winged_Blackbird_0109_4454.jpg to C:\\Users\\dwmcc\\Desktop\\Learningfuze\\new_na_birds_dataset\\Valid\\010.Red_winged_Blackbird\n",
      "Deleted: Red_Winged_Blackbird_0109_4454.jpg from C:\\Users\\dwmcc\\Desktop\\Learningfuze\\new_na_birds_dataset\\Train\\010.Red_winged_Blackbird\n",
      "Successfully copied the first 4 images to C:\\Users\\dwmcc\\Desktop\\Learningfuze\\new_na_birds_dataset\\Test\\010.Red_winged_Blackbird and the last 4 images to C:\\Users\\dwmcc\\Desktop\\Learningfuze\\new_na_birds_dataset\\Valid\\010.Red_winged_Blackbird, and deleted them from C:\\Users\\dwmcc\\Desktop\\Learningfuze\\new_na_birds_dataset\\Train\\010.Red_winged_Blackbird\n"
     ]
    }
   ],
   "source": [
    "train = r\"C:\\Users\\dwmcc\\Desktop\\Learningfuze\\new_na_birds_dataset\\Train\\010.Red_winged_Blackbird\"\n",
    "test = r\"C:\\Users\\dwmcc\\Desktop\\Learningfuze\\new_na_birds_dataset\\Test\\010.Red_winged_Blackbird\"\n",
    "valid = r\"C:\\Users\\dwmcc\\Desktop\\Learningfuze\\new_na_birds_dataset\\Valid\\010.Red_winged_Blackbird\"\n",
    "\n",
    "nutcracker(train, test, valid)"
   ]
  },
  {
   "cell_type": "code",
   "execution_count": 7,
   "id": "2518edc7",
   "metadata": {},
   "outputs": [
    {
     "name": "stdout",
     "output_type": "stream",
     "text": [
      "Destination folder already exists: C:\\Users\\dwmcc\\Desktop\\Learningfuze\\new_na_birds_dataset\\Test\\012.Yellow_headed_Blackbird\n",
      "Destination folder already exists: C:\\Users\\dwmcc\\Desktop\\Learningfuze\\new_na_birds_dataset\\Valid\\012.Yellow_headed_Blackbird\n",
      "Copied first: Yellow_Headed_Blackbird_0003_8337.jpg to C:\\Users\\dwmcc\\Desktop\\Learningfuze\\new_na_birds_dataset\\Test\\012.Yellow_headed_Blackbird\n",
      "Deleted: Yellow_Headed_Blackbird_0003_8337.jpg from C:\\Users\\dwmcc\\Desktop\\Learningfuze\\new_na_birds_dataset\\Train\\012.Yellow_headed_Blackbird\n",
      "Copied first: Yellow_Headed_Blackbird_0007_8366.jpg to C:\\Users\\dwmcc\\Desktop\\Learningfuze\\new_na_birds_dataset\\Test\\012.Yellow_headed_Blackbird\n",
      "Deleted: Yellow_Headed_Blackbird_0007_8366.jpg from C:\\Users\\dwmcc\\Desktop\\Learningfuze\\new_na_birds_dataset\\Train\\012.Yellow_headed_Blackbird\n",
      "Copied first: Yellow_Headed_Blackbird_0008_8756.jpg to C:\\Users\\dwmcc\\Desktop\\Learningfuze\\new_na_birds_dataset\\Test\\012.Yellow_headed_Blackbird\n",
      "Deleted: Yellow_Headed_Blackbird_0008_8756.jpg from C:\\Users\\dwmcc\\Desktop\\Learningfuze\\new_na_birds_dataset\\Train\\012.Yellow_headed_Blackbird\n",
      "Copied first: Yellow_Headed_Blackbird_0009_8248.jpg to C:\\Users\\dwmcc\\Desktop\\Learningfuze\\new_na_birds_dataset\\Test\\012.Yellow_headed_Blackbird\n",
      "Deleted: Yellow_Headed_Blackbird_0009_8248.jpg from C:\\Users\\dwmcc\\Desktop\\Learningfuze\\new_na_birds_dataset\\Train\\012.Yellow_headed_Blackbird\n",
      "Copied last: Yellow_Headed_Blackbird_0100_8407.jpg to C:\\Users\\dwmcc\\Desktop\\Learningfuze\\new_na_birds_dataset\\Valid\\012.Yellow_headed_Blackbird\n",
      "Deleted: Yellow_Headed_Blackbird_0100_8407.jpg from C:\\Users\\dwmcc\\Desktop\\Learningfuze\\new_na_birds_dataset\\Train\\012.Yellow_headed_Blackbird\n",
      "Copied last: Yellow_Headed_Blackbird_0102_8441.jpg to C:\\Users\\dwmcc\\Desktop\\Learningfuze\\new_na_birds_dataset\\Valid\\012.Yellow_headed_Blackbird\n",
      "Deleted: Yellow_Headed_Blackbird_0102_8441.jpg from C:\\Users\\dwmcc\\Desktop\\Learningfuze\\new_na_birds_dataset\\Train\\012.Yellow_headed_Blackbird\n",
      "Copied last: Yellow_Headed_Blackbird_0108_7937.jpg to C:\\Users\\dwmcc\\Desktop\\Learningfuze\\new_na_birds_dataset\\Valid\\012.Yellow_headed_Blackbird\n",
      "Deleted: Yellow_Headed_Blackbird_0108_7937.jpg from C:\\Users\\dwmcc\\Desktop\\Learningfuze\\new_na_birds_dataset\\Train\\012.Yellow_headed_Blackbird\n",
      "Copied last: Yellow_Headed_Blackbird_0109_8271.jpg to C:\\Users\\dwmcc\\Desktop\\Learningfuze\\new_na_birds_dataset\\Valid\\012.Yellow_headed_Blackbird\n",
      "Deleted: Yellow_Headed_Blackbird_0109_8271.jpg from C:\\Users\\dwmcc\\Desktop\\Learningfuze\\new_na_birds_dataset\\Train\\012.Yellow_headed_Blackbird\n",
      "Successfully copied the first 4 images to C:\\Users\\dwmcc\\Desktop\\Learningfuze\\new_na_birds_dataset\\Test\\012.Yellow_headed_Blackbird and the last 4 images to C:\\Users\\dwmcc\\Desktop\\Learningfuze\\new_na_birds_dataset\\Valid\\012.Yellow_headed_Blackbird, and deleted them from C:\\Users\\dwmcc\\Desktop\\Learningfuze\\new_na_birds_dataset\\Train\\012.Yellow_headed_Blackbird\n"
     ]
    }
   ],
   "source": [
    "train = r\"C:\\Users\\dwmcc\\Desktop\\Learningfuze\\new_na_birds_dataset\\Train\\012.Yellow_headed_Blackbird\"\n",
    "test = r\"C:\\Users\\dwmcc\\Desktop\\Learningfuze\\new_na_birds_dataset\\Test\\012.Yellow_headed_Blackbird\"\n",
    "valid = r\"C:\\Users\\dwmcc\\Desktop\\Learningfuze\\new_na_birds_dataset\\Valid\\012.Yellow_headed_Blackbird\"\n",
    "\n",
    "nutcracker(train, test, valid)"
   ]
  },
  {
   "cell_type": "code",
   "execution_count": 9,
   "id": "b85c50d8",
   "metadata": {},
   "outputs": [
    {
     "name": "stdout",
     "output_type": "stream",
     "text": [
      "Destination folder already exists: C:\\Users\\dwmcc\\Desktop\\Learningfuze\\new_na_birds_dataset\\Test\\023.Brandt_Cormorant\n",
      "Destination folder already exists: C:\\Users\\dwmcc\\Desktop\\Learningfuze\\new_na_birds_dataset\\Valid\\023.Brandt_Cormorant\n",
      "Copied first: Brandt_Cormorant_0001_23398.jpg to C:\\Users\\dwmcc\\Desktop\\Learningfuze\\new_na_birds_dataset\\Test\\023.Brandt_Cormorant\n",
      "Deleted: Brandt_Cormorant_0001_23398.jpg from C:\\Users\\dwmcc\\Desktop\\Learningfuze\\new_na_birds_dataset\\Train\\023.Brandt_Cormorant\n",
      "Copied first: Brandt_Cormorant_0002_23072.jpg to C:\\Users\\dwmcc\\Desktop\\Learningfuze\\new_na_birds_dataset\\Test\\023.Brandt_Cormorant\n",
      "Deleted: Brandt_Cormorant_0002_23072.jpg from C:\\Users\\dwmcc\\Desktop\\Learningfuze\\new_na_birds_dataset\\Train\\023.Brandt_Cormorant\n",
      "Copied first: Brandt_Cormorant_0003_22922.jpg to C:\\Users\\dwmcc\\Desktop\\Learningfuze\\new_na_birds_dataset\\Test\\023.Brandt_Cormorant\n",
      "Deleted: Brandt_Cormorant_0003_22922.jpg from C:\\Users\\dwmcc\\Desktop\\Learningfuze\\new_na_birds_dataset\\Train\\023.Brandt_Cormorant\n",
      "Copied first: Brandt_Cormorant_0006_22925.jpg to C:\\Users\\dwmcc\\Desktop\\Learningfuze\\new_na_birds_dataset\\Test\\023.Brandt_Cormorant\n",
      "Deleted: Brandt_Cormorant_0006_22925.jpg from C:\\Users\\dwmcc\\Desktop\\Learningfuze\\new_na_birds_dataset\\Train\\023.Brandt_Cormorant\n",
      "Copied last: Brandt_Cormorant_0087_23126.jpg to C:\\Users\\dwmcc\\Desktop\\Learningfuze\\new_na_birds_dataset\\Valid\\023.Brandt_Cormorant\n",
      "Deleted: Brandt_Cormorant_0087_23126.jpg from C:\\Users\\dwmcc\\Desktop\\Learningfuze\\new_na_birds_dataset\\Train\\023.Brandt_Cormorant\n",
      "Copied last: Brandt_Cormorant_0088_22948.jpg to C:\\Users\\dwmcc\\Desktop\\Learningfuze\\new_na_birds_dataset\\Valid\\023.Brandt_Cormorant\n",
      "Deleted: Brandt_Cormorant_0088_22948.jpg from C:\\Users\\dwmcc\\Desktop\\Learningfuze\\new_na_birds_dataset\\Train\\023.Brandt_Cormorant\n",
      "Copied last: Brandt_Cormorant_0091_22825.jpg to C:\\Users\\dwmcc\\Desktop\\Learningfuze\\new_na_birds_dataset\\Valid\\023.Brandt_Cormorant\n",
      "Deleted: Brandt_Cormorant_0091_22825.jpg from C:\\Users\\dwmcc\\Desktop\\Learningfuze\\new_na_birds_dataset\\Train\\023.Brandt_Cormorant\n",
      "Copied last: Brandt_Cormorant_0092_23061.jpg to C:\\Users\\dwmcc\\Desktop\\Learningfuze\\new_na_birds_dataset\\Valid\\023.Brandt_Cormorant\n",
      "Deleted: Brandt_Cormorant_0092_23061.jpg from C:\\Users\\dwmcc\\Desktop\\Learningfuze\\new_na_birds_dataset\\Train\\023.Brandt_Cormorant\n",
      "Successfully copied the first 4 images to C:\\Users\\dwmcc\\Desktop\\Learningfuze\\new_na_birds_dataset\\Test\\023.Brandt_Cormorant and the last 4 images to C:\\Users\\dwmcc\\Desktop\\Learningfuze\\new_na_birds_dataset\\Valid\\023.Brandt_Cormorant, and deleted them from C:\\Users\\dwmcc\\Desktop\\Learningfuze\\new_na_birds_dataset\\Train\\023.Brandt_Cormorant\n"
     ]
    }
   ],
   "source": [
    "train = r\"C:\\Users\\dwmcc\\Desktop\\Learningfuze\\new_na_birds_dataset\\Train\\023.Brandt_Cormorant\"\n",
    "test = r\"C:\\Users\\dwmcc\\Desktop\\Learningfuze\\new_na_birds_dataset\\Test\\023.Brandt_Cormorant\"\n",
    "valid = r\"C:\\Users\\dwmcc\\Desktop\\Learningfuze\\new_na_birds_dataset\\Valid\\023.Brandt_Cormorant\"\n",
    "\n",
    "nutcracker(train, test, valid)"
   ]
  },
  {
   "cell_type": "code",
   "execution_count": 8,
   "id": "79d8442c",
   "metadata": {},
   "outputs": [
    {
     "name": "stdout",
     "output_type": "stream",
     "text": [
      "Destination folder already exists: C:\\Users\\dwmcc\\Desktop\\Learningfuze\\new_na_birds_dataset\\Test\\015.Lazuli_Bunting\n",
      "Destination folder already exists: C:\\Users\\dwmcc\\Desktop\\Learningfuze\\new_na_birds_dataset\\Valid\\015.Lazuli_Bunting\n",
      "Copied first: Lazuli_Bunting_0001_14916.jpg to C:\\Users\\dwmcc\\Desktop\\Learningfuze\\new_na_birds_dataset\\Test\\015.Lazuli_Bunting\n",
      "Deleted: Lazuli_Bunting_0001_14916.jpg from C:\\Users\\dwmcc\\Desktop\\Learningfuze\\new_na_birds_dataset\\Train\\015.Lazuli_Bunting\n",
      "Copied first: Lazuli_Bunting_0004_14887.jpg to C:\\Users\\dwmcc\\Desktop\\Learningfuze\\new_na_birds_dataset\\Test\\015.Lazuli_Bunting\n",
      "Deleted: Lazuli_Bunting_0004_14887.jpg from C:\\Users\\dwmcc\\Desktop\\Learningfuze\\new_na_birds_dataset\\Train\\015.Lazuli_Bunting\n",
      "Copied first: Lazuli_Bunting_0008_15195.jpg to C:\\Users\\dwmcc\\Desktop\\Learningfuze\\new_na_birds_dataset\\Test\\015.Lazuli_Bunting\n",
      "Deleted: Lazuli_Bunting_0008_15195.jpg from C:\\Users\\dwmcc\\Desktop\\Learningfuze\\new_na_birds_dataset\\Train\\015.Lazuli_Bunting\n",
      "Copied first: Lazuli_Bunting_0009_15163.jpg to C:\\Users\\dwmcc\\Desktop\\Learningfuze\\new_na_birds_dataset\\Test\\015.Lazuli_Bunting\n",
      "Deleted: Lazuli_Bunting_0009_15163.jpg from C:\\Users\\dwmcc\\Desktop\\Learningfuze\\new_na_birds_dataset\\Train\\015.Lazuli_Bunting\n",
      "Copied last: Lazuli_Bunting_0101_14873.jpg to C:\\Users\\dwmcc\\Desktop\\Learningfuze\\new_na_birds_dataset\\Valid\\015.Lazuli_Bunting\n",
      "Deleted: Lazuli_Bunting_0101_14873.jpg from C:\\Users\\dwmcc\\Desktop\\Learningfuze\\new_na_birds_dataset\\Train\\015.Lazuli_Bunting\n",
      "Copied last: Lazuli_Bunting_0102_14605.jpg to C:\\Users\\dwmcc\\Desktop\\Learningfuze\\new_na_birds_dataset\\Valid\\015.Lazuli_Bunting\n",
      "Deleted: Lazuli_Bunting_0102_14605.jpg from C:\\Users\\dwmcc\\Desktop\\Learningfuze\\new_na_birds_dataset\\Train\\015.Lazuli_Bunting\n",
      "Copied last: Lazuli_Bunting_0105_15017.jpg to C:\\Users\\dwmcc\\Desktop\\Learningfuze\\new_na_birds_dataset\\Valid\\015.Lazuli_Bunting\n",
      "Deleted: Lazuli_Bunting_0105_15017.jpg from C:\\Users\\dwmcc\\Desktop\\Learningfuze\\new_na_birds_dataset\\Train\\015.Lazuli_Bunting\n",
      "Copied last: Lazuli_Bunting_0107_14705.jpg to C:\\Users\\dwmcc\\Desktop\\Learningfuze\\new_na_birds_dataset\\Valid\\015.Lazuli_Bunting\n",
      "Deleted: Lazuli_Bunting_0107_14705.jpg from C:\\Users\\dwmcc\\Desktop\\Learningfuze\\new_na_birds_dataset\\Train\\015.Lazuli_Bunting\n",
      "Successfully copied the first 4 images to C:\\Users\\dwmcc\\Desktop\\Learningfuze\\new_na_birds_dataset\\Test\\015.Lazuli_Bunting and the last 4 images to C:\\Users\\dwmcc\\Desktop\\Learningfuze\\new_na_birds_dataset\\Valid\\015.Lazuli_Bunting, and deleted them from C:\\Users\\dwmcc\\Desktop\\Learningfuze\\new_na_birds_dataset\\Train\\015.Lazuli_Bunting\n"
     ]
    }
   ],
   "source": [
    "train = r\"C:\\Users\\dwmcc\\Desktop\\Learningfuze\\new_na_birds_dataset\\Train\\015.Lazuli_Bunting\"\n",
    "test = r\"C:\\Users\\dwmcc\\Desktop\\Learningfuze\\new_na_birds_dataset\\Test\\015.Lazuli_Bunting\"\n",
    "valid = r\"C:\\Users\\dwmcc\\Desktop\\Learningfuze\\new_na_birds_dataset\\Valid\\015.Lazuli_Bunting\"\n",
    "\n",
    "nutcracker(train, test, valid)"
   ]
  },
  {
   "cell_type": "code",
   "execution_count": 10,
   "id": "eedfb50d",
   "metadata": {},
   "outputs": [
    {
     "name": "stdout",
     "output_type": "stream",
     "text": [
      "Destination folder already exists: C:\\Users\\dwmcc\\Desktop\\Learningfuze\\new_na_birds_dataset\\Test\\028.Brown_Creeper\n",
      "Destination folder already exists: C:\\Users\\dwmcc\\Desktop\\Learningfuze\\new_na_birds_dataset\\Valid\\028.Brown_Creeper\n",
      "Copied first: Brown_Creeper_0001_24449.jpg to C:\\Users\\dwmcc\\Desktop\\Learningfuze\\new_na_birds_dataset\\Test\\028.Brown_Creeper\n",
      "Deleted: Brown_Creeper_0001_24449.jpg from C:\\Users\\dwmcc\\Desktop\\Learningfuze\\new_na_birds_dataset\\Train\\028.Brown_Creeper\n",
      "Copied first: Brown_Creeper_0002_24838.jpg to C:\\Users\\dwmcc\\Desktop\\Learningfuze\\new_na_birds_dataset\\Test\\028.Brown_Creeper\n",
      "Deleted: Brown_Creeper_0002_24838.jpg from C:\\Users\\dwmcc\\Desktop\\Learningfuze\\new_na_birds_dataset\\Train\\028.Brown_Creeper\n",
      "Copied first: Brown_Creeper_0004_24851.jpg to C:\\Users\\dwmcc\\Desktop\\Learningfuze\\new_na_birds_dataset\\Test\\028.Brown_Creeper\n",
      "Deleted: Brown_Creeper_0004_24851.jpg from C:\\Users\\dwmcc\\Desktop\\Learningfuze\\new_na_birds_dataset\\Train\\028.Brown_Creeper\n",
      "Copied first: Brown_Creeper_0005_24659.jpg to C:\\Users\\dwmcc\\Desktop\\Learningfuze\\new_na_birds_dataset\\Test\\028.Brown_Creeper\n",
      "Deleted: Brown_Creeper_0005_24659.jpg from C:\\Users\\dwmcc\\Desktop\\Learningfuze\\new_na_birds_dataset\\Train\\028.Brown_Creeper\n",
      "Copied last: Brown_Creeper_0123_24589.jpg to C:\\Users\\dwmcc\\Desktop\\Learningfuze\\new_na_birds_dataset\\Valid\\028.Brown_Creeper\n",
      "Deleted: Brown_Creeper_0123_24589.jpg from C:\\Users\\dwmcc\\Desktop\\Learningfuze\\new_na_birds_dataset\\Train\\028.Brown_Creeper\n",
      "Copied last: Brown_Creeper_0124_24963.jpg to C:\\Users\\dwmcc\\Desktop\\Learningfuze\\new_na_birds_dataset\\Valid\\028.Brown_Creeper\n",
      "Deleted: Brown_Creeper_0124_24963.jpg from C:\\Users\\dwmcc\\Desktop\\Learningfuze\\new_na_birds_dataset\\Train\\028.Brown_Creeper\n",
      "Copied last: Brown_Creeper_0125_24995.jpg to C:\\Users\\dwmcc\\Desktop\\Learningfuze\\new_na_birds_dataset\\Valid\\028.Brown_Creeper\n",
      "Deleted: Brown_Creeper_0125_24995.jpg from C:\\Users\\dwmcc\\Desktop\\Learningfuze\\new_na_birds_dataset\\Train\\028.Brown_Creeper\n",
      "Copied last: Brown_Creeper_0127_24656.jpg to C:\\Users\\dwmcc\\Desktop\\Learningfuze\\new_na_birds_dataset\\Valid\\028.Brown_Creeper\n",
      "Deleted: Brown_Creeper_0127_24656.jpg from C:\\Users\\dwmcc\\Desktop\\Learningfuze\\new_na_birds_dataset\\Train\\028.Brown_Creeper\n",
      "Successfully copied the first 4 images to C:\\Users\\dwmcc\\Desktop\\Learningfuze\\new_na_birds_dataset\\Test\\028.Brown_Creeper and the last 4 images to C:\\Users\\dwmcc\\Desktop\\Learningfuze\\new_na_birds_dataset\\Valid\\028.Brown_Creeper, and deleted them from C:\\Users\\dwmcc\\Desktop\\Learningfuze\\new_na_birds_dataset\\Train\\028.Brown_Creeper\n"
     ]
    }
   ],
   "source": [
    "train = r\"C:\\Users\\dwmcc\\Desktop\\Learningfuze\\new_na_birds_dataset\\Train\\028.Brown_Creeper\"\n",
    "test = r\"C:\\Users\\dwmcc\\Desktop\\Learningfuze\\new_na_birds_dataset\\Test\\028.Brown_Creeper\"\n",
    "valid = r\"C:\\Users\\dwmcc\\Desktop\\Learningfuze\\new_na_birds_dataset\\Valid\\028.Brown_Creeper\"\n",
    "\n",
    "nutcracker(train, test, valid)"
   ]
  },
  {
   "cell_type": "code",
   "execution_count": 11,
   "id": "c17956c1",
   "metadata": {},
   "outputs": [
    {
     "name": "stdout",
     "output_type": "stream",
     "text": [
      "Destination folder already exists: C:\\Users\\dwmcc\\Desktop\\Learningfuze\\new_na_birds_dataset\\Test\\035.Purple_Finch\n",
      "Destination folder already exists: C:\\Users\\dwmcc\\Desktop\\Learningfuze\\new_na_birds_dataset\\Valid\\035.Purple_Finch\n",
      "Copied first: Purple_Finch_0001_27571.jpg to C:\\Users\\dwmcc\\Desktop\\Learningfuze\\new_na_birds_dataset\\Test\\035.Purple_Finch\n",
      "Deleted: Purple_Finch_0001_27571.jpg from C:\\Users\\dwmcc\\Desktop\\Learningfuze\\new_na_birds_dataset\\Train\\035.Purple_Finch\n",
      "Copied first: Purple_Finch_0002_27266.jpg to C:\\Users\\dwmcc\\Desktop\\Learningfuze\\new_na_birds_dataset\\Test\\035.Purple_Finch\n",
      "Deleted: Purple_Finch_0002_27266.jpg from C:\\Users\\dwmcc\\Desktop\\Learningfuze\\new_na_birds_dataset\\Train\\035.Purple_Finch\n",
      "Copied first: Purple_Finch_0004_27565.jpg to C:\\Users\\dwmcc\\Desktop\\Learningfuze\\new_na_birds_dataset\\Test\\035.Purple_Finch\n",
      "Deleted: Purple_Finch_0004_27565.jpg from C:\\Users\\dwmcc\\Desktop\\Learningfuze\\new_na_birds_dataset\\Train\\035.Purple_Finch\n",
      "Copied first: Purple_Finch_0005_27512.jpg to C:\\Users\\dwmcc\\Desktop\\Learningfuze\\new_na_birds_dataset\\Test\\035.Purple_Finch\n",
      "Deleted: Purple_Finch_0005_27512.jpg from C:\\Users\\dwmcc\\Desktop\\Learningfuze\\new_na_birds_dataset\\Train\\035.Purple_Finch\n",
      "Copied last: Purple_Finch_0124_27567.jpg to C:\\Users\\dwmcc\\Desktop\\Learningfuze\\new_na_birds_dataset\\Valid\\035.Purple_Finch\n",
      "Deleted: Purple_Finch_0124_27567.jpg from C:\\Users\\dwmcc\\Desktop\\Learningfuze\\new_na_birds_dataset\\Train\\035.Purple_Finch\n",
      "Copied last: Purple_Finch_0130_27555.jpg to C:\\Users\\dwmcc\\Desktop\\Learningfuze\\new_na_birds_dataset\\Valid\\035.Purple_Finch\n",
      "Deleted: Purple_Finch_0130_27555.jpg from C:\\Users\\dwmcc\\Desktop\\Learningfuze\\new_na_birds_dataset\\Train\\035.Purple_Finch\n",
      "Copied last: Purple_Finch_0133_27928.jpg to C:\\Users\\dwmcc\\Desktop\\Learningfuze\\new_na_birds_dataset\\Valid\\035.Purple_Finch\n",
      "Deleted: Purple_Finch_0133_27928.jpg from C:\\Users\\dwmcc\\Desktop\\Learningfuze\\new_na_birds_dataset\\Train\\035.Purple_Finch\n",
      "Copied last: Purple_Finch_0134_27526.jpg to C:\\Users\\dwmcc\\Desktop\\Learningfuze\\new_na_birds_dataset\\Valid\\035.Purple_Finch\n",
      "Deleted: Purple_Finch_0134_27526.jpg from C:\\Users\\dwmcc\\Desktop\\Learningfuze\\new_na_birds_dataset\\Train\\035.Purple_Finch\n",
      "Successfully copied the first 4 images to C:\\Users\\dwmcc\\Desktop\\Learningfuze\\new_na_birds_dataset\\Test\\035.Purple_Finch and the last 4 images to C:\\Users\\dwmcc\\Desktop\\Learningfuze\\new_na_birds_dataset\\Valid\\035.Purple_Finch, and deleted them from C:\\Users\\dwmcc\\Desktop\\Learningfuze\\new_na_birds_dataset\\Train\\035.Purple_Finch\n"
     ]
    }
   ],
   "source": [
    "train = r\"C:\\Users\\dwmcc\\Desktop\\Learningfuze\\new_na_birds_dataset\\Train\\035.Purple_Finch\"\n",
    "test = r\"C:\\Users\\dwmcc\\Desktop\\Learningfuze\\new_na_birds_dataset\\Test\\035.Purple_Finch\"\n",
    "valid = r\"C:\\Users\\dwmcc\\Desktop\\Learningfuze\\new_na_birds_dataset\\Valid\\035.Purple_Finch\"\n",
    "\n",
    "nutcracker(train, test, valid)"
   ]
  },
  {
   "cell_type": "code",
   "execution_count": 12,
   "id": "67dc067f",
   "metadata": {},
   "outputs": [
    {
     "name": "stdout",
     "output_type": "stream",
     "text": [
      "Destination folder already exists: C:\\Users\\dwmcc\\Desktop\\Learningfuze\\new_na_birds_dataset\\Test\\036.Northern_Flicker\n",
      "Destination folder already exists: C:\\Users\\dwmcc\\Desktop\\Learningfuze\\new_na_birds_dataset\\Valid\\036.Northern_Flicker\n",
      "Copied first: Northern_Flicker_0004_28854.jpg to C:\\Users\\dwmcc\\Desktop\\Learningfuze\\new_na_birds_dataset\\Test\\036.Northern_Flicker\n",
      "Deleted: Northern_Flicker_0004_28854.jpg from C:\\Users\\dwmcc\\Desktop\\Learningfuze\\new_na_birds_dataset\\Train\\036.Northern_Flicker\n",
      "Copied first: Northern_Flicker_0006_28290.jpg to C:\\Users\\dwmcc\\Desktop\\Learningfuze\\new_na_birds_dataset\\Test\\036.Northern_Flicker\n",
      "Deleted: Northern_Flicker_0006_28290.jpg from C:\\Users\\dwmcc\\Desktop\\Learningfuze\\new_na_birds_dataset\\Train\\036.Northern_Flicker\n",
      "Copied first: Northern_Flicker_0008_28591.jpg to C:\\Users\\dwmcc\\Desktop\\Learningfuze\\new_na_birds_dataset\\Test\\036.Northern_Flicker\n",
      "Deleted: Northern_Flicker_0008_28591.jpg from C:\\Users\\dwmcc\\Desktop\\Learningfuze\\new_na_birds_dataset\\Train\\036.Northern_Flicker\n",
      "Copied first: Northern_Flicker_0011_28466.jpg to C:\\Users\\dwmcc\\Desktop\\Learningfuze\\new_na_birds_dataset\\Test\\036.Northern_Flicker\n",
      "Deleted: Northern_Flicker_0011_28466.jpg from C:\\Users\\dwmcc\\Desktop\\Learningfuze\\new_na_birds_dataset\\Train\\036.Northern_Flicker\n",
      "Copied last: Northern_Flicker_0135_28291.jpg to C:\\Users\\dwmcc\\Desktop\\Learningfuze\\new_na_birds_dataset\\Valid\\036.Northern_Flicker\n",
      "Deleted: Northern_Flicker_0135_28291.jpg from C:\\Users\\dwmcc\\Desktop\\Learningfuze\\new_na_birds_dataset\\Train\\036.Northern_Flicker\n",
      "Copied last: Northern_Flicker_0136_28918.jpg to C:\\Users\\dwmcc\\Desktop\\Learningfuze\\new_na_birds_dataset\\Valid\\036.Northern_Flicker\n",
      "Deleted: Northern_Flicker_0136_28918.jpg from C:\\Users\\dwmcc\\Desktop\\Learningfuze\\new_na_birds_dataset\\Train\\036.Northern_Flicker\n",
      "Copied last: Northern_Flicker_0138_28476.jpg to C:\\Users\\dwmcc\\Desktop\\Learningfuze\\new_na_birds_dataset\\Valid\\036.Northern_Flicker\n",
      "Deleted: Northern_Flicker_0138_28476.jpg from C:\\Users\\dwmcc\\Desktop\\Learningfuze\\new_na_birds_dataset\\Train\\036.Northern_Flicker\n",
      "Copied last: Northern_Flicker_0139_28419.jpg to C:\\Users\\dwmcc\\Desktop\\Learningfuze\\new_na_birds_dataset\\Valid\\036.Northern_Flicker\n",
      "Deleted: Northern_Flicker_0139_28419.jpg from C:\\Users\\dwmcc\\Desktop\\Learningfuze\\new_na_birds_dataset\\Train\\036.Northern_Flicker\n",
      "Successfully copied the first 4 images to C:\\Users\\dwmcc\\Desktop\\Learningfuze\\new_na_birds_dataset\\Test\\036.Northern_Flicker and the last 4 images to C:\\Users\\dwmcc\\Desktop\\Learningfuze\\new_na_birds_dataset\\Valid\\036.Northern_Flicker, and deleted them from C:\\Users\\dwmcc\\Desktop\\Learningfuze\\new_na_birds_dataset\\Train\\036.Northern_Flicker\n"
     ]
    }
   ],
   "source": [
    "train = r\"C:\\Users\\dwmcc\\Desktop\\Learningfuze\\new_na_birds_dataset\\Train\\036.Northern_Flicker\"\n",
    "test = r\"C:\\Users\\dwmcc\\Desktop\\Learningfuze\\new_na_birds_dataset\\Test\\036.Northern_Flicker\"\n",
    "valid = r\"C:\\Users\\dwmcc\\Desktop\\Learningfuze\\new_na_birds_dataset\\Valid\\036.Northern_Flicker\"\n",
    "\n",
    "nutcracker(train, test, valid)"
   ]
  },
  {
   "cell_type": "code",
   "execution_count": 13,
   "id": "7afe48f6",
   "metadata": {},
   "outputs": [
    {
     "name": "stdout",
     "output_type": "stream",
     "text": [
      "Destination folder already exists: C:\\Users\\dwmcc\\Desktop\\Learningfuze\\new_na_birds_dataset\\Test\\042.Vermilion_Flycatcher\n",
      "Destination folder already exists: C:\\Users\\dwmcc\\Desktop\\Learningfuze\\new_na_birds_dataset\\Valid\\042.Vermilion_Flycatcher\n",
      "Copied first: Vermilion_Flycatcher_0002_42390.jpg to C:\\Users\\dwmcc\\Desktop\\Learningfuze\\new_na_birds_dataset\\Test\\042.Vermilion_Flycatcher\n",
      "Deleted: Vermilion_Flycatcher_0002_42390.jpg from C:\\Users\\dwmcc\\Desktop\\Learningfuze\\new_na_birds_dataset\\Train\\042.Vermilion_Flycatcher\n",
      "Copied first: Vermilion_Flycatcher_0003_42316.jpg to C:\\Users\\dwmcc\\Desktop\\Learningfuze\\new_na_birds_dataset\\Test\\042.Vermilion_Flycatcher\n",
      "Deleted: Vermilion_Flycatcher_0003_42316.jpg from C:\\Users\\dwmcc\\Desktop\\Learningfuze\\new_na_birds_dataset\\Train\\042.Vermilion_Flycatcher\n",
      "Copied first: Vermilion_Flycatcher_0004_42395.jpg to C:\\Users\\dwmcc\\Desktop\\Learningfuze\\new_na_birds_dataset\\Test\\042.Vermilion_Flycatcher\n",
      "Deleted: Vermilion_Flycatcher_0004_42395.jpg from C:\\Users\\dwmcc\\Desktop\\Learningfuze\\new_na_birds_dataset\\Train\\042.Vermilion_Flycatcher\n",
      "Copied first: Vermilion_Flycatcher_0005_42478.jpg to C:\\Users\\dwmcc\\Desktop\\Learningfuze\\new_na_birds_dataset\\Test\\042.Vermilion_Flycatcher\n",
      "Deleted: Vermilion_Flycatcher_0005_42478.jpg from C:\\Users\\dwmcc\\Desktop\\Learningfuze\\new_na_birds_dataset\\Train\\042.Vermilion_Flycatcher\n",
      "Copied last: Vermilion_Flycatcher_0070_42250.jpg to C:\\Users\\dwmcc\\Desktop\\Learningfuze\\new_na_birds_dataset\\Valid\\042.Vermilion_Flycatcher\n",
      "Deleted: Vermilion_Flycatcher_0070_42250.jpg from C:\\Users\\dwmcc\\Desktop\\Learningfuze\\new_na_birds_dataset\\Train\\042.Vermilion_Flycatcher\n",
      "Copied last: Vermilion_Flycatcher_0071_42429.jpg to C:\\Users\\dwmcc\\Desktop\\Learningfuze\\new_na_birds_dataset\\Valid\\042.Vermilion_Flycatcher\n",
      "Deleted: Vermilion_Flycatcher_0071_42429.jpg from C:\\Users\\dwmcc\\Desktop\\Learningfuze\\new_na_birds_dataset\\Train\\042.Vermilion_Flycatcher\n",
      "Copied last: Vermilion_Flycatcher_0072_42218.jpg to C:\\Users\\dwmcc\\Desktop\\Learningfuze\\new_na_birds_dataset\\Valid\\042.Vermilion_Flycatcher\n",
      "Deleted: Vermilion_Flycatcher_0072_42218.jpg from C:\\Users\\dwmcc\\Desktop\\Learningfuze\\new_na_birds_dataset\\Train\\042.Vermilion_Flycatcher\n",
      "Copied last: Vermilion_Flycatcher_0073_42573.jpg to C:\\Users\\dwmcc\\Desktop\\Learningfuze\\new_na_birds_dataset\\Valid\\042.Vermilion_Flycatcher\n",
      "Deleted: Vermilion_Flycatcher_0073_42573.jpg from C:\\Users\\dwmcc\\Desktop\\Learningfuze\\new_na_birds_dataset\\Train\\042.Vermilion_Flycatcher\n",
      "Successfully copied the first 4 images to C:\\Users\\dwmcc\\Desktop\\Learningfuze\\new_na_birds_dataset\\Test\\042.Vermilion_Flycatcher and the last 4 images to C:\\Users\\dwmcc\\Desktop\\Learningfuze\\new_na_birds_dataset\\Valid\\042.Vermilion_Flycatcher, and deleted them from C:\\Users\\dwmcc\\Desktop\\Learningfuze\\new_na_birds_dataset\\Train\\042.Vermilion_Flycatcher\n"
     ]
    }
   ],
   "source": [
    "train = r\"C:\\Users\\dwmcc\\Desktop\\Learningfuze\\new_na_birds_dataset\\Train\\042.Vermilion_Flycatcher\"\n",
    "test = r\"C:\\Users\\dwmcc\\Desktop\\Learningfuze\\new_na_birds_dataset\\Test\\042.Vermilion_Flycatcher\"\n",
    "valid = r\"C:\\Users\\dwmcc\\Desktop\\Learningfuze\\new_na_birds_dataset\\Valid\\042.Vermilion_Flycatcher\"\n",
    "\n",
    "nutcracker(train, test, valid)"
   ]
  },
  {
   "cell_type": "code",
   "execution_count": 14,
   "id": "46217d99",
   "metadata": {},
   "outputs": [
    {
     "name": "stdout",
     "output_type": "stream",
     "text": [
      "Destination folder already exists: C:\\Users\\dwmcc\\Desktop\\Learningfuze\\new_na_birds_dataset\\Test\\047.American_Goldfinch\n",
      "Destination folder already exists: C:\\Users\\dwmcc\\Desktop\\Learningfuze\\new_na_birds_dataset\\Valid\\047.American_Goldfinch\n",
      "Copied first: American_Goldfinch_0001_32306.jpg to C:\\Users\\dwmcc\\Desktop\\Learningfuze\\new_na_birds_dataset\\Test\\047.American_Goldfinch\n",
      "Deleted: American_Goldfinch_0001_32306.jpg from C:\\Users\\dwmcc\\Desktop\\Learningfuze\\new_na_birds_dataset\\Train\\047.American_Goldfinch\n",
      "Copied first: American_Goldfinch_0003_32236.jpg to C:\\Users\\dwmcc\\Desktop\\Learningfuze\\new_na_birds_dataset\\Test\\047.American_Goldfinch\n",
      "Deleted: American_Goldfinch_0003_32236.jpg from C:\\Users\\dwmcc\\Desktop\\Learningfuze\\new_na_birds_dataset\\Train\\047.American_Goldfinch\n",
      "Copied first: American_Goldfinch_0004_31903.jpg to C:\\Users\\dwmcc\\Desktop\\Learningfuze\\new_na_birds_dataset\\Test\\047.American_Goldfinch\n",
      "Deleted: American_Goldfinch_0004_31903.jpg from C:\\Users\\dwmcc\\Desktop\\Learningfuze\\new_na_birds_dataset\\Train\\047.American_Goldfinch\n",
      "Copied first: American_Goldfinch_0012_32338.jpg to C:\\Users\\dwmcc\\Desktop\\Learningfuze\\new_na_birds_dataset\\Test\\047.American_Goldfinch\n",
      "Deleted: American_Goldfinch_0012_32338.jpg from C:\\Users\\dwmcc\\Desktop\\Learningfuze\\new_na_birds_dataset\\Train\\047.American_Goldfinch\n",
      "Copied last: American_Goldfinch_0133_32802.jpg to C:\\Users\\dwmcc\\Desktop\\Learningfuze\\new_na_birds_dataset\\Valid\\047.American_Goldfinch\n",
      "Deleted: American_Goldfinch_0133_32802.jpg from C:\\Users\\dwmcc\\Desktop\\Learningfuze\\new_na_birds_dataset\\Train\\047.American_Goldfinch\n",
      "Copied last: American_Goldfinch_0134_32409.jpg to C:\\Users\\dwmcc\\Desktop\\Learningfuze\\new_na_birds_dataset\\Valid\\047.American_Goldfinch\n",
      "Deleted: American_Goldfinch_0134_32409.jpg from C:\\Users\\dwmcc\\Desktop\\Learningfuze\\new_na_birds_dataset\\Train\\047.American_Goldfinch\n",
      "Copied last: American_Goldfinch_0135_32107.jpg to C:\\Users\\dwmcc\\Desktop\\Learningfuze\\new_na_birds_dataset\\Valid\\047.American_Goldfinch\n",
      "Deleted: American_Goldfinch_0135_32107.jpg from C:\\Users\\dwmcc\\Desktop\\Learningfuze\\new_na_birds_dataset\\Train\\047.American_Goldfinch\n",
      "Copied last: American_Goldfinch_0136_32277.jpg to C:\\Users\\dwmcc\\Desktop\\Learningfuze\\new_na_birds_dataset\\Valid\\047.American_Goldfinch\n",
      "Deleted: American_Goldfinch_0136_32277.jpg from C:\\Users\\dwmcc\\Desktop\\Learningfuze\\new_na_birds_dataset\\Train\\047.American_Goldfinch\n",
      "Successfully copied the first 4 images to C:\\Users\\dwmcc\\Desktop\\Learningfuze\\new_na_birds_dataset\\Test\\047.American_Goldfinch and the last 4 images to C:\\Users\\dwmcc\\Desktop\\Learningfuze\\new_na_birds_dataset\\Valid\\047.American_Goldfinch, and deleted them from C:\\Users\\dwmcc\\Desktop\\Learningfuze\\new_na_birds_dataset\\Train\\047.American_Goldfinch\n"
     ]
    }
   ],
   "source": [
    "train = r\"C:\\Users\\dwmcc\\Desktop\\Learningfuze\\new_na_birds_dataset\\Train\\047.American_Goldfinch\"\n",
    "test = r\"C:\\Users\\dwmcc\\Desktop\\Learningfuze\\new_na_birds_dataset\\Test\\047.American_Goldfinch\"\n",
    "valid = r\"C:\\Users\\dwmcc\\Desktop\\Learningfuze\\new_na_birds_dataset\\Valid\\047.American_Goldfinch\"\n",
    "\n",
    "nutcracker(train, test, valid)"
   ]
  },
  {
   "cell_type": "code",
   "execution_count": 15,
   "id": "c8d8b0b7",
   "metadata": {},
   "outputs": [
    {
     "name": "stdout",
     "output_type": "stream",
     "text": [
      "Destination folder already exists: C:\\Users\\dwmcc\\Desktop\\Learningfuze\\new_na_birds_dataset\\Test\\051.Horned_Grebe\n",
      "Destination folder already exists: C:\\Users\\dwmcc\\Desktop\\Learningfuze\\new_na_birds_dataset\\Valid\\051.Horned_Grebe\n",
      "Copied first: Horned_Grebe_0001_34723.jpg to C:\\Users\\dwmcc\\Desktop\\Learningfuze\\new_na_birds_dataset\\Test\\051.Horned_Grebe\n",
      "Deleted: Horned_Grebe_0001_34723.jpg from C:\\Users\\dwmcc\\Desktop\\Learningfuze\\new_na_birds_dataset\\Train\\051.Horned_Grebe\n",
      "Copied first: Horned_Grebe_0002_34577.jpg to C:\\Users\\dwmcc\\Desktop\\Learningfuze\\new_na_birds_dataset\\Test\\051.Horned_Grebe\n",
      "Deleted: Horned_Grebe_0002_34577.jpg from C:\\Users\\dwmcc\\Desktop\\Learningfuze\\new_na_birds_dataset\\Train\\051.Horned_Grebe\n",
      "Copied first: Horned_Grebe_0003_34983.jpg to C:\\Users\\dwmcc\\Desktop\\Learningfuze\\new_na_birds_dataset\\Test\\051.Horned_Grebe\n",
      "Deleted: Horned_Grebe_0003_34983.jpg from C:\\Users\\dwmcc\\Desktop\\Learningfuze\\new_na_birds_dataset\\Train\\051.Horned_Grebe\n",
      "Copied first: Horned_Grebe_0005_34657.jpg to C:\\Users\\dwmcc\\Desktop\\Learningfuze\\new_na_birds_dataset\\Test\\051.Horned_Grebe\n",
      "Deleted: Horned_Grebe_0005_34657.jpg from C:\\Users\\dwmcc\\Desktop\\Learningfuze\\new_na_birds_dataset\\Train\\051.Horned_Grebe\n",
      "Copied last: Horned_Grebe_0106_35112.jpg to C:\\Users\\dwmcc\\Desktop\\Learningfuze\\new_na_birds_dataset\\Valid\\051.Horned_Grebe\n",
      "Deleted: Horned_Grebe_0106_35112.jpg from C:\\Users\\dwmcc\\Desktop\\Learningfuze\\new_na_birds_dataset\\Train\\051.Horned_Grebe\n",
      "Copied last: Horned_Grebe_0110_35012.jpg to C:\\Users\\dwmcc\\Desktop\\Learningfuze\\new_na_birds_dataset\\Valid\\051.Horned_Grebe\n",
      "Deleted: Horned_Grebe_0110_35012.jpg from C:\\Users\\dwmcc\\Desktop\\Learningfuze\\new_na_birds_dataset\\Train\\051.Horned_Grebe\n",
      "Copied last: Horned_Grebe_0112_34864.jpg to C:\\Users\\dwmcc\\Desktop\\Learningfuze\\new_na_birds_dataset\\Valid\\051.Horned_Grebe\n",
      "Deleted: Horned_Grebe_0112_34864.jpg from C:\\Users\\dwmcc\\Desktop\\Learningfuze\\new_na_birds_dataset\\Train\\051.Horned_Grebe\n",
      "Copied last: Horned_Grebe_0114_34517.jpg to C:\\Users\\dwmcc\\Desktop\\Learningfuze\\new_na_birds_dataset\\Valid\\051.Horned_Grebe\n",
      "Deleted: Horned_Grebe_0114_34517.jpg from C:\\Users\\dwmcc\\Desktop\\Learningfuze\\new_na_birds_dataset\\Train\\051.Horned_Grebe\n",
      "Successfully copied the first 4 images to C:\\Users\\dwmcc\\Desktop\\Learningfuze\\new_na_birds_dataset\\Test\\051.Horned_Grebe and the last 4 images to C:\\Users\\dwmcc\\Desktop\\Learningfuze\\new_na_birds_dataset\\Valid\\051.Horned_Grebe, and deleted them from C:\\Users\\dwmcc\\Desktop\\Learningfuze\\new_na_birds_dataset\\Train\\051.Horned_Grebe\n"
     ]
    }
   ],
   "source": [
    "train = r\"C:\\Users\\dwmcc\\Desktop\\Learningfuze\\new_na_birds_dataset\\Train\\051.Horned_Grebe\"\n",
    "test = r\"C:\\Users\\dwmcc\\Desktop\\Learningfuze\\new_na_birds_dataset\\Test\\051.Horned_Grebe\"\n",
    "valid = r\"C:\\Users\\dwmcc\\Desktop\\Learningfuze\\new_na_birds_dataset\\Valid\\051.Horned_Grebe\"\n",
    "\n",
    "nutcracker(train, test, valid)"
   ]
  },
  {
   "cell_type": "code",
   "execution_count": 16,
   "id": "9fa34607",
   "metadata": {},
   "outputs": [
    {
     "name": "stdout",
     "output_type": "stream",
     "text": [
      "Destination folder already exists: C:\\Users\\dwmcc\\Desktop\\Learningfuze\\new_na_birds_dataset\\Test\\058.Pigeon_Guillemot\n",
      "Destination folder already exists: C:\\Users\\dwmcc\\Desktop\\Learningfuze\\new_na_birds_dataset\\Valid\\058.Pigeon_Guillemot\n",
      "Copied first: Pigeon_Guillemot_0003_39986.jpg to C:\\Users\\dwmcc\\Desktop\\Learningfuze\\new_na_birds_dataset\\Test\\058.Pigeon_Guillemot\n",
      "Deleted: Pigeon_Guillemot_0003_39986.jpg from C:\\Users\\dwmcc\\Desktop\\Learningfuze\\new_na_birds_dataset\\Train\\058.Pigeon_Guillemot\n",
      "Copied first: Pigeon_Guillemot_0005_40375.jpg to C:\\Users\\dwmcc\\Desktop\\Learningfuze\\new_na_birds_dataset\\Test\\058.Pigeon_Guillemot\n",
      "Deleted: Pigeon_Guillemot_0005_40375.jpg from C:\\Users\\dwmcc\\Desktop\\Learningfuze\\new_na_birds_dataset\\Train\\058.Pigeon_Guillemot\n",
      "Copied first: Pigeon_Guillemot_0007_40313.jpg to C:\\Users\\dwmcc\\Desktop\\Learningfuze\\new_na_birds_dataset\\Test\\058.Pigeon_Guillemot\n",
      "Deleted: Pigeon_Guillemot_0007_40313.jpg from C:\\Users\\dwmcc\\Desktop\\Learningfuze\\new_na_birds_dataset\\Train\\058.Pigeon_Guillemot\n",
      "Copied first: Pigeon_Guillemot_0009_40218.jpg to C:\\Users\\dwmcc\\Desktop\\Learningfuze\\new_na_birds_dataset\\Test\\058.Pigeon_Guillemot\n",
      "Deleted: Pigeon_Guillemot_0009_40218.jpg from C:\\Users\\dwmcc\\Desktop\\Learningfuze\\new_na_birds_dataset\\Train\\058.Pigeon_Guillemot\n",
      "Copied last: Pigeon_Guillemot_0103_39882.jpg to C:\\Users\\dwmcc\\Desktop\\Learningfuze\\new_na_birds_dataset\\Valid\\058.Pigeon_Guillemot\n",
      "Deleted: Pigeon_Guillemot_0103_39882.jpg from C:\\Users\\dwmcc\\Desktop\\Learningfuze\\new_na_birds_dataset\\Train\\058.Pigeon_Guillemot\n",
      "Copied last: Pigeon_Guillemot_0105_40078.jpg to C:\\Users\\dwmcc\\Desktop\\Learningfuze\\new_na_birds_dataset\\Valid\\058.Pigeon_Guillemot\n",
      "Deleted: Pigeon_Guillemot_0105_40078.jpg from C:\\Users\\dwmcc\\Desktop\\Learningfuze\\new_na_birds_dataset\\Train\\058.Pigeon_Guillemot\n",
      "Copied last: Pigeon_Guillemot_0108_40235.jpg to C:\\Users\\dwmcc\\Desktop\\Learningfuze\\new_na_birds_dataset\\Valid\\058.Pigeon_Guillemot\n",
      "Deleted: Pigeon_Guillemot_0108_40235.jpg from C:\\Users\\dwmcc\\Desktop\\Learningfuze\\new_na_birds_dataset\\Train\\058.Pigeon_Guillemot\n",
      "Copied last: Pigeon_Guillemot_0109_39872.jpg to C:\\Users\\dwmcc\\Desktop\\Learningfuze\\new_na_birds_dataset\\Valid\\058.Pigeon_Guillemot\n",
      "Deleted: Pigeon_Guillemot_0109_39872.jpg from C:\\Users\\dwmcc\\Desktop\\Learningfuze\\new_na_birds_dataset\\Train\\058.Pigeon_Guillemot\n",
      "Successfully copied the first 4 images to C:\\Users\\dwmcc\\Desktop\\Learningfuze\\new_na_birds_dataset\\Test\\058.Pigeon_Guillemot and the last 4 images to C:\\Users\\dwmcc\\Desktop\\Learningfuze\\new_na_birds_dataset\\Valid\\058.Pigeon_Guillemot, and deleted them from C:\\Users\\dwmcc\\Desktop\\Learningfuze\\new_na_birds_dataset\\Train\\058.Pigeon_Guillemot\n"
     ]
    }
   ],
   "source": [
    "train = r\"C:\\Users\\dwmcc\\Desktop\\Learningfuze\\new_na_birds_dataset\\Train\\058.Pigeon_Guillemot\"\n",
    "test = r\"C:\\Users\\dwmcc\\Desktop\\Learningfuze\\new_na_birds_dataset\\Test\\058.Pigeon_Guillemot\"\n",
    "valid = r\"C:\\Users\\dwmcc\\Desktop\\Learningfuze\\new_na_birds_dataset\\Valid\\058.Pigeon_Guillemot\"\n",
    "\n",
    "nutcracker(train, test, valid)"
   ]
  },
  {
   "cell_type": "code",
   "execution_count": 17,
   "id": "5e58e5d7",
   "metadata": {},
   "outputs": [
    {
     "name": "stdout",
     "output_type": "stream",
     "text": [
      "Destination folder already exists: C:\\Users\\dwmcc\\Desktop\\Learningfuze\\new_na_birds_dataset\\Test\\060.Glaucous_winged_Gull\n",
      "Destination folder already exists: C:\\Users\\dwmcc\\Desktop\\Learningfuze\\new_na_birds_dataset\\Valid\\060.Glaucous_winged_Gull\n",
      "Copied first: Glaucous_Winged_Gull_0002_44612.jpg to C:\\Users\\dwmcc\\Desktop\\Learningfuze\\new_na_birds_dataset\\Test\\060.Glaucous_winged_Gull\n",
      "Deleted: Glaucous_Winged_Gull_0002_44612.jpg from C:\\Users\\dwmcc\\Desktop\\Learningfuze\\new_na_birds_dataset\\Train\\060.Glaucous_winged_Gull\n",
      "Copied first: Glaucous_Winged_Gull_0004_44361.jpg to C:\\Users\\dwmcc\\Desktop\\Learningfuze\\new_na_birds_dataset\\Test\\060.Glaucous_winged_Gull\n",
      "Deleted: Glaucous_Winged_Gull_0004_44361.jpg from C:\\Users\\dwmcc\\Desktop\\Learningfuze\\new_na_birds_dataset\\Train\\060.Glaucous_winged_Gull\n",
      "Copied first: Glaucous_Winged_Gull_0005_44860.jpg to C:\\Users\\dwmcc\\Desktop\\Learningfuze\\new_na_birds_dataset\\Test\\060.Glaucous_winged_Gull\n",
      "Deleted: Glaucous_Winged_Gull_0005_44860.jpg from C:\\Users\\dwmcc\\Desktop\\Learningfuze\\new_na_birds_dataset\\Train\\060.Glaucous_winged_Gull\n",
      "Copied first: Glaucous_Winged_Gull_0007_44575.jpg to C:\\Users\\dwmcc\\Desktop\\Learningfuze\\new_na_birds_dataset\\Test\\060.Glaucous_winged_Gull\n",
      "Deleted: Glaucous_Winged_Gull_0007_44575.jpg from C:\\Users\\dwmcc\\Desktop\\Learningfuze\\new_na_birds_dataset\\Train\\060.Glaucous_winged_Gull\n",
      "Copied last: Glaucous_Winged_Gull_0133_44738.jpg to C:\\Users\\dwmcc\\Desktop\\Learningfuze\\new_na_birds_dataset\\Valid\\060.Glaucous_winged_Gull\n",
      "Deleted: Glaucous_Winged_Gull_0133_44738.jpg from C:\\Users\\dwmcc\\Desktop\\Learningfuze\\new_na_birds_dataset\\Train\\060.Glaucous_winged_Gull\n",
      "Copied last: Glaucous_Winged_Gull_0134_44743.jpg to C:\\Users\\dwmcc\\Desktop\\Learningfuze\\new_na_birds_dataset\\Valid\\060.Glaucous_winged_Gull\n",
      "Deleted: Glaucous_Winged_Gull_0134_44743.jpg from C:\\Users\\dwmcc\\Desktop\\Learningfuze\\new_na_birds_dataset\\Train\\060.Glaucous_winged_Gull\n",
      "Copied last: Glaucous_Winged_Gull_0136_45059.jpg to C:\\Users\\dwmcc\\Desktop\\Learningfuze\\new_na_birds_dataset\\Valid\\060.Glaucous_winged_Gull\n",
      "Deleted: Glaucous_Winged_Gull_0136_45059.jpg from C:\\Users\\dwmcc\\Desktop\\Learningfuze\\new_na_birds_dataset\\Train\\060.Glaucous_winged_Gull\n",
      "Copied last: Glaucous_Winged_Gull_0138_44694.jpg to C:\\Users\\dwmcc\\Desktop\\Learningfuze\\new_na_birds_dataset\\Valid\\060.Glaucous_winged_Gull\n",
      "Deleted: Glaucous_Winged_Gull_0138_44694.jpg from C:\\Users\\dwmcc\\Desktop\\Learningfuze\\new_na_birds_dataset\\Train\\060.Glaucous_winged_Gull\n",
      "Successfully copied the first 4 images to C:\\Users\\dwmcc\\Desktop\\Learningfuze\\new_na_birds_dataset\\Test\\060.Glaucous_winged_Gull and the last 4 images to C:\\Users\\dwmcc\\Desktop\\Learningfuze\\new_na_birds_dataset\\Valid\\060.Glaucous_winged_Gull, and deleted them from C:\\Users\\dwmcc\\Desktop\\Learningfuze\\new_na_birds_dataset\\Train\\060.Glaucous_winged_Gull\n"
     ]
    }
   ],
   "source": [
    "train = r\"C:\\Users\\dwmcc\\Desktop\\Learningfuze\\new_na_birds_dataset\\Train\\060.Glaucous_winged_Gull\"\n",
    "test = r\"C:\\Users\\dwmcc\\Desktop\\Learningfuze\\new_na_birds_dataset\\Test\\060.Glaucous_winged_Gull\"\n",
    "valid = r\"C:\\Users\\dwmcc\\Desktop\\Learningfuze\\new_na_birds_dataset\\Valid\\060.Glaucous_winged_Gull\"\n",
    "\n",
    "nutcracker(train, test, valid)"
   ]
  },
  {
   "cell_type": "code",
   "execution_count": 18,
   "id": "6e58280e",
   "metadata": {},
   "outputs": [
    {
     "name": "stdout",
     "output_type": "stream",
     "text": [
      "Destination folder already exists: C:\\Users\\dwmcc\\Desktop\\Learningfuze\\new_na_birds_dataset\\Test\\061.Heermann_Gull\n",
      "Destination folder already exists: C:\\Users\\dwmcc\\Desktop\\Learningfuze\\new_na_birds_dataset\\Valid\\061.Heermann_Gull\n",
      "Copied first: Heermann_Gull_0001_45472.jpg to C:\\Users\\dwmcc\\Desktop\\Learningfuze\\new_na_birds_dataset\\Test\\061.Heermann_Gull\n",
      "Deleted: Heermann_Gull_0001_45472.jpg from C:\\Users\\dwmcc\\Desktop\\Learningfuze\\new_na_birds_dataset\\Train\\061.Heermann_Gull\n",
      "Copied first: Heermann_Gull_0004_45936.jpg to C:\\Users\\dwmcc\\Desktop\\Learningfuze\\new_na_birds_dataset\\Test\\061.Heermann_Gull\n",
      "Deleted: Heermann_Gull_0004_45936.jpg from C:\\Users\\dwmcc\\Desktop\\Learningfuze\\new_na_birds_dataset\\Train\\061.Heermann_Gull\n",
      "Copied first: Heermann_Gull_0008_45839.jpg to C:\\Users\\dwmcc\\Desktop\\Learningfuze\\new_na_birds_dataset\\Test\\061.Heermann_Gull\n",
      "Deleted: Heermann_Gull_0008_45839.jpg from C:\\Users\\dwmcc\\Desktop\\Learningfuze\\new_na_birds_dataset\\Train\\061.Heermann_Gull\n",
      "Copied first: Heermann_Gull_0009_45905.jpg to C:\\Users\\dwmcc\\Desktop\\Learningfuze\\new_na_birds_dataset\\Test\\061.Heermann_Gull\n",
      "Deleted: Heermann_Gull_0009_45905.jpg from C:\\Users\\dwmcc\\Desktop\\Learningfuze\\new_na_birds_dataset\\Train\\061.Heermann_Gull\n",
      "Copied last: Heermann_Gull_0138_45269.jpg to C:\\Users\\dwmcc\\Desktop\\Learningfuze\\new_na_birds_dataset\\Valid\\061.Heermann_Gull\n",
      "Deleted: Heermann_Gull_0138_45269.jpg from C:\\Users\\dwmcc\\Desktop\\Learningfuze\\new_na_birds_dataset\\Train\\061.Heermann_Gull\n",
      "Copied last: Heermann_Gull_0139_45749.jpg to C:\\Users\\dwmcc\\Desktop\\Learningfuze\\new_na_birds_dataset\\Valid\\061.Heermann_Gull\n",
      "Deleted: Heermann_Gull_0139_45749.jpg from C:\\Users\\dwmcc\\Desktop\\Learningfuze\\new_na_birds_dataset\\Train\\061.Heermann_Gull\n",
      "Copied last: Heermann_Gull_0141_45391.jpg to C:\\Users\\dwmcc\\Desktop\\Learningfuze\\new_na_birds_dataset\\Valid\\061.Heermann_Gull\n",
      "Deleted: Heermann_Gull_0141_45391.jpg from C:\\Users\\dwmcc\\Desktop\\Learningfuze\\new_na_birds_dataset\\Train\\061.Heermann_Gull\n",
      "Copied last: Heermann_Gull_0142_45798.jpg to C:\\Users\\dwmcc\\Desktop\\Learningfuze\\new_na_birds_dataset\\Valid\\061.Heermann_Gull\n",
      "Deleted: Heermann_Gull_0142_45798.jpg from C:\\Users\\dwmcc\\Desktop\\Learningfuze\\new_na_birds_dataset\\Train\\061.Heermann_Gull\n",
      "Successfully copied the first 4 images to C:\\Users\\dwmcc\\Desktop\\Learningfuze\\new_na_birds_dataset\\Test\\061.Heermann_Gull and the last 4 images to C:\\Users\\dwmcc\\Desktop\\Learningfuze\\new_na_birds_dataset\\Valid\\061.Heermann_Gull, and deleted them from C:\\Users\\dwmcc\\Desktop\\Learningfuze\\new_na_birds_dataset\\Train\\061.Heermann_Gull\n"
     ]
    }
   ],
   "source": [
    "train = r\"C:\\Users\\dwmcc\\Desktop\\Learningfuze\\new_na_birds_dataset\\Train\\061.Heermann_Gull\"\n",
    "test = r\"C:\\Users\\dwmcc\\Desktop\\Learningfuze\\new_na_birds_dataset\\Test\\061.Heermann_Gull\"\n",
    "valid = r\"C:\\Users\\dwmcc\\Desktop\\Learningfuze\\new_na_birds_dataset\\Valid\\061.Heermann_Gull\"\n",
    "\n",
    "nutcracker(train, test, valid)"
   ]
  },
  {
   "cell_type": "code",
   "execution_count": 19,
   "id": "ebed5fe7",
   "metadata": {},
   "outputs": [
    {
     "name": "stdout",
     "output_type": "stream",
     "text": [
      "Destination folder already exists: C:\\Users\\dwmcc\\Desktop\\Learningfuze\\new_na_birds_dataset\\Test\\066.Western_Gull\n",
      "Destination folder already exists: C:\\Users\\dwmcc\\Desktop\\Learningfuze\\new_na_birds_dataset\\Valid\\066.Western_Gull\n",
      "Copied first: Western_Gull_0002_54825.jpg to C:\\Users\\dwmcc\\Desktop\\Learningfuze\\new_na_birds_dataset\\Test\\066.Western_Gull\n",
      "Deleted: Western_Gull_0002_54825.jpg from C:\\Users\\dwmcc\\Desktop\\Learningfuze\\new_na_birds_dataset\\Train\\066.Western_Gull\n",
      "Copied first: Western_Gull_0004_55605.jpg to C:\\Users\\dwmcc\\Desktop\\Learningfuze\\new_na_birds_dataset\\Test\\066.Western_Gull\n",
      "Deleted: Western_Gull_0004_55605.jpg from C:\\Users\\dwmcc\\Desktop\\Learningfuze\\new_na_birds_dataset\\Train\\066.Western_Gull\n",
      "Copied first: Western_Gull_0006_53504.jpg to C:\\Users\\dwmcc\\Desktop\\Learningfuze\\new_na_birds_dataset\\Test\\066.Western_Gull\n",
      "Deleted: Western_Gull_0006_53504.jpg from C:\\Users\\dwmcc\\Desktop\\Learningfuze\\new_na_birds_dataset\\Train\\066.Western_Gull\n",
      "Copied first: Western_Gull_0007_53431.jpg to C:\\Users\\dwmcc\\Desktop\\Learningfuze\\new_na_birds_dataset\\Test\\066.Western_Gull\n",
      "Deleted: Western_Gull_0007_53431.jpg from C:\\Users\\dwmcc\\Desktop\\Learningfuze\\new_na_birds_dataset\\Train\\066.Western_Gull\n",
      "Copied last: Western_Gull_0128_53852.jpg to C:\\Users\\dwmcc\\Desktop\\Learningfuze\\new_na_birds_dataset\\Valid\\066.Western_Gull\n",
      "Deleted: Western_Gull_0128_53852.jpg from C:\\Users\\dwmcc\\Desktop\\Learningfuze\\new_na_birds_dataset\\Train\\066.Western_Gull\n",
      "Copied last: Western_Gull_0131_53349.jpg to C:\\Users\\dwmcc\\Desktop\\Learningfuze\\new_na_birds_dataset\\Valid\\066.Western_Gull\n",
      "Deleted: Western_Gull_0131_53349.jpg from C:\\Users\\dwmcc\\Desktop\\Learningfuze\\new_na_birds_dataset\\Train\\066.Western_Gull\n",
      "Copied last: Western_Gull_0133_55639.jpg to C:\\Users\\dwmcc\\Desktop\\Learningfuze\\new_na_birds_dataset\\Valid\\066.Western_Gull\n",
      "Deleted: Western_Gull_0133_55639.jpg from C:\\Users\\dwmcc\\Desktop\\Learningfuze\\new_na_birds_dataset\\Train\\066.Western_Gull\n",
      "Copied last: Western_Gull_0143_54909.jpg to C:\\Users\\dwmcc\\Desktop\\Learningfuze\\new_na_birds_dataset\\Valid\\066.Western_Gull\n",
      "Deleted: Western_Gull_0143_54909.jpg from C:\\Users\\dwmcc\\Desktop\\Learningfuze\\new_na_birds_dataset\\Train\\066.Western_Gull\n",
      "Successfully copied the first 4 images to C:\\Users\\dwmcc\\Desktop\\Learningfuze\\new_na_birds_dataset\\Test\\066.Western_Gull and the last 4 images to C:\\Users\\dwmcc\\Desktop\\Learningfuze\\new_na_birds_dataset\\Valid\\066.Western_Gull, and deleted them from C:\\Users\\dwmcc\\Desktop\\Learningfuze\\new_na_birds_dataset\\Train\\066.Western_Gull\n"
     ]
    }
   ],
   "source": [
    "train = r\"C:\\Users\\dwmcc\\Desktop\\Learningfuze\\new_na_birds_dataset\\Train\\066.Western_Gull\"\n",
    "test = r\"C:\\Users\\dwmcc\\Desktop\\Learningfuze\\new_na_birds_dataset\\Test\\066.Western_Gull\"\n",
    "valid = r\"C:\\Users\\dwmcc\\Desktop\\Learningfuze\\new_na_birds_dataset\\Valid\\066.Western_Gull\"\n",
    "\n",
    "nutcracker(train, test, valid)"
   ]
  },
  {
   "cell_type": "code",
   "execution_count": 20,
   "id": "6221e57d",
   "metadata": {},
   "outputs": [
    {
     "name": "stdout",
     "output_type": "stream",
     "text": [
      "Destination folder already exists: C:\\Users\\dwmcc\\Desktop\\Learningfuze\\new_na_birds_dataset\\Test\\067.Anna_Hummingbird\n",
      "Destination folder already exists: C:\\Users\\dwmcc\\Desktop\\Learningfuze\\new_na_birds_dataset\\Valid\\067.Anna_Hummingbird\n",
      "Copied first: Anna_Hummingbird_0001_56960.jpg to C:\\Users\\dwmcc\\Desktop\\Learningfuze\\new_na_birds_dataset\\Test\\067.Anna_Hummingbird\n",
      "Deleted: Anna_Hummingbird_0001_56960.jpg from C:\\Users\\dwmcc\\Desktop\\Learningfuze\\new_na_birds_dataset\\Train\\067.Anna_Hummingbird\n",
      "Copied first: Anna_Hummingbird_0006_55871.jpg to C:\\Users\\dwmcc\\Desktop\\Learningfuze\\new_na_birds_dataset\\Test\\067.Anna_Hummingbird\n",
      "Deleted: Anna_Hummingbird_0006_55871.jpg from C:\\Users\\dwmcc\\Desktop\\Learningfuze\\new_na_birds_dataset\\Train\\067.Anna_Hummingbird\n",
      "Copied first: Anna_Hummingbird_0017_56954.jpg to C:\\Users\\dwmcc\\Desktop\\Learningfuze\\new_na_birds_dataset\\Test\\067.Anna_Hummingbird\n",
      "Deleted: Anna_Hummingbird_0017_56954.jpg from C:\\Users\\dwmcc\\Desktop\\Learningfuze\\new_na_birds_dataset\\Train\\067.Anna_Hummingbird\n",
      "Copied first: Anna_Hummingbird_0018_56732.jpg to C:\\Users\\dwmcc\\Desktop\\Learningfuze\\new_na_birds_dataset\\Test\\067.Anna_Hummingbird\n",
      "Deleted: Anna_Hummingbird_0018_56732.jpg from C:\\Users\\dwmcc\\Desktop\\Learningfuze\\new_na_birds_dataset\\Train\\067.Anna_Hummingbird\n",
      "Copied last: Anna_Hummingbird_0126_55983.jpg to C:\\Users\\dwmcc\\Desktop\\Learningfuze\\new_na_birds_dataset\\Valid\\067.Anna_Hummingbird\n",
      "Deleted: Anna_Hummingbird_0126_55983.jpg from C:\\Users\\dwmcc\\Desktop\\Learningfuze\\new_na_birds_dataset\\Train\\067.Anna_Hummingbird\n",
      "Copied last: Anna_Hummingbird_0127_56520.jpg to C:\\Users\\dwmcc\\Desktop\\Learningfuze\\new_na_birds_dataset\\Valid\\067.Anna_Hummingbird\n",
      "Deleted: Anna_Hummingbird_0127_56520.jpg from C:\\Users\\dwmcc\\Desktop\\Learningfuze\\new_na_birds_dataset\\Train\\067.Anna_Hummingbird\n",
      "Copied last: Anna_Hummingbird_0128_57047.jpg to C:\\Users\\dwmcc\\Desktop\\Learningfuze\\new_na_birds_dataset\\Valid\\067.Anna_Hummingbird\n",
      "Deleted: Anna_Hummingbird_0128_57047.jpg from C:\\Users\\dwmcc\\Desktop\\Learningfuze\\new_na_birds_dataset\\Train\\067.Anna_Hummingbird\n",
      "Copied last: Anna_Hummingbird_0130_56122.jpg to C:\\Users\\dwmcc\\Desktop\\Learningfuze\\new_na_birds_dataset\\Valid\\067.Anna_Hummingbird\n",
      "Deleted: Anna_Hummingbird_0130_56122.jpg from C:\\Users\\dwmcc\\Desktop\\Learningfuze\\new_na_birds_dataset\\Train\\067.Anna_Hummingbird\n",
      "Successfully copied the first 4 images to C:\\Users\\dwmcc\\Desktop\\Learningfuze\\new_na_birds_dataset\\Test\\067.Anna_Hummingbird and the last 4 images to C:\\Users\\dwmcc\\Desktop\\Learningfuze\\new_na_birds_dataset\\Valid\\067.Anna_Hummingbird, and deleted them from C:\\Users\\dwmcc\\Desktop\\Learningfuze\\new_na_birds_dataset\\Train\\067.Anna_Hummingbird\n"
     ]
    }
   ],
   "source": [
    "train = r\"C:\\Users\\dwmcc\\Desktop\\Learningfuze\\new_na_birds_dataset\\Train\\067.Anna_Hummingbird\"\n",
    "test = r\"C:\\Users\\dwmcc\\Desktop\\Learningfuze\\new_na_birds_dataset\\Test\\067.Anna_Hummingbird\"\n",
    "valid = r\"C:\\Users\\dwmcc\\Desktop\\Learningfuze\\new_na_birds_dataset\\Valid\\067.Anna_Hummingbird\"\n",
    "\n",
    "nutcracker(train, test, valid)"
   ]
  },
  {
   "cell_type": "code",
   "execution_count": 21,
   "id": "ea0cb5c8",
   "metadata": {},
   "outputs": [
    {
     "name": "stdout",
     "output_type": "stream",
     "text": [
      "Destination folder already exists: C:\\Users\\dwmcc\\Desktop\\Learningfuze\\new_na_birds_dataset\\Test\\075.Green_Jay\n",
      "Destination folder already exists: C:\\Users\\dwmcc\\Desktop\\Learningfuze\\new_na_birds_dataset\\Valid\\075.Green_Jay\n",
      "Copied first: Green_Jay_0003_65767.jpg to C:\\Users\\dwmcc\\Desktop\\Learningfuze\\new_na_birds_dataset\\Test\\075.Green_Jay\n",
      "Deleted: Green_Jay_0003_65767.jpg from C:\\Users\\dwmcc\\Desktop\\Learningfuze\\new_na_birds_dataset\\Train\\075.Green_Jay\n",
      "Copied first: Green_Jay_0006_65788.jpg to C:\\Users\\dwmcc\\Desktop\\Learningfuze\\new_na_birds_dataset\\Test\\075.Green_Jay\n",
      "Deleted: Green_Jay_0006_65788.jpg from C:\\Users\\dwmcc\\Desktop\\Learningfuze\\new_na_birds_dataset\\Train\\075.Green_Jay\n",
      "Copied first: Green_Jay_0011_65947.jpg to C:\\Users\\dwmcc\\Desktop\\Learningfuze\\new_na_birds_dataset\\Test\\075.Green_Jay\n",
      "Deleted: Green_Jay_0011_65947.jpg from C:\\Users\\dwmcc\\Desktop\\Learningfuze\\new_na_birds_dataset\\Train\\075.Green_Jay\n",
      "Copied first: Green_Jay_0014_65825.jpg to C:\\Users\\dwmcc\\Desktop\\Learningfuze\\new_na_birds_dataset\\Test\\075.Green_Jay\n",
      "Deleted: Green_Jay_0014_65825.jpg from C:\\Users\\dwmcc\\Desktop\\Learningfuze\\new_na_birds_dataset\\Train\\075.Green_Jay\n",
      "Copied last: Green_Jay_0128_65629.jpg to C:\\Users\\dwmcc\\Desktop\\Learningfuze\\new_na_birds_dataset\\Valid\\075.Green_Jay\n",
      "Deleted: Green_Jay_0128_65629.jpg from C:\\Users\\dwmcc\\Desktop\\Learningfuze\\new_na_birds_dataset\\Train\\075.Green_Jay\n",
      "Copied last: Green_Jay_0129_65680.jpg to C:\\Users\\dwmcc\\Desktop\\Learningfuze\\new_na_birds_dataset\\Valid\\075.Green_Jay\n",
      "Deleted: Green_Jay_0129_65680.jpg from C:\\Users\\dwmcc\\Desktop\\Learningfuze\\new_na_birds_dataset\\Train\\075.Green_Jay\n",
      "Copied last: Green_Jay_0130_65885.jpg to C:\\Users\\dwmcc\\Desktop\\Learningfuze\\new_na_birds_dataset\\Valid\\075.Green_Jay\n",
      "Deleted: Green_Jay_0130_65885.jpg from C:\\Users\\dwmcc\\Desktop\\Learningfuze\\new_na_birds_dataset\\Train\\075.Green_Jay\n",
      "Copied last: Green_Jay_0132_65886.jpg to C:\\Users\\dwmcc\\Desktop\\Learningfuze\\new_na_birds_dataset\\Valid\\075.Green_Jay\n",
      "Deleted: Green_Jay_0132_65886.jpg from C:\\Users\\dwmcc\\Desktop\\Learningfuze\\new_na_birds_dataset\\Train\\075.Green_Jay\n",
      "Successfully copied the first 4 images to C:\\Users\\dwmcc\\Desktop\\Learningfuze\\new_na_birds_dataset\\Test\\075.Green_Jay and the last 4 images to C:\\Users\\dwmcc\\Desktop\\Learningfuze\\new_na_birds_dataset\\Valid\\075.Green_Jay, and deleted them from C:\\Users\\dwmcc\\Desktop\\Learningfuze\\new_na_birds_dataset\\Train\\075.Green_Jay\n"
     ]
    }
   ],
   "source": [
    "train = r\"C:\\Users\\dwmcc\\Desktop\\Learningfuze\\new_na_birds_dataset\\Train\\075.Green_Jay\"\n",
    "test = r\"C:\\Users\\dwmcc\\Desktop\\Learningfuze\\new_na_birds_dataset\\Test\\075.Green_Jay\"\n",
    "valid = r\"C:\\Users\\dwmcc\\Desktop\\Learningfuze\\new_na_birds_dataset\\Valid\\075.Green_Jay\"\n",
    "\n",
    "nutcracker(train, test, valid)"
   ]
  },
  {
   "cell_type": "code",
   "execution_count": 22,
   "id": "7b930fd6",
   "metadata": {},
   "outputs": [
    {
     "name": "stdout",
     "output_type": "stream",
     "text": [
      "Destination folder already exists: C:\\Users\\dwmcc\\Desktop\\Learningfuze\\new_na_birds_dataset\\Test\\076.Dark_eyed_Junco\n",
      "Destination folder already exists: C:\\Users\\dwmcc\\Desktop\\Learningfuze\\new_na_birds_dataset\\Valid\\076.Dark_eyed_Junco\n",
      "Copied first: Dark_Eyed_Junco_0005_68813.jpg to C:\\Users\\dwmcc\\Desktop\\Learningfuze\\new_na_birds_dataset\\Test\\076.Dark_eyed_Junco\n",
      "Deleted: Dark_Eyed_Junco_0005_68813.jpg from C:\\Users\\dwmcc\\Desktop\\Learningfuze\\new_na_birds_dataset\\Train\\076.Dark_eyed_Junco\n",
      "Copied first: Dark_Eyed_Junco_0008_68321.jpg to C:\\Users\\dwmcc\\Desktop\\Learningfuze\\new_na_birds_dataset\\Test\\076.Dark_eyed_Junco\n",
      "Deleted: Dark_Eyed_Junco_0008_68321.jpg from C:\\Users\\dwmcc\\Desktop\\Learningfuze\\new_na_birds_dataset\\Train\\076.Dark_eyed_Junco\n",
      "Copied first: Dark_Eyed_Junco_0010_66649.jpg to C:\\Users\\dwmcc\\Desktop\\Learningfuze\\new_na_birds_dataset\\Test\\076.Dark_eyed_Junco\n",
      "Deleted: Dark_Eyed_Junco_0010_66649.jpg from C:\\Users\\dwmcc\\Desktop\\Learningfuze\\new_na_birds_dataset\\Train\\076.Dark_eyed_Junco\n",
      "Copied first: Dark_Eyed_Junco_0011_66280.jpg to C:\\Users\\dwmcc\\Desktop\\Learningfuze\\new_na_birds_dataset\\Test\\076.Dark_eyed_Junco\n",
      "Deleted: Dark_Eyed_Junco_0011_66280.jpg from C:\\Users\\dwmcc\\Desktop\\Learningfuze\\new_na_birds_dataset\\Train\\076.Dark_eyed_Junco\n",
      "Copied last: Dark_Eyed_Junco_0124_67664.jpg to C:\\Users\\dwmcc\\Desktop\\Learningfuze\\new_na_birds_dataset\\Valid\\076.Dark_eyed_Junco\n",
      "Deleted: Dark_Eyed_Junco_0124_67664.jpg from C:\\Users\\dwmcc\\Desktop\\Learningfuze\\new_na_birds_dataset\\Train\\076.Dark_eyed_Junco\n",
      "Copied last: Dark_Eyed_Junco_0130_67867.jpg to C:\\Users\\dwmcc\\Desktop\\Learningfuze\\new_na_birds_dataset\\Valid\\076.Dark_eyed_Junco\n",
      "Deleted: Dark_Eyed_Junco_0130_67867.jpg from C:\\Users\\dwmcc\\Desktop\\Learningfuze\\new_na_birds_dataset\\Train\\076.Dark_eyed_Junco\n",
      "Copied last: Dark_Eyed_Junco_0131_66423.jpg to C:\\Users\\dwmcc\\Desktop\\Learningfuze\\new_na_birds_dataset\\Valid\\076.Dark_eyed_Junco\n",
      "Deleted: Dark_Eyed_Junco_0131_66423.jpg from C:\\Users\\dwmcc\\Desktop\\Learningfuze\\new_na_birds_dataset\\Train\\076.Dark_eyed_Junco\n",
      "Copied last: Dark_Eyed_Junco_0132_66476.jpg to C:\\Users\\dwmcc\\Desktop\\Learningfuze\\new_na_birds_dataset\\Valid\\076.Dark_eyed_Junco\n",
      "Deleted: Dark_Eyed_Junco_0132_66476.jpg from C:\\Users\\dwmcc\\Desktop\\Learningfuze\\new_na_birds_dataset\\Train\\076.Dark_eyed_Junco\n",
      "Successfully copied the first 4 images to C:\\Users\\dwmcc\\Desktop\\Learningfuze\\new_na_birds_dataset\\Test\\076.Dark_eyed_Junco and the last 4 images to C:\\Users\\dwmcc\\Desktop\\Learningfuze\\new_na_birds_dataset\\Valid\\076.Dark_eyed_Junco, and deleted them from C:\\Users\\dwmcc\\Desktop\\Learningfuze\\new_na_birds_dataset\\Train\\076.Dark_eyed_Junco\n"
     ]
    }
   ],
   "source": [
    "train = r\"C:\\Users\\dwmcc\\Desktop\\Learningfuze\\new_na_birds_dataset\\Train\\076.Dark_eyed_Junco\"\n",
    "test = r\"C:\\Users\\dwmcc\\Desktop\\Learningfuze\\new_na_birds_dataset\\Test\\076.Dark_eyed_Junco\"\n",
    "valid = r\"C:\\Users\\dwmcc\\Desktop\\Learningfuze\\new_na_birds_dataset\\Valid\\076.Dark_eyed_Junco\"\n",
    "\n",
    "nutcracker(train, test, valid)"
   ]
  },
  {
   "cell_type": "code",
   "execution_count": 23,
   "id": "6ea32278",
   "metadata": {},
   "outputs": [
    {
     "name": "stdout",
     "output_type": "stream",
     "text": [
      "Destination folder already exists: C:\\Users\\dwmcc\\Desktop\\Learningfuze\\new_na_birds_dataset\\Test\\080.Green_Kingfisher\n",
      "Destination folder already exists: C:\\Users\\dwmcc\\Desktop\\Learningfuze\\new_na_birds_dataset\\Valid\\080.Green_Kingfisher\n",
      "Copied first: Green_Kingfisher_0001_71138.jpg to C:\\Users\\dwmcc\\Desktop\\Learningfuze\\new_na_birds_dataset\\Test\\080.Green_Kingfisher\n",
      "Deleted: Green_Kingfisher_0001_71138.jpg from C:\\Users\\dwmcc\\Desktop\\Learningfuze\\new_na_birds_dataset\\Train\\080.Green_Kingfisher\n",
      "Copied first: Green_Kingfisher_0002_71055.jpg to C:\\Users\\dwmcc\\Desktop\\Learningfuze\\new_na_birds_dataset\\Test\\080.Green_Kingfisher\n",
      "Deleted: Green_Kingfisher_0002_71055.jpg from C:\\Users\\dwmcc\\Desktop\\Learningfuze\\new_na_birds_dataset\\Train\\080.Green_Kingfisher\n",
      "Copied first: Green_Kingfisher_0003_70970.jpg to C:\\Users\\dwmcc\\Desktop\\Learningfuze\\new_na_birds_dataset\\Test\\080.Green_Kingfisher\n",
      "Deleted: Green_Kingfisher_0003_70970.jpg from C:\\Users\\dwmcc\\Desktop\\Learningfuze\\new_na_birds_dataset\\Train\\080.Green_Kingfisher\n",
      "Copied first: Green_Kingfisher_0004_71076.jpg to C:\\Users\\dwmcc\\Desktop\\Learningfuze\\new_na_birds_dataset\\Test\\080.Green_Kingfisher\n",
      "Deleted: Green_Kingfisher_0004_71076.jpg from C:\\Users\\dwmcc\\Desktop\\Learningfuze\\new_na_birds_dataset\\Train\\080.Green_Kingfisher\n",
      "Copied last: Green_Kingfisher_0094_71112.jpg to C:\\Users\\dwmcc\\Desktop\\Learningfuze\\new_na_birds_dataset\\Valid\\080.Green_Kingfisher\n",
      "Deleted: Green_Kingfisher_0094_71112.jpg from C:\\Users\\dwmcc\\Desktop\\Learningfuze\\new_na_birds_dataset\\Train\\080.Green_Kingfisher\n",
      "Copied last: Green_Kingfisher_0096_71080.jpg to C:\\Users\\dwmcc\\Desktop\\Learningfuze\\new_na_birds_dataset\\Valid\\080.Green_Kingfisher\n",
      "Deleted: Green_Kingfisher_0096_71080.jpg from C:\\Users\\dwmcc\\Desktop\\Learningfuze\\new_na_birds_dataset\\Train\\080.Green_Kingfisher\n",
      "Copied last: Green_Kingfisher_0097_71102.jpg to C:\\Users\\dwmcc\\Desktop\\Learningfuze\\new_na_birds_dataset\\Valid\\080.Green_Kingfisher\n",
      "Deleted: Green_Kingfisher_0097_71102.jpg from C:\\Users\\dwmcc\\Desktop\\Learningfuze\\new_na_birds_dataset\\Train\\080.Green_Kingfisher\n",
      "Copied last: Green_Kingfisher_0099_70942.jpg to C:\\Users\\dwmcc\\Desktop\\Learningfuze\\new_na_birds_dataset\\Valid\\080.Green_Kingfisher\n",
      "Deleted: Green_Kingfisher_0099_70942.jpg from C:\\Users\\dwmcc\\Desktop\\Learningfuze\\new_na_birds_dataset\\Train\\080.Green_Kingfisher\n",
      "Successfully copied the first 4 images to C:\\Users\\dwmcc\\Desktop\\Learningfuze\\new_na_birds_dataset\\Test\\080.Green_Kingfisher and the last 4 images to C:\\Users\\dwmcc\\Desktop\\Learningfuze\\new_na_birds_dataset\\Valid\\080.Green_Kingfisher, and deleted them from C:\\Users\\dwmcc\\Desktop\\Learningfuze\\new_na_birds_dataset\\Train\\080.Green_Kingfisher\n"
     ]
    }
   ],
   "source": [
    "train = r\"C:\\Users\\dwmcc\\Desktop\\Learningfuze\\new_na_birds_dataset\\Train\\080.Green_Kingfisher\"\n",
    "test = r\"C:\\Users\\dwmcc\\Desktop\\Learningfuze\\new_na_birds_dataset\\Test\\080.Green_Kingfisher\"\n",
    "valid = r\"C:\\Users\\dwmcc\\Desktop\\Learningfuze\\new_na_birds_dataset\\Valid\\080.Green_Kingfisher\"\n",
    "\n",
    "nutcracker(train, test, valid)"
   ]
  },
  {
   "cell_type": "code",
   "execution_count": 24,
   "id": "3b90778c",
   "metadata": {},
   "outputs": [
    {
     "name": "stdout",
     "output_type": "stream",
     "text": [
      "Destination folder already exists: C:\\Users\\dwmcc\\Desktop\\Learningfuze\\new_na_birds_dataset\\Test\\086.Pacific_Loon\n",
      "Destination folder already exists: C:\\Users\\dwmcc\\Desktop\\Learningfuze\\new_na_birds_dataset\\Valid\\086.Pacific_Loon\n",
      "Copied first: Pacific_Loon_0001_75521.jpg to C:\\Users\\dwmcc\\Desktop\\Learningfuze\\new_na_birds_dataset\\Test\\086.Pacific_Loon\n",
      "Deleted: Pacific_Loon_0001_75521.jpg from C:\\Users\\dwmcc\\Desktop\\Learningfuze\\new_na_birds_dataset\\Train\\086.Pacific_Loon\n",
      "Copied first: Pacific_Loon_0002_75775.jpg to C:\\Users\\dwmcc\\Desktop\\Learningfuze\\new_na_birds_dataset\\Test\\086.Pacific_Loon\n",
      "Deleted: Pacific_Loon_0002_75775.jpg from C:\\Users\\dwmcc\\Desktop\\Learningfuze\\new_na_birds_dataset\\Train\\086.Pacific_Loon\n",
      "Copied first: Pacific_Loon_0003_75442.jpg to C:\\Users\\dwmcc\\Desktop\\Learningfuze\\new_na_birds_dataset\\Test\\086.Pacific_Loon\n",
      "Deleted: Pacific_Loon_0003_75442.jpg from C:\\Users\\dwmcc\\Desktop\\Learningfuze\\new_na_birds_dataset\\Train\\086.Pacific_Loon\n",
      "Copied first: Pacific_Loon_0004_75815.jpg to C:\\Users\\dwmcc\\Desktop\\Learningfuze\\new_na_birds_dataset\\Test\\086.Pacific_Loon\n",
      "Deleted: Pacific_Loon_0004_75815.jpg from C:\\Users\\dwmcc\\Desktop\\Learningfuze\\new_na_birds_dataset\\Train\\086.Pacific_Loon\n",
      "Copied last: Pacific_Loon_0066_75547.jpg to C:\\Users\\dwmcc\\Desktop\\Learningfuze\\new_na_birds_dataset\\Valid\\086.Pacific_Loon\n",
      "Deleted: Pacific_Loon_0066_75547.jpg from C:\\Users\\dwmcc\\Desktop\\Learningfuze\\new_na_birds_dataset\\Train\\086.Pacific_Loon\n",
      "Copied last: Pacific_Loon_0067_75423.jpg to C:\\Users\\dwmcc\\Desktop\\Learningfuze\\new_na_birds_dataset\\Valid\\086.Pacific_Loon\n",
      "Deleted: Pacific_Loon_0067_75423.jpg from C:\\Users\\dwmcc\\Desktop\\Learningfuze\\new_na_birds_dataset\\Train\\086.Pacific_Loon\n",
      "Copied last: Pacific_Loon_0068_75836.jpg to C:\\Users\\dwmcc\\Desktop\\Learningfuze\\new_na_birds_dataset\\Valid\\086.Pacific_Loon\n",
      "Deleted: Pacific_Loon_0068_75836.jpg from C:\\Users\\dwmcc\\Desktop\\Learningfuze\\new_na_birds_dataset\\Train\\086.Pacific_Loon\n",
      "Copied last: Pacific_Loon_0069_75446.jpg to C:\\Users\\dwmcc\\Desktop\\Learningfuze\\new_na_birds_dataset\\Valid\\086.Pacific_Loon\n",
      "Deleted: Pacific_Loon_0069_75446.jpg from C:\\Users\\dwmcc\\Desktop\\Learningfuze\\new_na_birds_dataset\\Train\\086.Pacific_Loon\n",
      "Successfully copied the first 4 images to C:\\Users\\dwmcc\\Desktop\\Learningfuze\\new_na_birds_dataset\\Test\\086.Pacific_Loon and the last 4 images to C:\\Users\\dwmcc\\Desktop\\Learningfuze\\new_na_birds_dataset\\Valid\\086.Pacific_Loon, and deleted them from C:\\Users\\dwmcc\\Desktop\\Learningfuze\\new_na_birds_dataset\\Train\\086.Pacific_Loon\n"
     ]
    }
   ],
   "source": [
    "train = r\"C:\\Users\\dwmcc\\Desktop\\Learningfuze\\new_na_birds_dataset\\Train\\086.Pacific_Loon\"\n",
    "test = r\"C:\\Users\\dwmcc\\Desktop\\Learningfuze\\new_na_birds_dataset\\Test\\086.Pacific_Loon\"\n",
    "valid = r\"C:\\Users\\dwmcc\\Desktop\\Learningfuze\\new_na_birds_dataset\\Valid\\086.Pacific_Loon\"\n",
    "\n",
    "nutcracker(train, test, valid)"
   ]
  },
  {
   "cell_type": "code",
   "execution_count": 25,
   "id": "d9d3b0c9",
   "metadata": {},
   "outputs": [
    {
     "name": "stdout",
     "output_type": "stream",
     "text": [
      "Destination folder already exists: C:\\Users\\dwmcc\\Desktop\\Learningfuze\\new_na_birds_dataset\\Test\\079.Belted_Kingfisher\n",
      "Destination folder already exists: C:\\Users\\dwmcc\\Desktop\\Learningfuze\\new_na_birds_dataset\\Valid\\079.Belted_Kingfisher\n",
      "Copied first: Belted_Kingfisher_0005_70389.jpg to C:\\Users\\dwmcc\\Desktop\\Learningfuze\\new_na_birds_dataset\\Test\\079.Belted_Kingfisher\n",
      "Deleted: Belted_Kingfisher_0005_70389.jpg from C:\\Users\\dwmcc\\Desktop\\Learningfuze\\new_na_birds_dataset\\Train\\079.Belted_Kingfisher\n",
      "Copied first: Belted_Kingfisher_0006_70625.jpg to C:\\Users\\dwmcc\\Desktop\\Learningfuze\\new_na_birds_dataset\\Test\\079.Belted_Kingfisher\n",
      "Deleted: Belted_Kingfisher_0006_70625.jpg from C:\\Users\\dwmcc\\Desktop\\Learningfuze\\new_na_birds_dataset\\Train\\079.Belted_Kingfisher\n",
      "Copied first: Belted_Kingfisher_0008_70668.jpg to C:\\Users\\dwmcc\\Desktop\\Learningfuze\\new_na_birds_dataset\\Test\\079.Belted_Kingfisher\n",
      "Deleted: Belted_Kingfisher_0008_70668.jpg from C:\\Users\\dwmcc\\Desktop\\Learningfuze\\new_na_birds_dataset\\Train\\079.Belted_Kingfisher\n",
      "Copied first: Belted_Kingfisher_0009_70536.jpg to C:\\Users\\dwmcc\\Desktop\\Learningfuze\\new_na_birds_dataset\\Test\\079.Belted_Kingfisher\n",
      "Deleted: Belted_Kingfisher_0009_70536.jpg from C:\\Users\\dwmcc\\Desktop\\Learningfuze\\new_na_birds_dataset\\Train\\079.Belted_Kingfisher\n",
      "Copied last: Belted_Kingfisher_0107_70883.jpg to C:\\Users\\dwmcc\\Desktop\\Learningfuze\\new_na_birds_dataset\\Valid\\079.Belted_Kingfisher\n",
      "Deleted: Belted_Kingfisher_0107_70883.jpg from C:\\Users\\dwmcc\\Desktop\\Learningfuze\\new_na_birds_dataset\\Train\\079.Belted_Kingfisher\n",
      "Copied last: Belted_Kingfisher_0108_70554.jpg to C:\\Users\\dwmcc\\Desktop\\Learningfuze\\new_na_birds_dataset\\Valid\\079.Belted_Kingfisher\n",
      "Deleted: Belted_Kingfisher_0108_70554.jpg from C:\\Users\\dwmcc\\Desktop\\Learningfuze\\new_na_birds_dataset\\Train\\079.Belted_Kingfisher\n",
      "Copied last: Belted_Kingfisher_0111_70375.jpg to C:\\Users\\dwmcc\\Desktop\\Learningfuze\\new_na_birds_dataset\\Valid\\079.Belted_Kingfisher\n",
      "Deleted: Belted_Kingfisher_0111_70375.jpg from C:\\Users\\dwmcc\\Desktop\\Learningfuze\\new_na_birds_dataset\\Train\\079.Belted_Kingfisher\n",
      "Copied last: Belted_Kingfisher_0112_70634.jpg to C:\\Users\\dwmcc\\Desktop\\Learningfuze\\new_na_birds_dataset\\Valid\\079.Belted_Kingfisher\n",
      "Deleted: Belted_Kingfisher_0112_70634.jpg from C:\\Users\\dwmcc\\Desktop\\Learningfuze\\new_na_birds_dataset\\Train\\079.Belted_Kingfisher\n",
      "Successfully copied the first 4 images to C:\\Users\\dwmcc\\Desktop\\Learningfuze\\new_na_birds_dataset\\Test\\079.Belted_Kingfisher and the last 4 images to C:\\Users\\dwmcc\\Desktop\\Learningfuze\\new_na_birds_dataset\\Valid\\079.Belted_Kingfisher, and deleted them from C:\\Users\\dwmcc\\Desktop\\Learningfuze\\new_na_birds_dataset\\Train\\079.Belted_Kingfisher\n"
     ]
    }
   ],
   "source": [
    "train = r\"C:\\Users\\dwmcc\\Desktop\\Learningfuze\\new_na_birds_dataset\\Train\\079.Belted_Kingfisher\"\n",
    "test = r\"C:\\Users\\dwmcc\\Desktop\\Learningfuze\\new_na_birds_dataset\\Test\\079.Belted_Kingfisher\"\n",
    "valid = r\"C:\\Users\\dwmcc\\Desktop\\Learningfuze\\new_na_birds_dataset\\Valid\\079.Belted_Kingfisher\"\n",
    "\n",
    "nutcracker(train, test, valid)"
   ]
  },
  {
   "cell_type": "code",
   "execution_count": 26,
   "id": "1ef1cebb",
   "metadata": {},
   "outputs": [
    {
     "name": "stdout",
     "output_type": "stream",
     "text": [
      "Destination folder already exists: C:\\Users\\dwmcc\\Desktop\\Learningfuze\\new_na_birds_dataset\\Test\\087.Mallard\n",
      "Destination folder already exists: C:\\Users\\dwmcc\\Desktop\\Learningfuze\\new_na_birds_dataset\\Valid\\087.Mallard\n",
      "Copied first: Mallard_0004_76958.jpg to C:\\Users\\dwmcc\\Desktop\\Learningfuze\\new_na_birds_dataset\\Test\\087.Mallard\n",
      "Deleted: Mallard_0004_76958.jpg from C:\\Users\\dwmcc\\Desktop\\Learningfuze\\new_na_birds_dataset\\Train\\087.Mallard\n",
      "Copied first: Mallard_0005_76026.jpg to C:\\Users\\dwmcc\\Desktop\\Learningfuze\\new_na_birds_dataset\\Test\\087.Mallard\n",
      "Deleted: Mallard_0005_76026.jpg from C:\\Users\\dwmcc\\Desktop\\Learningfuze\\new_na_birds_dataset\\Train\\087.Mallard\n",
      "Copied first: Mallard_0006_77171.jpg to C:\\Users\\dwmcc\\Desktop\\Learningfuze\\new_na_birds_dataset\\Test\\087.Mallard\n",
      "Deleted: Mallard_0006_77171.jpg from C:\\Users\\dwmcc\\Desktop\\Learningfuze\\new_na_birds_dataset\\Train\\087.Mallard\n",
      "Copied first: Mallard_0013_77619.jpg to C:\\Users\\dwmcc\\Desktop\\Learningfuze\\new_na_birds_dataset\\Test\\087.Mallard\n",
      "Deleted: Mallard_0013_77619.jpg from C:\\Users\\dwmcc\\Desktop\\Learningfuze\\new_na_birds_dataset\\Train\\087.Mallard\n",
      "Copied last: Mallard_0131_76296.jpg to C:\\Users\\dwmcc\\Desktop\\Learningfuze\\new_na_birds_dataset\\Valid\\087.Mallard\n",
      "Deleted: Mallard_0131_76296.jpg from C:\\Users\\dwmcc\\Desktop\\Learningfuze\\new_na_birds_dataset\\Train\\087.Mallard\n",
      "Copied last: Mallard_0136_76593.jpg to C:\\Users\\dwmcc\\Desktop\\Learningfuze\\new_na_birds_dataset\\Valid\\087.Mallard\n",
      "Deleted: Mallard_0136_76593.jpg from C:\\Users\\dwmcc\\Desktop\\Learningfuze\\new_na_birds_dataset\\Train\\087.Mallard\n",
      "Copied last: Mallard_0138_76735.jpg to C:\\Users\\dwmcc\\Desktop\\Learningfuze\\new_na_birds_dataset\\Valid\\087.Mallard\n",
      "Deleted: Mallard_0138_76735.jpg from C:\\Users\\dwmcc\\Desktop\\Learningfuze\\new_na_birds_dataset\\Train\\087.Mallard\n",
      "Copied last: Mallard_0141_76977.jpg to C:\\Users\\dwmcc\\Desktop\\Learningfuze\\new_na_birds_dataset\\Valid\\087.Mallard\n",
      "Deleted: Mallard_0141_76977.jpg from C:\\Users\\dwmcc\\Desktop\\Learningfuze\\new_na_birds_dataset\\Train\\087.Mallard\n",
      "Successfully copied the first 4 images to C:\\Users\\dwmcc\\Desktop\\Learningfuze\\new_na_birds_dataset\\Test\\087.Mallard and the last 4 images to C:\\Users\\dwmcc\\Desktop\\Learningfuze\\new_na_birds_dataset\\Valid\\087.Mallard, and deleted them from C:\\Users\\dwmcc\\Desktop\\Learningfuze\\new_na_birds_dataset\\Train\\087.Mallard\n"
     ]
    }
   ],
   "source": [
    "train = r\"C:\\Users\\dwmcc\\Desktop\\Learningfuze\\new_na_birds_dataset\\Train\\087.Mallard\"\n",
    "test = r\"C:\\Users\\dwmcc\\Desktop\\Learningfuze\\new_na_birds_dataset\\Test\\087.Mallard\"\n",
    "valid = r\"C:\\Users\\dwmcc\\Desktop\\Learningfuze\\new_na_birds_dataset\\Valid\\087.Mallard\"\n",
    "\n",
    "nutcracker(train, test, valid)"
   ]
  },
  {
   "cell_type": "code",
   "execution_count": 27,
   "id": "300468fa",
   "metadata": {},
   "outputs": [
    {
     "name": "stdout",
     "output_type": "stream",
     "text": [
      "Destination folder already exists: C:\\Users\\dwmcc\\Desktop\\Learningfuze\\new_na_birds_dataset\\Test\\088.Western_Meadowlark\n",
      "Destination folder already exists: C:\\Users\\dwmcc\\Desktop\\Learningfuze\\new_na_birds_dataset\\Valid\\088.Western_Meadowlark\n",
      "Copied first: Western_Meadowlark_0001_78676.jpg to C:\\Users\\dwmcc\\Desktop\\Learningfuze\\new_na_birds_dataset\\Test\\088.Western_Meadowlark\n",
      "Deleted: Western_Meadowlark_0001_78676.jpg from C:\\Users\\dwmcc\\Desktop\\Learningfuze\\new_na_birds_dataset\\Train\\088.Western_Meadowlark\n",
      "Copied first: Western_Meadowlark_0003_78864.jpg to C:\\Users\\dwmcc\\Desktop\\Learningfuze\\new_na_birds_dataset\\Test\\088.Western_Meadowlark\n",
      "Deleted: Western_Meadowlark_0003_78864.jpg from C:\\Users\\dwmcc\\Desktop\\Learningfuze\\new_na_birds_dataset\\Train\\088.Western_Meadowlark\n",
      "Copied first: Western_Meadowlark_0013_77712.jpg to C:\\Users\\dwmcc\\Desktop\\Learningfuze\\new_na_birds_dataset\\Test\\088.Western_Meadowlark\n",
      "Deleted: Western_Meadowlark_0013_77712.jpg from C:\\Users\\dwmcc\\Desktop\\Learningfuze\\new_na_birds_dataset\\Train\\088.Western_Meadowlark\n",
      "Copied first: Western_Meadowlark_0014_78421.jpg to C:\\Users\\dwmcc\\Desktop\\Learningfuze\\new_na_birds_dataset\\Test\\088.Western_Meadowlark\n",
      "Deleted: Western_Meadowlark_0014_78421.jpg from C:\\Users\\dwmcc\\Desktop\\Learningfuze\\new_na_birds_dataset\\Train\\088.Western_Meadowlark\n",
      "Copied last: Western_Meadowlark_0118_78820.jpg to C:\\Users\\dwmcc\\Desktop\\Learningfuze\\new_na_birds_dataset\\Valid\\088.Western_Meadowlark\n",
      "Deleted: Western_Meadowlark_0118_78820.jpg from C:\\Users\\dwmcc\\Desktop\\Learningfuze\\new_na_birds_dataset\\Train\\088.Western_Meadowlark\n",
      "Copied last: Western_Meadowlark_0120_77834.jpg to C:\\Users\\dwmcc\\Desktop\\Learningfuze\\new_na_birds_dataset\\Valid\\088.Western_Meadowlark\n",
      "Deleted: Western_Meadowlark_0120_77834.jpg from C:\\Users\\dwmcc\\Desktop\\Learningfuze\\new_na_birds_dataset\\Train\\088.Western_Meadowlark\n",
      "Copied last: Western_Meadowlark_0121_78402.jpg to C:\\Users\\dwmcc\\Desktop\\Learningfuze\\new_na_birds_dataset\\Valid\\088.Western_Meadowlark\n",
      "Deleted: Western_Meadowlark_0121_78402.jpg from C:\\Users\\dwmcc\\Desktop\\Learningfuze\\new_na_birds_dataset\\Train\\088.Western_Meadowlark\n",
      "Copied last: Western_Meadowlark_0125_77850.jpg to C:\\Users\\dwmcc\\Desktop\\Learningfuze\\new_na_birds_dataset\\Valid\\088.Western_Meadowlark\n",
      "Deleted: Western_Meadowlark_0125_77850.jpg from C:\\Users\\dwmcc\\Desktop\\Learningfuze\\new_na_birds_dataset\\Train\\088.Western_Meadowlark\n",
      "Successfully copied the first 4 images to C:\\Users\\dwmcc\\Desktop\\Learningfuze\\new_na_birds_dataset\\Test\\088.Western_Meadowlark and the last 4 images to C:\\Users\\dwmcc\\Desktop\\Learningfuze\\new_na_birds_dataset\\Valid\\088.Western_Meadowlark, and deleted them from C:\\Users\\dwmcc\\Desktop\\Learningfuze\\new_na_birds_dataset\\Train\\088.Western_Meadowlark\n"
     ]
    }
   ],
   "source": [
    "train = r\"C:\\Users\\dwmcc\\Desktop\\Learningfuze\\new_na_birds_dataset\\Train\\088.Western_Meadowlark\"\n",
    "test = r\"C:\\Users\\dwmcc\\Desktop\\Learningfuze\\new_na_birds_dataset\\Test\\088.Western_Meadowlark\"\n",
    "valid = r\"C:\\Users\\dwmcc\\Desktop\\Learningfuze\\new_na_birds_dataset\\Valid\\088.Western_Meadowlark\"\n",
    "\n",
    "nutcracker(train, test, valid)"
   ]
  },
  {
   "cell_type": "code",
   "execution_count": 28,
   "id": "8dfbe4f5",
   "metadata": {},
   "outputs": [
    {
     "name": "stdout",
     "output_type": "stream",
     "text": [
      "Destination folder already exists: C:\\Users\\dwmcc\\Desktop\\Learningfuze\\new_na_birds_dataset\\Test\\089.Hooded_Merganser\n",
      "Destination folder already exists: C:\\Users\\dwmcc\\Desktop\\Learningfuze\\new_na_birds_dataset\\Valid\\089.Hooded_Merganser\n",
      "Copied first: Hooded_Merganser_0002_796781.jpg to C:\\Users\\dwmcc\\Desktop\\Learningfuze\\new_na_birds_dataset\\Test\\089.Hooded_Merganser\n",
      "Deleted: Hooded_Merganser_0002_796781.jpg from C:\\Users\\dwmcc\\Desktop\\Learningfuze\\new_na_birds_dataset\\Train\\089.Hooded_Merganser\n",
      "Copied first: Hooded_Merganser_0006_796778.jpg to C:\\Users\\dwmcc\\Desktop\\Learningfuze\\new_na_birds_dataset\\Test\\089.Hooded_Merganser\n",
      "Deleted: Hooded_Merganser_0006_796778.jpg from C:\\Users\\dwmcc\\Desktop\\Learningfuze\\new_na_birds_dataset\\Train\\089.Hooded_Merganser\n",
      "Copied first: Hooded_Merganser_0007_79157.jpg to C:\\Users\\dwmcc\\Desktop\\Learningfuze\\new_na_birds_dataset\\Test\\089.Hooded_Merganser\n",
      "Deleted: Hooded_Merganser_0007_79157.jpg from C:\\Users\\dwmcc\\Desktop\\Learningfuze\\new_na_birds_dataset\\Train\\089.Hooded_Merganser\n",
      "Copied first: Hooded_Merganser_0009_79012.jpg to C:\\Users\\dwmcc\\Desktop\\Learningfuze\\new_na_birds_dataset\\Test\\089.Hooded_Merganser\n",
      "Deleted: Hooded_Merganser_0009_79012.jpg from C:\\Users\\dwmcc\\Desktop\\Learningfuze\\new_na_birds_dataset\\Train\\089.Hooded_Merganser\n",
      "Copied last: Hooded_Merganser_0090_796774.jpg to C:\\Users\\dwmcc\\Desktop\\Learningfuze\\new_na_birds_dataset\\Valid\\089.Hooded_Merganser\n",
      "Deleted: Hooded_Merganser_0090_796774.jpg from C:\\Users\\dwmcc\\Desktop\\Learningfuze\\new_na_birds_dataset\\Train\\089.Hooded_Merganser\n",
      "Copied last: Hooded_Merganser_0092_78989.jpg to C:\\Users\\dwmcc\\Desktop\\Learningfuze\\new_na_birds_dataset\\Valid\\089.Hooded_Merganser\n",
      "Deleted: Hooded_Merganser_0092_78989.jpg from C:\\Users\\dwmcc\\Desktop\\Learningfuze\\new_na_birds_dataset\\Train\\089.Hooded_Merganser\n",
      "Copied last: Hooded_Merganser_0093_79075.jpg to C:\\Users\\dwmcc\\Desktop\\Learningfuze\\new_na_birds_dataset\\Valid\\089.Hooded_Merganser\n",
      "Deleted: Hooded_Merganser_0093_79075.jpg from C:\\Users\\dwmcc\\Desktop\\Learningfuze\\new_na_birds_dataset\\Train\\089.Hooded_Merganser\n",
      "Copied last: Hooded_Merganser_0094_796786.jpg to C:\\Users\\dwmcc\\Desktop\\Learningfuze\\new_na_birds_dataset\\Valid\\089.Hooded_Merganser\n",
      "Deleted: Hooded_Merganser_0094_796786.jpg from C:\\Users\\dwmcc\\Desktop\\Learningfuze\\new_na_birds_dataset\\Train\\089.Hooded_Merganser\n",
      "Successfully copied the first 4 images to C:\\Users\\dwmcc\\Desktop\\Learningfuze\\new_na_birds_dataset\\Test\\089.Hooded_Merganser and the last 4 images to C:\\Users\\dwmcc\\Desktop\\Learningfuze\\new_na_birds_dataset\\Valid\\089.Hooded_Merganser, and deleted them from C:\\Users\\dwmcc\\Desktop\\Learningfuze\\new_na_birds_dataset\\Train\\089.Hooded_Merganser\n"
     ]
    }
   ],
   "source": [
    "train = r\"C:\\Users\\dwmcc\\Desktop\\Learningfuze\\new_na_birds_dataset\\Train\\089.Hooded_Merganser\"\n",
    "test = r\"C:\\Users\\dwmcc\\Desktop\\Learningfuze\\new_na_birds_dataset\\Test\\089.Hooded_Merganser\"\n",
    "valid = r\"C:\\Users\\dwmcc\\Desktop\\Learningfuze\\new_na_birds_dataset\\Valid\\089.Hooded_Merganser\"\n",
    "\n",
    "nutcracker(train, test, valid)"
   ]
  },
  {
   "cell_type": "code",
   "execution_count": 29,
   "id": "50edb720",
   "metadata": {},
   "outputs": [
    {
     "name": "stdout",
     "output_type": "stream",
     "text": [
      "Destination folder already exists: C:\\Users\\dwmcc\\Desktop\\Learningfuze\\new_na_birds_dataset\\Test\\090.Red_breasted_Merganser\n",
      "Destination folder already exists: C:\\Users\\dwmcc\\Desktop\\Learningfuze\\new_na_birds_dataset\\Valid\\090.Red_breasted_Merganser\n",
      "Copied first: Red_Breasted_Merganser_0001_79199.jpg to C:\\Users\\dwmcc\\Desktop\\Learningfuze\\new_na_birds_dataset\\Test\\090.Red_breasted_Merganser\n",
      "Deleted: Red_Breasted_Merganser_0001_79199.jpg from C:\\Users\\dwmcc\\Desktop\\Learningfuze\\new_na_birds_dataset\\Train\\090.Red_breasted_Merganser\n",
      "Copied first: Red_Breasted_Merganser_0002_79447.jpg to C:\\Users\\dwmcc\\Desktop\\Learningfuze\\new_na_birds_dataset\\Test\\090.Red_breasted_Merganser\n",
      "Deleted: Red_Breasted_Merganser_0002_79447.jpg from C:\\Users\\dwmcc\\Desktop\\Learningfuze\\new_na_birds_dataset\\Train\\090.Red_breasted_Merganser\n",
      "Copied first: Red_Breasted_Merganser_0003_79303.jpg to C:\\Users\\dwmcc\\Desktop\\Learningfuze\\new_na_birds_dataset\\Test\\090.Red_breasted_Merganser\n",
      "Deleted: Red_Breasted_Merganser_0003_79303.jpg from C:\\Users\\dwmcc\\Desktop\\Learningfuze\\new_na_birds_dataset\\Train\\090.Red_breasted_Merganser\n",
      "Copied first: Red_Breasted_Merganser_0004_79232.jpg to C:\\Users\\dwmcc\\Desktop\\Learningfuze\\new_na_birds_dataset\\Test\\090.Red_breasted_Merganser\n",
      "Deleted: Red_Breasted_Merganser_0004_79232.jpg from C:\\Users\\dwmcc\\Desktop\\Learningfuze\\new_na_birds_dataset\\Train\\090.Red_breasted_Merganser\n",
      "Copied last: Red_Breasted_Merganser_0081_79396.jpg to C:\\Users\\dwmcc\\Desktop\\Learningfuze\\new_na_birds_dataset\\Valid\\090.Red_breasted_Merganser\n",
      "Deleted: Red_Breasted_Merganser_0081_79396.jpg from C:\\Users\\dwmcc\\Desktop\\Learningfuze\\new_na_birds_dataset\\Train\\090.Red_breasted_Merganser\n",
      "Copied last: Red_Breasted_Merganser_0082_79214.jpg to C:\\Users\\dwmcc\\Desktop\\Learningfuze\\new_na_birds_dataset\\Valid\\090.Red_breasted_Merganser\n",
      "Deleted: Red_Breasted_Merganser_0082_79214.jpg from C:\\Users\\dwmcc\\Desktop\\Learningfuze\\new_na_birds_dataset\\Train\\090.Red_breasted_Merganser\n",
      "Copied last: Red_Breasted_Merganser_0083_79562.jpg to C:\\Users\\dwmcc\\Desktop\\Learningfuze\\new_na_birds_dataset\\Valid\\090.Red_breasted_Merganser\n",
      "Deleted: Red_Breasted_Merganser_0083_79562.jpg from C:\\Users\\dwmcc\\Desktop\\Learningfuze\\new_na_birds_dataset\\Train\\090.Red_breasted_Merganser\n",
      "Copied last: Red_Breasted_Merganser_0085_79285.jpg to C:\\Users\\dwmcc\\Desktop\\Learningfuze\\new_na_birds_dataset\\Valid\\090.Red_breasted_Merganser\n",
      "Deleted: Red_Breasted_Merganser_0085_79285.jpg from C:\\Users\\dwmcc\\Desktop\\Learningfuze\\new_na_birds_dataset\\Train\\090.Red_breasted_Merganser\n",
      "Successfully copied the first 4 images to C:\\Users\\dwmcc\\Desktop\\Learningfuze\\new_na_birds_dataset\\Test\\090.Red_breasted_Merganser and the last 4 images to C:\\Users\\dwmcc\\Desktop\\Learningfuze\\new_na_birds_dataset\\Valid\\090.Red_breasted_Merganser, and deleted them from C:\\Users\\dwmcc\\Desktop\\Learningfuze\\new_na_birds_dataset\\Train\\090.Red_breasted_Merganser\n"
     ]
    }
   ],
   "source": [
    "train = r\"C:\\Users\\dwmcc\\Desktop\\Learningfuze\\new_na_birds_dataset\\Train\\090.Red_breasted_Merganser\"\n",
    "test = r\"C:\\Users\\dwmcc\\Desktop\\Learningfuze\\new_na_birds_dataset\\Test\\090.Red_breasted_Merganser\"\n",
    "valid = r\"C:\\Users\\dwmcc\\Desktop\\Learningfuze\\new_na_birds_dataset\\Valid\\090.Red_breasted_Merganser\"\n",
    "\n",
    "nutcracker(train, test, valid)"
   ]
  },
  {
   "cell_type": "code",
   "execution_count": 30,
   "id": "cba1a927",
   "metadata": {},
   "outputs": [
    {
     "name": "stdout",
     "output_type": "stream",
     "text": [
      "Destination folder already exists: C:\\Users\\dwmcc\\Desktop\\Learningfuze\\new_na_birds_dataset\\Test\\055.Evening_Grosbeak\n",
      "Destination folder already exists: C:\\Users\\dwmcc\\Desktop\\Learningfuze\\new_na_birds_dataset\\Valid\\055.Evening_Grosbeak\n",
      "Copied first: Evening_Grosbeak_0001_37437.jpg to C:\\Users\\dwmcc\\Desktop\\Learningfuze\\new_na_birds_dataset\\Test\\055.Evening_Grosbeak\n",
      "Deleted: Evening_Grosbeak_0001_37437.jpg from C:\\Users\\dwmcc\\Desktop\\Learningfuze\\new_na_birds_dataset\\Train\\055.Evening_Grosbeak\n",
      "Copied first: Evening_Grosbeak_0003_37698.jpg to C:\\Users\\dwmcc\\Desktop\\Learningfuze\\new_na_birds_dataset\\Test\\055.Evening_Grosbeak\n",
      "Deleted: Evening_Grosbeak_0003_37698.jpg from C:\\Users\\dwmcc\\Desktop\\Learningfuze\\new_na_birds_dataset\\Train\\055.Evening_Grosbeak\n",
      "Copied first: Evening_Grosbeak_0004_37960.jpg to C:\\Users\\dwmcc\\Desktop\\Learningfuze\\new_na_birds_dataset\\Test\\055.Evening_Grosbeak\n",
      "Deleted: Evening_Grosbeak_0004_37960.jpg from C:\\Users\\dwmcc\\Desktop\\Learningfuze\\new_na_birds_dataset\\Train\\055.Evening_Grosbeak\n",
      "Copied first: Evening_Grosbeak_0005_37331.jpg to C:\\Users\\dwmcc\\Desktop\\Learningfuze\\new_na_birds_dataset\\Test\\055.Evening_Grosbeak\n",
      "Deleted: Evening_Grosbeak_0005_37331.jpg from C:\\Users\\dwmcc\\Desktop\\Learningfuze\\new_na_birds_dataset\\Train\\055.Evening_Grosbeak\n",
      "Copied last: Evening_Grosbeak_0130_37813.jpg to C:\\Users\\dwmcc\\Desktop\\Learningfuze\\new_na_birds_dataset\\Valid\\055.Evening_Grosbeak\n",
      "Deleted: Evening_Grosbeak_0130_37813.jpg from C:\\Users\\dwmcc\\Desktop\\Learningfuze\\new_na_birds_dataset\\Train\\055.Evening_Grosbeak\n",
      "Copied last: Evening_Grosbeak_0132_38025.jpg to C:\\Users\\dwmcc\\Desktop\\Learningfuze\\new_na_birds_dataset\\Valid\\055.Evening_Grosbeak\n",
      "Deleted: Evening_Grosbeak_0132_38025.jpg from C:\\Users\\dwmcc\\Desktop\\Learningfuze\\new_na_birds_dataset\\Train\\055.Evening_Grosbeak\n",
      "Copied last: Evening_Grosbeak_0133_37976.jpg to C:\\Users\\dwmcc\\Desktop\\Learningfuze\\new_na_birds_dataset\\Valid\\055.Evening_Grosbeak\n",
      "Deleted: Evening_Grosbeak_0133_37976.jpg from C:\\Users\\dwmcc\\Desktop\\Learningfuze\\new_na_birds_dataset\\Train\\055.Evening_Grosbeak\n",
      "Copied last: Evening_Grosbeak_0141_37398.jpg to C:\\Users\\dwmcc\\Desktop\\Learningfuze\\new_na_birds_dataset\\Valid\\055.Evening_Grosbeak\n",
      "Deleted: Evening_Grosbeak_0141_37398.jpg from C:\\Users\\dwmcc\\Desktop\\Learningfuze\\new_na_birds_dataset\\Train\\055.Evening_Grosbeak\n",
      "Successfully copied the first 4 images to C:\\Users\\dwmcc\\Desktop\\Learningfuze\\new_na_birds_dataset\\Test\\055.Evening_Grosbeak and the last 4 images to C:\\Users\\dwmcc\\Desktop\\Learningfuze\\new_na_birds_dataset\\Valid\\055.Evening_Grosbeak, and deleted them from C:\\Users\\dwmcc\\Desktop\\Learningfuze\\new_na_birds_dataset\\Train\\055.Evening_Grosbeak\n"
     ]
    }
   ],
   "source": [
    "train = r\"C:\\Users\\dwmcc\\Desktop\\Learningfuze\\new_na_birds_dataset\\Train\\055.Evening_Grosbeak\"\n",
    "test = r\"C:\\Users\\dwmcc\\Desktop\\Learningfuze\\new_na_birds_dataset\\Test\\055.Evening_Grosbeak\"\n",
    "valid = r\"C:\\Users\\dwmcc\\Desktop\\Learningfuze\\new_na_birds_dataset\\Valid\\055.Evening_Grosbeak\"\n",
    "\n",
    "nutcracker(train, test, valid)"
   ]
  },
  {
   "cell_type": "code",
   "execution_count": 31,
   "id": "245c03c7",
   "metadata": {},
   "outputs": [
    {
     "name": "stdout",
     "output_type": "stream",
     "text": [
      "Destination folder already exists: C:\\Users\\dwmcc\\Desktop\\Learningfuze\\new_na_birds_dataset\\Test\\091.Mockingbird\n",
      "Destination folder already exists: C:\\Users\\dwmcc\\Desktop\\Learningfuze\\new_na_birds_dataset\\Valid\\091.Mockingbird\n",
      "Copied first: Mockingbird_0001_79812.jpg to C:\\Users\\dwmcc\\Desktop\\Learningfuze\\new_na_birds_dataset\\Test\\091.Mockingbird\n",
      "Deleted: Mockingbird_0001_79812.jpg from C:\\Users\\dwmcc\\Desktop\\Learningfuze\\new_na_birds_dataset\\Train\\091.Mockingbird\n",
      "Copied first: Mockingbird_0003_80833.jpg to C:\\Users\\dwmcc\\Desktop\\Learningfuze\\new_na_birds_dataset\\Test\\091.Mockingbird\n",
      "Deleted: Mockingbird_0003_80833.jpg from C:\\Users\\dwmcc\\Desktop\\Learningfuze\\new_na_birds_dataset\\Train\\091.Mockingbird\n",
      "Copied first: Mockingbird_0004_81991.jpg to C:\\Users\\dwmcc\\Desktop\\Learningfuze\\new_na_birds_dataset\\Test\\091.Mockingbird\n",
      "Deleted: Mockingbird_0004_81991.jpg from C:\\Users\\dwmcc\\Desktop\\Learningfuze\\new_na_birds_dataset\\Train\\091.Mockingbird\n",
      "Copied first: Mockingbird_0006_79819.jpg to C:\\Users\\dwmcc\\Desktop\\Learningfuze\\new_na_birds_dataset\\Test\\091.Mockingbird\n",
      "Deleted: Mockingbird_0006_79819.jpg from C:\\Users\\dwmcc\\Desktop\\Learningfuze\\new_na_birds_dataset\\Train\\091.Mockingbird\n",
      "Copied last: Mockingbird_0103_79659.jpg to C:\\Users\\dwmcc\\Desktop\\Learningfuze\\new_na_birds_dataset\\Valid\\091.Mockingbird\n",
      "Deleted: Mockingbird_0103_79659.jpg from C:\\Users\\dwmcc\\Desktop\\Learningfuze\\new_na_birds_dataset\\Train\\091.Mockingbird\n",
      "Copied last: Mockingbird_0106_81381.jpg to C:\\Users\\dwmcc\\Desktop\\Learningfuze\\new_na_birds_dataset\\Valid\\091.Mockingbird\n",
      "Deleted: Mockingbird_0106_81381.jpg from C:\\Users\\dwmcc\\Desktop\\Learningfuze\\new_na_birds_dataset\\Train\\091.Mockingbird\n",
      "Copied last: Mockingbird_0108_81908.jpg to C:\\Users\\dwmcc\\Desktop\\Learningfuze\\new_na_birds_dataset\\Valid\\091.Mockingbird\n",
      "Deleted: Mockingbird_0108_81908.jpg from C:\\Users\\dwmcc\\Desktop\\Learningfuze\\new_na_birds_dataset\\Train\\091.Mockingbird\n",
      "Copied last: Mockingbird_0109_79682.jpg to C:\\Users\\dwmcc\\Desktop\\Learningfuze\\new_na_birds_dataset\\Valid\\091.Mockingbird\n",
      "Deleted: Mockingbird_0109_79682.jpg from C:\\Users\\dwmcc\\Desktop\\Learningfuze\\new_na_birds_dataset\\Train\\091.Mockingbird\n",
      "Successfully copied the first 4 images to C:\\Users\\dwmcc\\Desktop\\Learningfuze\\new_na_birds_dataset\\Test\\091.Mockingbird and the last 4 images to C:\\Users\\dwmcc\\Desktop\\Learningfuze\\new_na_birds_dataset\\Valid\\091.Mockingbird, and deleted them from C:\\Users\\dwmcc\\Desktop\\Learningfuze\\new_na_birds_dataset\\Train\\091.Mockingbird\n"
     ]
    }
   ],
   "source": [
    "train = r\"C:\\Users\\dwmcc\\Desktop\\Learningfuze\\new_na_birds_dataset\\Train\\091.Mockingbird\"\n",
    "test = r\"C:\\Users\\dwmcc\\Desktop\\Learningfuze\\new_na_birds_dataset\\Test\\091.Mockingbird\"\n",
    "valid = r\"C:\\Users\\dwmcc\\Desktop\\Learningfuze\\new_na_birds_dataset\\Valid\\091.Mockingbird\"\n",
    "\n",
    "nutcracker(train, test, valid)"
   ]
  },
  {
   "cell_type": "code",
   "execution_count": 32,
   "id": "865892c9",
   "metadata": {},
   "outputs": [
    {
     "name": "stdout",
     "output_type": "stream",
     "text": [
      "Destination folder already exists: C:\\Users\\dwmcc\\Desktop\\Learningfuze\\new_na_birds_dataset\\Test\\093.Clark_Nutcracker\n",
      "Destination folder already exists: C:\\Users\\dwmcc\\Desktop\\Learningfuze\\new_na_birds_dataset\\Valid\\093.Clark_Nutcracker\n",
      "Copied first: Clark_Nutcracker_0003_85296.jpg to C:\\Users\\dwmcc\\Desktop\\Learningfuze\\new_na_birds_dataset\\Test\\093.Clark_Nutcracker\n",
      "Deleted: Clark_Nutcracker_0003_85296.jpg from C:\\Users\\dwmcc\\Desktop\\Learningfuze\\new_na_birds_dataset\\Train\\093.Clark_Nutcracker\n",
      "Copied first: Clark_Nutcracker_0005_85190.jpg to C:\\Users\\dwmcc\\Desktop\\Learningfuze\\new_na_birds_dataset\\Test\\093.Clark_Nutcracker\n",
      "Deleted: Clark_Nutcracker_0005_85190.jpg from C:\\Users\\dwmcc\\Desktop\\Learningfuze\\new_na_birds_dataset\\Train\\093.Clark_Nutcracker\n",
      "Copied first: Clark_Nutcracker_0011_85698.jpg to C:\\Users\\dwmcc\\Desktop\\Learningfuze\\new_na_birds_dataset\\Test\\093.Clark_Nutcracker\n",
      "Deleted: Clark_Nutcracker_0011_85698.jpg from C:\\Users\\dwmcc\\Desktop\\Learningfuze\\new_na_birds_dataset\\Train\\093.Clark_Nutcracker\n",
      "Copied first: Clark_Nutcracker_0013_84791.jpg to C:\\Users\\dwmcc\\Desktop\\Learningfuze\\new_na_birds_dataset\\Test\\093.Clark_Nutcracker\n",
      "Deleted: Clark_Nutcracker_0013_84791.jpg from C:\\Users\\dwmcc\\Desktop\\Learningfuze\\new_na_birds_dataset\\Train\\093.Clark_Nutcracker\n",
      "Copied last: Clark_Nutcracker_0137_85172.jpg to C:\\Users\\dwmcc\\Desktop\\Learningfuze\\new_na_birds_dataset\\Valid\\093.Clark_Nutcracker\n",
      "Deleted: Clark_Nutcracker_0137_85172.jpg from C:\\Users\\dwmcc\\Desktop\\Learningfuze\\new_na_birds_dataset\\Train\\093.Clark_Nutcracker\n",
      "Copied last: Clark_Nutcracker_0138_85633.jpg to C:\\Users\\dwmcc\\Desktop\\Learningfuze\\new_na_birds_dataset\\Valid\\093.Clark_Nutcracker\n",
      "Deleted: Clark_Nutcracker_0138_85633.jpg from C:\\Users\\dwmcc\\Desktop\\Learningfuze\\new_na_birds_dataset\\Train\\093.Clark_Nutcracker\n",
      "Copied last: Clark_Nutcracker_0139_84942.jpg to C:\\Users\\dwmcc\\Desktop\\Learningfuze\\new_na_birds_dataset\\Valid\\093.Clark_Nutcracker\n",
      "Deleted: Clark_Nutcracker_0139_84942.jpg from C:\\Users\\dwmcc\\Desktop\\Learningfuze\\new_na_birds_dataset\\Train\\093.Clark_Nutcracker\n",
      "Copied last: Clark_Nutcracker_0142_85322.jpg to C:\\Users\\dwmcc\\Desktop\\Learningfuze\\new_na_birds_dataset\\Valid\\093.Clark_Nutcracker\n",
      "Deleted: Clark_Nutcracker_0142_85322.jpg from C:\\Users\\dwmcc\\Desktop\\Learningfuze\\new_na_birds_dataset\\Train\\093.Clark_Nutcracker\n",
      "Successfully copied the first 4 images to C:\\Users\\dwmcc\\Desktop\\Learningfuze\\new_na_birds_dataset\\Test\\093.Clark_Nutcracker and the last 4 images to C:\\Users\\dwmcc\\Desktop\\Learningfuze\\new_na_birds_dataset\\Valid\\093.Clark_Nutcracker, and deleted them from C:\\Users\\dwmcc\\Desktop\\Learningfuze\\new_na_birds_dataset\\Train\\093.Clark_Nutcracker\n"
     ]
    }
   ],
   "source": [
    "train = r\"C:\\Users\\dwmcc\\Desktop\\Learningfuze\\new_na_birds_dataset\\Train\\093.Clark_Nutcracker\"\n",
    "test = r\"C:\\Users\\dwmcc\\Desktop\\Learningfuze\\new_na_birds_dataset\\Test\\093.Clark_Nutcracker\"\n",
    "valid = r\"C:\\Users\\dwmcc\\Desktop\\Learningfuze\\new_na_birds_dataset\\Valid\\093.Clark_Nutcracker\"\n",
    "\n",
    "nutcracker(train, test, valid)"
   ]
  },
  {
   "cell_type": "code",
   "execution_count": 33,
   "id": "4f0119cd",
   "metadata": {},
   "outputs": [
    {
     "name": "stdout",
     "output_type": "stream",
     "text": [
      "Destination folder already exists: C:\\Users\\dwmcc\\Desktop\\Learningfuze\\new_na_birds_dataset\\Test\\094.White_breasted_Nuthatch\n",
      "Destination folder already exists: C:\\Users\\dwmcc\\Desktop\\Learningfuze\\new_na_birds_dataset\\Valid\\094.White_breasted_Nuthatch\n",
      "Copied first: White_Breasted_Nuthatch_0002_86287.jpg to C:\\Users\\dwmcc\\Desktop\\Learningfuze\\new_na_birds_dataset\\Test\\094.White_breasted_Nuthatch\n",
      "Deleted: White_Breasted_Nuthatch_0002_86287.jpg from C:\\Users\\dwmcc\\Desktop\\Learningfuze\\new_na_birds_dataset\\Train\\094.White_breasted_Nuthatch\n",
      "Copied first: White_Breasted_Nuthatch_0003_86029.jpg to C:\\Users\\dwmcc\\Desktop\\Learningfuze\\new_na_birds_dataset\\Test\\094.White_breasted_Nuthatch\n",
      "Deleted: White_Breasted_Nuthatch_0003_86029.jpg from C:\\Users\\dwmcc\\Desktop\\Learningfuze\\new_na_birds_dataset\\Train\\094.White_breasted_Nuthatch\n",
      "Copied first: White_Breasted_Nuthatch_0004_86969.jpg to C:\\Users\\dwmcc\\Desktop\\Learningfuze\\new_na_birds_dataset\\Test\\094.White_breasted_Nuthatch\n",
      "Deleted: White_Breasted_Nuthatch_0004_86969.jpg from C:\\Users\\dwmcc\\Desktop\\Learningfuze\\new_na_birds_dataset\\Train\\094.White_breasted_Nuthatch\n",
      "Copied first: White_Breasted_Nuthatch_0010_85783.jpg to C:\\Users\\dwmcc\\Desktop\\Learningfuze\\new_na_birds_dataset\\Test\\094.White_breasted_Nuthatch\n",
      "Deleted: White_Breasted_Nuthatch_0010_85783.jpg from C:\\Users\\dwmcc\\Desktop\\Learningfuze\\new_na_birds_dataset\\Train\\094.White_breasted_Nuthatch\n",
      "Copied last: White_Breasted_Nuthatch_0131_86416.jpg to C:\\Users\\dwmcc\\Desktop\\Learningfuze\\new_na_birds_dataset\\Valid\\094.White_breasted_Nuthatch\n",
      "Deleted: White_Breasted_Nuthatch_0131_86416.jpg from C:\\Users\\dwmcc\\Desktop\\Learningfuze\\new_na_birds_dataset\\Train\\094.White_breasted_Nuthatch\n",
      "Copied last: White_Breasted_Nuthatch_0132_86876.jpg to C:\\Users\\dwmcc\\Desktop\\Learningfuze\\new_na_birds_dataset\\Valid\\094.White_breasted_Nuthatch\n",
      "Deleted: White_Breasted_Nuthatch_0132_86876.jpg from C:\\Users\\dwmcc\\Desktop\\Learningfuze\\new_na_birds_dataset\\Train\\094.White_breasted_Nuthatch\n",
      "Copied last: White_Breasted_Nuthatch_0137_86910.jpg to C:\\Users\\dwmcc\\Desktop\\Learningfuze\\new_na_birds_dataset\\Valid\\094.White_breasted_Nuthatch\n",
      "Deleted: White_Breasted_Nuthatch_0137_86910.jpg from C:\\Users\\dwmcc\\Desktop\\Learningfuze\\new_na_birds_dataset\\Train\\094.White_breasted_Nuthatch\n",
      "Copied last: White_Breasted_Nuthatch_0142_86805.jpg to C:\\Users\\dwmcc\\Desktop\\Learningfuze\\new_na_birds_dataset\\Valid\\094.White_breasted_Nuthatch\n",
      "Deleted: White_Breasted_Nuthatch_0142_86805.jpg from C:\\Users\\dwmcc\\Desktop\\Learningfuze\\new_na_birds_dataset\\Train\\094.White_breasted_Nuthatch\n",
      "Successfully copied the first 4 images to C:\\Users\\dwmcc\\Desktop\\Learningfuze\\new_na_birds_dataset\\Test\\094.White_breasted_Nuthatch and the last 4 images to C:\\Users\\dwmcc\\Desktop\\Learningfuze\\new_na_birds_dataset\\Valid\\094.White_breasted_Nuthatch, and deleted them from C:\\Users\\dwmcc\\Desktop\\Learningfuze\\new_na_birds_dataset\\Train\\094.White_breasted_Nuthatch\n"
     ]
    }
   ],
   "source": [
    "train = r\"C:\\Users\\dwmcc\\Desktop\\Learningfuze\\new_na_birds_dataset\\Train\\094.White_breasted_Nuthatch\"\n",
    "test = r\"C:\\Users\\dwmcc\\Desktop\\Learningfuze\\new_na_birds_dataset\\Test\\094.White_breasted_Nuthatch\"\n",
    "valid = r\"C:\\Users\\dwmcc\\Desktop\\Learningfuze\\new_na_birds_dataset\\Valid\\094.White_breasted_Nuthatch\"\n",
    "\n",
    "nutcracker(train, test, valid)"
   ]
  },
  {
   "cell_type": "code",
   "execution_count": 34,
   "id": "919fb337",
   "metadata": {},
   "outputs": [
    {
     "name": "stdout",
     "output_type": "stream",
     "text": [
      "Destination folder already exists: C:\\Users\\dwmcc\\Desktop\\Learningfuze\\new_na_birds_dataset\\Test\\096.Hooded_Oriole\n",
      "Destination folder already exists: C:\\Users\\dwmcc\\Desktop\\Learningfuze\\new_na_birds_dataset\\Valid\\096.Hooded_Oriole\n",
      "Copied first: Hooded_Oriole_0002_91034.jpg to C:\\Users\\dwmcc\\Desktop\\Learningfuze\\new_na_birds_dataset\\Test\\096.Hooded_Oriole\n",
      "Deleted: Hooded_Oriole_0002_91034.jpg from C:\\Users\\dwmcc\\Desktop\\Learningfuze\\new_na_birds_dataset\\Train\\096.Hooded_Oriole\n",
      "Copied first: Hooded_Oriole_0004_91057.jpg to C:\\Users\\dwmcc\\Desktop\\Learningfuze\\new_na_birds_dataset\\Test\\096.Hooded_Oriole\n",
      "Deleted: Hooded_Oriole_0004_91057.jpg from C:\\Users\\dwmcc\\Desktop\\Learningfuze\\new_na_birds_dataset\\Train\\096.Hooded_Oriole\n",
      "Copied first: Hooded_Oriole_0006_90685.jpg to C:\\Users\\dwmcc\\Desktop\\Learningfuze\\new_na_birds_dataset\\Test\\096.Hooded_Oriole\n",
      "Deleted: Hooded_Oriole_0006_90685.jpg from C:\\Users\\dwmcc\\Desktop\\Learningfuze\\new_na_birds_dataset\\Train\\096.Hooded_Oriole\n",
      "Copied first: Hooded_Oriole_0007_91133.jpg to C:\\Users\\dwmcc\\Desktop\\Learningfuze\\new_na_birds_dataset\\Test\\096.Hooded_Oriole\n",
      "Deleted: Hooded_Oriole_0007_91133.jpg from C:\\Users\\dwmcc\\Desktop\\Learningfuze\\new_na_birds_dataset\\Train\\096.Hooded_Oriole\n",
      "Copied last: Hooded_Oriole_0126_90319.jpg to C:\\Users\\dwmcc\\Desktop\\Learningfuze\\new_na_birds_dataset\\Valid\\096.Hooded_Oriole\n",
      "Deleted: Hooded_Oriole_0126_90319.jpg from C:\\Users\\dwmcc\\Desktop\\Learningfuze\\new_na_birds_dataset\\Train\\096.Hooded_Oriole\n",
      "Copied last: Hooded_Oriole_0127_90200.jpg to C:\\Users\\dwmcc\\Desktop\\Learningfuze\\new_na_birds_dataset\\Valid\\096.Hooded_Oriole\n",
      "Deleted: Hooded_Oriole_0127_90200.jpg from C:\\Users\\dwmcc\\Desktop\\Learningfuze\\new_na_birds_dataset\\Train\\096.Hooded_Oriole\n",
      "Copied last: Hooded_Oriole_0129_90441.jpg to C:\\Users\\dwmcc\\Desktop\\Learningfuze\\new_na_birds_dataset\\Valid\\096.Hooded_Oriole\n",
      "Deleted: Hooded_Oriole_0129_90441.jpg from C:\\Users\\dwmcc\\Desktop\\Learningfuze\\new_na_birds_dataset\\Train\\096.Hooded_Oriole\n",
      "Copied last: Hooded_Oriole_0130_90422.jpg to C:\\Users\\dwmcc\\Desktop\\Learningfuze\\new_na_birds_dataset\\Valid\\096.Hooded_Oriole\n",
      "Deleted: Hooded_Oriole_0130_90422.jpg from C:\\Users\\dwmcc\\Desktop\\Learningfuze\\new_na_birds_dataset\\Train\\096.Hooded_Oriole\n",
      "Successfully copied the first 4 images to C:\\Users\\dwmcc\\Desktop\\Learningfuze\\new_na_birds_dataset\\Test\\096.Hooded_Oriole and the last 4 images to C:\\Users\\dwmcc\\Desktop\\Learningfuze\\new_na_birds_dataset\\Valid\\096.Hooded_Oriole, and deleted them from C:\\Users\\dwmcc\\Desktop\\Learningfuze\\new_na_birds_dataset\\Train\\096.Hooded_Oriole\n"
     ]
    }
   ],
   "source": [
    "train = r\"C:\\Users\\dwmcc\\Desktop\\Learningfuze\\new_na_birds_dataset\\Train\\096.Hooded_Oriole\"\n",
    "test = r\"C:\\Users\\dwmcc\\Desktop\\Learningfuze\\new_na_birds_dataset\\Test\\096.Hooded_Oriole\"\n",
    "valid = r\"C:\\Users\\dwmcc\\Desktop\\Learningfuze\\new_na_birds_dataset\\Valid\\096.Hooded_Oriole\"\n",
    "\n",
    "nutcracker(train, test, valid)"
   ]
  },
  {
   "cell_type": "code",
   "execution_count": 35,
   "id": "fd2f4ca6",
   "metadata": {},
   "outputs": [
    {
     "name": "stdout",
     "output_type": "stream",
     "text": [
      "Destination folder already exists: C:\\Users\\dwmcc\\Desktop\\Learningfuze\\new_na_birds_dataset\\Test\\100.Brown_Pelican\n",
      "Destination folder already exists: C:\\Users\\dwmcc\\Desktop\\Learningfuze\\new_na_birds_dataset\\Valid\\100.Brown_Pelican\n",
      "Copied first: Brown_Pelican_0002_94773.jpg to C:\\Users\\dwmcc\\Desktop\\Learningfuze\\new_na_birds_dataset\\Test\\100.Brown_Pelican\n",
      "Deleted: Brown_Pelican_0002_94773.jpg from C:\\Users\\dwmcc\\Desktop\\Learningfuze\\new_na_birds_dataset\\Train\\100.Brown_Pelican\n",
      "Copied first: Brown_Pelican_0003_94427.jpg to C:\\Users\\dwmcc\\Desktop\\Learningfuze\\new_na_birds_dataset\\Test\\100.Brown_Pelican\n",
      "Deleted: Brown_Pelican_0003_94427.jpg from C:\\Users\\dwmcc\\Desktop\\Learningfuze\\new_na_birds_dataset\\Train\\100.Brown_Pelican\n",
      "Copied first: Brown_Pelican_0007_94078.jpg to C:\\Users\\dwmcc\\Desktop\\Learningfuze\\new_na_birds_dataset\\Test\\100.Brown_Pelican\n",
      "Deleted: Brown_Pelican_0007_94078.jpg from C:\\Users\\dwmcc\\Desktop\\Learningfuze\\new_na_birds_dataset\\Train\\100.Brown_Pelican\n",
      "Copied first: Brown_Pelican_0009_94256.jpg to C:\\Users\\dwmcc\\Desktop\\Learningfuze\\new_na_birds_dataset\\Test\\100.Brown_Pelican\n",
      "Deleted: Brown_Pelican_0009_94256.jpg from C:\\Users\\dwmcc\\Desktop\\Learningfuze\\new_na_birds_dataset\\Train\\100.Brown_Pelican\n",
      "Copied last: Brown_Pelican_0131_94464.jpg to C:\\Users\\dwmcc\\Desktop\\Learningfuze\\new_na_birds_dataset\\Valid\\100.Brown_Pelican\n",
      "Deleted: Brown_Pelican_0131_94464.jpg from C:\\Users\\dwmcc\\Desktop\\Learningfuze\\new_na_birds_dataset\\Train\\100.Brown_Pelican\n",
      "Copied last: Brown_Pelican_0139_93995.jpg to C:\\Users\\dwmcc\\Desktop\\Learningfuze\\new_na_birds_dataset\\Valid\\100.Brown_Pelican\n",
      "Deleted: Brown_Pelican_0139_93995.jpg from C:\\Users\\dwmcc\\Desktop\\Learningfuze\\new_na_birds_dataset\\Train\\100.Brown_Pelican\n",
      "Copied last: Brown_Pelican_0140_93438.jpg to C:\\Users\\dwmcc\\Desktop\\Learningfuze\\new_na_birds_dataset\\Valid\\100.Brown_Pelican\n",
      "Deleted: Brown_Pelican_0140_93438.jpg from C:\\Users\\dwmcc\\Desktop\\Learningfuze\\new_na_birds_dataset\\Train\\100.Brown_Pelican\n",
      "Copied last: Brown_Pelican_0141_94533.jpg to C:\\Users\\dwmcc\\Desktop\\Learningfuze\\new_na_birds_dataset\\Valid\\100.Brown_Pelican\n",
      "Deleted: Brown_Pelican_0141_94533.jpg from C:\\Users\\dwmcc\\Desktop\\Learningfuze\\new_na_birds_dataset\\Train\\100.Brown_Pelican\n",
      "Successfully copied the first 4 images to C:\\Users\\dwmcc\\Desktop\\Learningfuze\\new_na_birds_dataset\\Test\\100.Brown_Pelican and the last 4 images to C:\\Users\\dwmcc\\Desktop\\Learningfuze\\new_na_birds_dataset\\Valid\\100.Brown_Pelican, and deleted them from C:\\Users\\dwmcc\\Desktop\\Learningfuze\\new_na_birds_dataset\\Train\\100.Brown_Pelican\n"
     ]
    }
   ],
   "source": [
    "train = r\"C:\\Users\\dwmcc\\Desktop\\Learningfuze\\new_na_birds_dataset\\Train\\100.Brown_Pelican\"\n",
    "test = r\"C:\\Users\\dwmcc\\Desktop\\Learningfuze\\new_na_birds_dataset\\Test\\100.Brown_Pelican\"\n",
    "valid = r\"C:\\Users\\dwmcc\\Desktop\\Learningfuze\\new_na_birds_dataset\\Valid\\100.Brown_Pelican\"\n",
    "\n",
    "nutcracker(train, test, valid)"
   ]
  },
  {
   "cell_type": "code",
   "execution_count": 36,
   "id": "085f5d2d",
   "metadata": {},
   "outputs": [
    {
     "name": "stdout",
     "output_type": "stream",
     "text": [
      "Destination folder already exists: C:\\Users\\dwmcc\\Desktop\\Learningfuze\\new_na_birds_dataset\\Test\\101.White_Pelican\n",
      "Destination folder already exists: C:\\Users\\dwmcc\\Desktop\\Learningfuze\\new_na_birds_dataset\\Valid\\101.White_Pelican\n",
      "Copied first: White_Pelican_0003_96691.jpg to C:\\Users\\dwmcc\\Desktop\\Learningfuze\\new_na_birds_dataset\\Test\\101.White_Pelican\n",
      "Deleted: White_Pelican_0003_96691.jpg from C:\\Users\\dwmcc\\Desktop\\Learningfuze\\new_na_birds_dataset\\Train\\101.White_Pelican\n",
      "Copied first: White_Pelican_0005_95916.jpg to C:\\Users\\dwmcc\\Desktop\\Learningfuze\\new_na_birds_dataset\\Test\\101.White_Pelican\n",
      "Deleted: White_Pelican_0005_95916.jpg from C:\\Users\\dwmcc\\Desktop\\Learningfuze\\new_na_birds_dataset\\Train\\101.White_Pelican\n",
      "Copied first: White_Pelican_0009_97340.jpg to C:\\Users\\dwmcc\\Desktop\\Learningfuze\\new_na_birds_dataset\\Test\\101.White_Pelican\n",
      "Deleted: White_Pelican_0009_97340.jpg from C:\\Users\\dwmcc\\Desktop\\Learningfuze\\new_na_birds_dataset\\Train\\101.White_Pelican\n",
      "Copied first: White_Pelican_0010_96876.jpg to C:\\Users\\dwmcc\\Desktop\\Learningfuze\\new_na_birds_dataset\\Test\\101.White_Pelican\n",
      "Deleted: White_Pelican_0010_96876.jpg from C:\\Users\\dwmcc\\Desktop\\Learningfuze\\new_na_birds_dataset\\Train\\101.White_Pelican\n",
      "Copied last: White_Pelican_0083_95840.jpg to C:\\Users\\dwmcc\\Desktop\\Learningfuze\\new_na_birds_dataset\\Valid\\101.White_Pelican\n",
      "Deleted: White_Pelican_0083_95840.jpg from C:\\Users\\dwmcc\\Desktop\\Learningfuze\\new_na_birds_dataset\\Train\\101.White_Pelican\n",
      "Copied last: White_Pelican_0084_95877.jpg to C:\\Users\\dwmcc\\Desktop\\Learningfuze\\new_na_birds_dataset\\Valid\\101.White_Pelican\n",
      "Deleted: White_Pelican_0084_95877.jpg from C:\\Users\\dwmcc\\Desktop\\Learningfuze\\new_na_birds_dataset\\Train\\101.White_Pelican\n",
      "Copied last: White_Pelican_0086_95538.jpg to C:\\Users\\dwmcc\\Desktop\\Learningfuze\\new_na_birds_dataset\\Valid\\101.White_Pelican\n",
      "Deleted: White_Pelican_0086_95538.jpg from C:\\Users\\dwmcc\\Desktop\\Learningfuze\\new_na_birds_dataset\\Train\\101.White_Pelican\n",
      "Copied last: White_Pelican_0087_97247.jpg to C:\\Users\\dwmcc\\Desktop\\Learningfuze\\new_na_birds_dataset\\Valid\\101.White_Pelican\n",
      "Deleted: White_Pelican_0087_97247.jpg from C:\\Users\\dwmcc\\Desktop\\Learningfuze\\new_na_birds_dataset\\Train\\101.White_Pelican\n",
      "Successfully copied the first 4 images to C:\\Users\\dwmcc\\Desktop\\Learningfuze\\new_na_birds_dataset\\Test\\101.White_Pelican and the last 4 images to C:\\Users\\dwmcc\\Desktop\\Learningfuze\\new_na_birds_dataset\\Valid\\101.White_Pelican, and deleted them from C:\\Users\\dwmcc\\Desktop\\Learningfuze\\new_na_birds_dataset\\Train\\101.White_Pelican\n"
     ]
    }
   ],
   "source": [
    "train = r\"C:\\Users\\dwmcc\\Desktop\\Learningfuze\\new_na_birds_dataset\\Train\\101.White_Pelican\"\n",
    "test = r\"C:\\Users\\dwmcc\\Desktop\\Learningfuze\\new_na_birds_dataset\\Test\\101.White_Pelican\"\n",
    "valid = r\"C:\\Users\\dwmcc\\Desktop\\Learningfuze\\new_na_birds_dataset\\Valid\\101.White_Pelican\"\n",
    "\n",
    "nutcracker(train, test, valid)"
   ]
  },
  {
   "cell_type": "code",
   "execution_count": 37,
   "id": "4f34401e",
   "metadata": {},
   "outputs": [
    {
     "name": "stdout",
     "output_type": "stream",
     "text": [
      "Destination folder already exists: C:\\Users\\dwmcc\\Desktop\\Learningfuze\\new_na_birds_dataset\\Test\\104.American_Pipit\n",
      "Destination folder already exists: C:\\Users\\dwmcc\\Desktop\\Learningfuze\\new_na_birds_dataset\\Valid\\104.American_Pipit\n",
      "Copied first: American_Pipit_0001_100225.jpg to C:\\Users\\dwmcc\\Desktop\\Learningfuze\\new_na_birds_dataset\\Test\\104.American_Pipit\n",
      "Deleted: American_Pipit_0001_100225.jpg from C:\\Users\\dwmcc\\Desktop\\Learningfuze\\new_na_birds_dataset\\Train\\104.American_Pipit\n",
      "Copied first: American_Pipit_0002_100023.jpg to C:\\Users\\dwmcc\\Desktop\\Learningfuze\\new_na_birds_dataset\\Test\\104.American_Pipit\n",
      "Deleted: American_Pipit_0002_100023.jpg from C:\\Users\\dwmcc\\Desktop\\Learningfuze\\new_na_birds_dataset\\Train\\104.American_Pipit\n",
      "Copied first: American_Pipit_0006_99857.jpg to C:\\Users\\dwmcc\\Desktop\\Learningfuze\\new_na_birds_dataset\\Test\\104.American_Pipit\n",
      "Deleted: American_Pipit_0006_99857.jpg from C:\\Users\\dwmcc\\Desktop\\Learningfuze\\new_na_birds_dataset\\Train\\104.American_Pipit\n",
      "Copied first: American_Pipit_0007_99808.jpg to C:\\Users\\dwmcc\\Desktop\\Learningfuze\\new_na_birds_dataset\\Test\\104.American_Pipit\n",
      "Deleted: American_Pipit_0007_99808.jpg from C:\\Users\\dwmcc\\Desktop\\Learningfuze\\new_na_birds_dataset\\Train\\104.American_Pipit\n",
      "Copied last: American_Pipit_0119_99622.jpg to C:\\Users\\dwmcc\\Desktop\\Learningfuze\\new_na_birds_dataset\\Valid\\104.American_Pipit\n",
      "Deleted: American_Pipit_0119_99622.jpg from C:\\Users\\dwmcc\\Desktop\\Learningfuze\\new_na_birds_dataset\\Train\\104.American_Pipit\n",
      "Copied last: American_Pipit_0121_100040.jpg to C:\\Users\\dwmcc\\Desktop\\Learningfuze\\new_na_birds_dataset\\Valid\\104.American_Pipit\n",
      "Deleted: American_Pipit_0121_100040.jpg from C:\\Users\\dwmcc\\Desktop\\Learningfuze\\new_na_birds_dataset\\Train\\104.American_Pipit\n",
      "Copied last: American_Pipit_0123_99929.jpg to C:\\Users\\dwmcc\\Desktop\\Learningfuze\\new_na_birds_dataset\\Valid\\104.American_Pipit\n",
      "Deleted: American_Pipit_0123_99929.jpg from C:\\Users\\dwmcc\\Desktop\\Learningfuze\\new_na_birds_dataset\\Train\\104.American_Pipit\n",
      "Copied last: American_Pipit_0124_99848.jpg to C:\\Users\\dwmcc\\Desktop\\Learningfuze\\new_na_birds_dataset\\Valid\\104.American_Pipit\n",
      "Deleted: American_Pipit_0124_99848.jpg from C:\\Users\\dwmcc\\Desktop\\Learningfuze\\new_na_birds_dataset\\Train\\104.American_Pipit\n",
      "Successfully copied the first 4 images to C:\\Users\\dwmcc\\Desktop\\Learningfuze\\new_na_birds_dataset\\Test\\104.American_Pipit and the last 4 images to C:\\Users\\dwmcc\\Desktop\\Learningfuze\\new_na_birds_dataset\\Valid\\104.American_Pipit, and deleted them from C:\\Users\\dwmcc\\Desktop\\Learningfuze\\new_na_birds_dataset\\Train\\104.American_Pipit\n"
     ]
    }
   ],
   "source": [
    "train = r\"C:\\Users\\dwmcc\\Desktop\\Learningfuze\\new_na_birds_dataset\\Train\\104.American_Pipit\"\n",
    "test = r\"C:\\Users\\dwmcc\\Desktop\\Learningfuze\\new_na_birds_dataset\\Test\\104.American_Pipit\"\n",
    "valid = r\"C:\\Users\\dwmcc\\Desktop\\Learningfuze\\new_na_birds_dataset\\Valid\\104.American_Pipit\"\n",
    "\n",
    "nutcracker(train, test, valid)"
   ]
  },
  {
   "cell_type": "code",
   "execution_count": 38,
   "id": "3a6c9200",
   "metadata": {},
   "outputs": [
    {
     "name": "stdout",
     "output_type": "stream",
     "text": [
      "Destination folder already exists: C:\\Users\\dwmcc\\Desktop\\Learningfuze\\new_na_birds_dataset\\Test\\106.Horned_Puffin\n",
      "Destination folder already exists: C:\\Users\\dwmcc\\Desktop\\Learningfuze\\new_na_birds_dataset\\Valid\\106.Horned_Puffin\n",
      "Copied first: Horned_Puffin_0001_100973.jpg to C:\\Users\\dwmcc\\Desktop\\Learningfuze\\new_na_birds_dataset\\Test\\106.Horned_Puffin\n",
      "Deleted: Horned_Puffin_0001_100973.jpg from C:\\Users\\dwmcc\\Desktop\\Learningfuze\\new_na_birds_dataset\\Train\\106.Horned_Puffin\n",
      "Copied first: Horned_Puffin_0003_101045.jpg to C:\\Users\\dwmcc\\Desktop\\Learningfuze\\new_na_birds_dataset\\Test\\106.Horned_Puffin\n",
      "Deleted: Horned_Puffin_0003_101045.jpg from C:\\Users\\dwmcc\\Desktop\\Learningfuze\\new_na_birds_dataset\\Train\\106.Horned_Puffin\n",
      "Copied first: Horned_Puffin_0004_100733.jpg to C:\\Users\\dwmcc\\Desktop\\Learningfuze\\new_na_birds_dataset\\Test\\106.Horned_Puffin\n",
      "Deleted: Horned_Puffin_0004_100733.jpg from C:\\Users\\dwmcc\\Desktop\\Learningfuze\\new_na_birds_dataset\\Train\\106.Horned_Puffin\n",
      "Copied first: Horned_Puffin_0006_100989.jpg to C:\\Users\\dwmcc\\Desktop\\Learningfuze\\new_na_birds_dataset\\Test\\106.Horned_Puffin\n",
      "Deleted: Horned_Puffin_0006_100989.jpg from C:\\Users\\dwmcc\\Desktop\\Learningfuze\\new_na_birds_dataset\\Train\\106.Horned_Puffin\n",
      "Copied last: Horned_Puffin_0081_101054.jpg to C:\\Users\\dwmcc\\Desktop\\Learningfuze\\new_na_birds_dataset\\Valid\\106.Horned_Puffin\n",
      "Deleted: Horned_Puffin_0081_101054.jpg from C:\\Users\\dwmcc\\Desktop\\Learningfuze\\new_na_birds_dataset\\Train\\106.Horned_Puffin\n",
      "Copied last: Horned_Puffin_0082_100876.jpg to C:\\Users\\dwmcc\\Desktop\\Learningfuze\\new_na_birds_dataset\\Valid\\106.Horned_Puffin\n",
      "Deleted: Horned_Puffin_0082_100876.jpg from C:\\Users\\dwmcc\\Desktop\\Learningfuze\\new_na_birds_dataset\\Train\\106.Horned_Puffin\n",
      "Copied last: Horned_Puffin_0083_100649.jpg to C:\\Users\\dwmcc\\Desktop\\Learningfuze\\new_na_birds_dataset\\Valid\\106.Horned_Puffin\n",
      "Deleted: Horned_Puffin_0083_100649.jpg from C:\\Users\\dwmcc\\Desktop\\Learningfuze\\new_na_birds_dataset\\Train\\106.Horned_Puffin\n",
      "Copied last: Horned_Puffin_0084_100637.jpg to C:\\Users\\dwmcc\\Desktop\\Learningfuze\\new_na_birds_dataset\\Valid\\106.Horned_Puffin\n",
      "Deleted: Horned_Puffin_0084_100637.jpg from C:\\Users\\dwmcc\\Desktop\\Learningfuze\\new_na_birds_dataset\\Train\\106.Horned_Puffin\n",
      "Successfully copied the first 4 images to C:\\Users\\dwmcc\\Desktop\\Learningfuze\\new_na_birds_dataset\\Test\\106.Horned_Puffin and the last 4 images to C:\\Users\\dwmcc\\Desktop\\Learningfuze\\new_na_birds_dataset\\Valid\\106.Horned_Puffin, and deleted them from C:\\Users\\dwmcc\\Desktop\\Learningfuze\\new_na_birds_dataset\\Train\\106.Horned_Puffin\n"
     ]
    }
   ],
   "source": [
    "train = r\"C:\\Users\\dwmcc\\Desktop\\Learningfuze\\new_na_birds_dataset\\Train\\106.Horned_Puffin\"\n",
    "test = r\"C:\\Users\\dwmcc\\Desktop\\Learningfuze\\new_na_birds_dataset\\Test\\106.Horned_Puffin\"\n",
    "valid = r\"C:\\Users\\dwmcc\\Desktop\\Learningfuze\\new_na_birds_dataset\\Valid\\106.Horned_Puffin\"\n",
    "\n",
    "nutcracker(train, test, valid)"
   ]
  },
  {
   "cell_type": "code",
   "execution_count": 39,
   "id": "acca7e9b",
   "metadata": {},
   "outputs": [
    {
     "name": "stdout",
     "output_type": "stream",
     "text": [
      "Destination folder already exists: C:\\Users\\dwmcc\\Desktop\\Learningfuze\\new_na_birds_dataset\\Test\\110.freaking_roadrunner\n",
      "Destination folder already exists: C:\\Users\\dwmcc\\Desktop\\Learningfuze\\new_na_birds_dataset\\Valid\\110.freaking_roadrunner\n",
      "Copied first: Geococcyx_0005_104187.jpg to C:\\Users\\dwmcc\\Desktop\\Learningfuze\\new_na_birds_dataset\\Test\\110.freaking_roadrunner\n",
      "Deleted: Geococcyx_0005_104187.jpg from C:\\Users\\dwmcc\\Desktop\\Learningfuze\\new_na_birds_dataset\\Train\\110.freaking_roadrunner\n",
      "Copied first: Geococcyx_0006_104523.jpg to C:\\Users\\dwmcc\\Desktop\\Learningfuze\\new_na_birds_dataset\\Test\\110.freaking_roadrunner\n",
      "Deleted: Geococcyx_0006_104523.jpg from C:\\Users\\dwmcc\\Desktop\\Learningfuze\\new_na_birds_dataset\\Train\\110.freaking_roadrunner\n",
      "Copied first: Geococcyx_0009_104372.jpg to C:\\Users\\dwmcc\\Desktop\\Learningfuze\\new_na_birds_dataset\\Test\\110.freaking_roadrunner\n",
      "Deleted: Geococcyx_0009_104372.jpg from C:\\Users\\dwmcc\\Desktop\\Learningfuze\\new_na_birds_dataset\\Train\\110.freaking_roadrunner\n",
      "Copied first: Geococcyx_0010_104197.jpg to C:\\Users\\dwmcc\\Desktop\\Learningfuze\\new_na_birds_dataset\\Test\\110.freaking_roadrunner\n",
      "Deleted: Geococcyx_0010_104197.jpg from C:\\Users\\dwmcc\\Desktop\\Learningfuze\\new_na_birds_dataset\\Train\\110.freaking_roadrunner\n",
      "Copied last: Geococcyx_0135_104716.jpg to C:\\Users\\dwmcc\\Desktop\\Learningfuze\\new_na_birds_dataset\\Valid\\110.freaking_roadrunner\n",
      "Deleted: Geococcyx_0135_104716.jpg from C:\\Users\\dwmcc\\Desktop\\Learningfuze\\new_na_birds_dataset\\Train\\110.freaking_roadrunner\n",
      "Copied last: Geococcyx_0136_104144.jpg to C:\\Users\\dwmcc\\Desktop\\Learningfuze\\new_na_birds_dataset\\Valid\\110.freaking_roadrunner\n",
      "Deleted: Geococcyx_0136_104144.jpg from C:\\Users\\dwmcc\\Desktop\\Learningfuze\\new_na_birds_dataset\\Train\\110.freaking_roadrunner\n",
      "Copied last: Geococcyx_0137_104693.jpg to C:\\Users\\dwmcc\\Desktop\\Learningfuze\\new_na_birds_dataset\\Valid\\110.freaking_roadrunner\n",
      "Deleted: Geococcyx_0137_104693.jpg from C:\\Users\\dwmcc\\Desktop\\Learningfuze\\new_na_birds_dataset\\Train\\110.freaking_roadrunner\n",
      "Copied last: Geococcyx_0139_104277.jpg to C:\\Users\\dwmcc\\Desktop\\Learningfuze\\new_na_birds_dataset\\Valid\\110.freaking_roadrunner\n",
      "Deleted: Geococcyx_0139_104277.jpg from C:\\Users\\dwmcc\\Desktop\\Learningfuze\\new_na_birds_dataset\\Train\\110.freaking_roadrunner\n",
      "Successfully copied the first 4 images to C:\\Users\\dwmcc\\Desktop\\Learningfuze\\new_na_birds_dataset\\Test\\110.freaking_roadrunner and the last 4 images to C:\\Users\\dwmcc\\Desktop\\Learningfuze\\new_na_birds_dataset\\Valid\\110.freaking_roadrunner, and deleted them from C:\\Users\\dwmcc\\Desktop\\Learningfuze\\new_na_birds_dataset\\Train\\110.freaking_roadrunner\n"
     ]
    }
   ],
   "source": [
    "train = r\"C:\\Users\\dwmcc\\Desktop\\Learningfuze\\new_na_birds_dataset\\Train\\110.freaking_roadrunner\"\n",
    "test = r\"C:\\Users\\dwmcc\\Desktop\\Learningfuze\\new_na_birds_dataset\\Test\\110.freaking_roadrunner\"\n",
    "valid = r\"C:\\Users\\dwmcc\\Desktop\\Learningfuze\\new_na_birds_dataset\\Valid\\110.freaking_roadrunner\"\n",
    "\n",
    "nutcracker(train, test, valid)"
   ]
  },
  {
   "cell_type": "code",
   "execution_count": 40,
   "id": "e6892646",
   "metadata": {},
   "outputs": [
    {
     "name": "stdout",
     "output_type": "stream",
     "text": [
      "Destination folder already exists: C:\\Users\\dwmcc\\Desktop\\Learningfuze\\new_na_birds_dataset\\Test\\111.Loggerhead_Shrike\n",
      "Destination folder already exists: C:\\Users\\dwmcc\\Desktop\\Learningfuze\\new_na_birds_dataset\\Valid\\111.Loggerhead_Shrike\n",
      "Copied first: Loggerhead_Shrike_0002_105195.jpg to C:\\Users\\dwmcc\\Desktop\\Learningfuze\\new_na_birds_dataset\\Test\\111.Loggerhead_Shrike\n",
      "Deleted: Loggerhead_Shrike_0002_105195.jpg from C:\\Users\\dwmcc\\Desktop\\Learningfuze\\new_na_birds_dataset\\Train\\111.Loggerhead_Shrike\n",
      "Copied first: Loggerhead_Shrike_0007_106101.jpg to C:\\Users\\dwmcc\\Desktop\\Learningfuze\\new_na_birds_dataset\\Test\\111.Loggerhead_Shrike\n",
      "Deleted: Loggerhead_Shrike_0007_106101.jpg from C:\\Users\\dwmcc\\Desktop\\Learningfuze\\new_na_birds_dataset\\Train\\111.Loggerhead_Shrike\n",
      "Copied first: Loggerhead_Shrike_0010_104866.jpg to C:\\Users\\dwmcc\\Desktop\\Learningfuze\\new_na_birds_dataset\\Test\\111.Loggerhead_Shrike\n",
      "Deleted: Loggerhead_Shrike_0010_104866.jpg from C:\\Users\\dwmcc\\Desktop\\Learningfuze\\new_na_birds_dataset\\Train\\111.Loggerhead_Shrike\n",
      "Copied first: Loggerhead_Shrike_0011_104921.jpg to C:\\Users\\dwmcc\\Desktop\\Learningfuze\\new_na_birds_dataset\\Test\\111.Loggerhead_Shrike\n",
      "Deleted: Loggerhead_Shrike_0011_104921.jpg from C:\\Users\\dwmcc\\Desktop\\Learningfuze\\new_na_birds_dataset\\Train\\111.Loggerhead_Shrike\n",
      "Copied last: Loggerhead_Shrike_0126_106316.jpg to C:\\Users\\dwmcc\\Desktop\\Learningfuze\\new_na_birds_dataset\\Valid\\111.Loggerhead_Shrike\n",
      "Deleted: Loggerhead_Shrike_0126_106316.jpg from C:\\Users\\dwmcc\\Desktop\\Learningfuze\\new_na_birds_dataset\\Train\\111.Loggerhead_Shrike\n",
      "Copied last: Loggerhead_Shrike_0127_105742.jpg to C:\\Users\\dwmcc\\Desktop\\Learningfuze\\new_na_birds_dataset\\Valid\\111.Loggerhead_Shrike\n",
      "Deleted: Loggerhead_Shrike_0127_105742.jpg from C:\\Users\\dwmcc\\Desktop\\Learningfuze\\new_na_birds_dataset\\Train\\111.Loggerhead_Shrike\n",
      "Copied last: Loggerhead_Shrike_0128_105238.jpg to C:\\Users\\dwmcc\\Desktop\\Learningfuze\\new_na_birds_dataset\\Valid\\111.Loggerhead_Shrike\n",
      "Deleted: Loggerhead_Shrike_0128_105238.jpg from C:\\Users\\dwmcc\\Desktop\\Learningfuze\\new_na_birds_dataset\\Train\\111.Loggerhead_Shrike\n",
      "Copied last: Loggerhead_Shrike_0129_106389.jpg to C:\\Users\\dwmcc\\Desktop\\Learningfuze\\new_na_birds_dataset\\Valid\\111.Loggerhead_Shrike\n",
      "Deleted: Loggerhead_Shrike_0129_106389.jpg from C:\\Users\\dwmcc\\Desktop\\Learningfuze\\new_na_birds_dataset\\Train\\111.Loggerhead_Shrike\n",
      "Successfully copied the first 4 images to C:\\Users\\dwmcc\\Desktop\\Learningfuze\\new_na_birds_dataset\\Test\\111.Loggerhead_Shrike and the last 4 images to C:\\Users\\dwmcc\\Desktop\\Learningfuze\\new_na_birds_dataset\\Valid\\111.Loggerhead_Shrike, and deleted them from C:\\Users\\dwmcc\\Desktop\\Learningfuze\\new_na_birds_dataset\\Train\\111.Loggerhead_Shrike\n"
     ]
    }
   ],
   "source": [
    "train = r\"C:\\Users\\dwmcc\\Desktop\\Learningfuze\\new_na_birds_dataset\\Train\\111.Loggerhead_Shrike\"\n",
    "test = r\"C:\\Users\\dwmcc\\Desktop\\Learningfuze\\new_na_birds_dataset\\Test\\111.Loggerhead_Shrike\"\n",
    "valid = r\"C:\\Users\\dwmcc\\Desktop\\Learningfuze\\new_na_birds_dataset\\Valid\\111.Loggerhead_Shrike\"\n",
    "\n",
    "nutcracker(train, test, valid)"
   ]
  },
  {
   "cell_type": "code",
   "execution_count": 41,
   "id": "d5d82109",
   "metadata": {},
   "outputs": [
    {
     "name": "stdout",
     "output_type": "stream",
     "text": [
      "Destination folder already exists: C:\\Users\\dwmcc\\Desktop\\Learningfuze\\new_na_birds_dataset\\Test\\107.Common_Raven\n",
      "Destination folder already exists: C:\\Users\\dwmcc\\Desktop\\Learningfuze\\new_na_birds_dataset\\Valid\\107.Common_Raven\n",
      "Copied first: Common_Raven_0001_101213.jpg to C:\\Users\\dwmcc\\Desktop\\Learningfuze\\new_na_birds_dataset\\Test\\107.Common_Raven\n",
      "Deleted: Common_Raven_0001_101213.jpg from C:\\Users\\dwmcc\\Desktop\\Learningfuze\\new_na_birds_dataset\\Train\\107.Common_Raven\n",
      "Copied first: Common_Raven_0002_102582.jpg to C:\\Users\\dwmcc\\Desktop\\Learningfuze\\new_na_birds_dataset\\Test\\107.Common_Raven\n",
      "Deleted: Common_Raven_0002_102582.jpg from C:\\Users\\dwmcc\\Desktop\\Learningfuze\\new_na_birds_dataset\\Train\\107.Common_Raven\n",
      "Copied first: Common_Raven_0005_101347.jpg to C:\\Users\\dwmcc\\Desktop\\Learningfuze\\new_na_birds_dataset\\Test\\107.Common_Raven\n",
      "Deleted: Common_Raven_0005_101347.jpg from C:\\Users\\dwmcc\\Desktop\\Learningfuze\\new_na_birds_dataset\\Train\\107.Common_Raven\n",
      "Copied first: Common_Raven_0007_102020.jpg to C:\\Users\\dwmcc\\Desktop\\Learningfuze\\new_na_birds_dataset\\Test\\107.Common_Raven\n",
      "Deleted: Common_Raven_0007_102020.jpg from C:\\Users\\dwmcc\\Desktop\\Learningfuze\\new_na_birds_dataset\\Train\\107.Common_Raven\n",
      "Copied last: Common_Raven_0126_101459.jpg to C:\\Users\\dwmcc\\Desktop\\Learningfuze\\new_na_birds_dataset\\Valid\\107.Common_Raven\n",
      "Deleted: Common_Raven_0126_101459.jpg from C:\\Users\\dwmcc\\Desktop\\Learningfuze\\new_na_birds_dataset\\Train\\107.Common_Raven\n",
      "Copied last: Common_Raven_0128_102017.jpg to C:\\Users\\dwmcc\\Desktop\\Learningfuze\\new_na_birds_dataset\\Valid\\107.Common_Raven\n",
      "Deleted: Common_Raven_0128_102017.jpg from C:\\Users\\dwmcc\\Desktop\\Learningfuze\\new_na_birds_dataset\\Train\\107.Common_Raven\n",
      "Copied last: Common_Raven_0129_102094.jpg to C:\\Users\\dwmcc\\Desktop\\Learningfuze\\new_na_birds_dataset\\Valid\\107.Common_Raven\n",
      "Deleted: Common_Raven_0129_102094.jpg from C:\\Users\\dwmcc\\Desktop\\Learningfuze\\new_na_birds_dataset\\Train\\107.Common_Raven\n",
      "Copied last: Common_Raven_0132_101543.jpg to C:\\Users\\dwmcc\\Desktop\\Learningfuze\\new_na_birds_dataset\\Valid\\107.Common_Raven\n",
      "Deleted: Common_Raven_0132_101543.jpg from C:\\Users\\dwmcc\\Desktop\\Learningfuze\\new_na_birds_dataset\\Train\\107.Common_Raven\n",
      "Successfully copied the first 4 images to C:\\Users\\dwmcc\\Desktop\\Learningfuze\\new_na_birds_dataset\\Test\\107.Common_Raven and the last 4 images to C:\\Users\\dwmcc\\Desktop\\Learningfuze\\new_na_birds_dataset\\Valid\\107.Common_Raven, and deleted them from C:\\Users\\dwmcc\\Desktop\\Learningfuze\\new_na_birds_dataset\\Train\\107.Common_Raven\n"
     ]
    }
   ],
   "source": [
    "train = r\"C:\\Users\\dwmcc\\Desktop\\Learningfuze\\new_na_birds_dataset\\Train\\107.Common_Raven\"\n",
    "test = r\"C:\\Users\\dwmcc\\Desktop\\Learningfuze\\new_na_birds_dataset\\Test\\107.Common_Raven\"\n",
    "valid = r\"C:\\Users\\dwmcc\\Desktop\\Learningfuze\\new_na_birds_dataset\\Valid\\107.Common_Raven\"\n",
    "\n",
    "nutcracker(train, test, valid)"
   ]
  },
  {
   "cell_type": "code",
   "execution_count": 42,
   "id": "e4f630f6",
   "metadata": {},
   "outputs": [
    {
     "name": "stdout",
     "output_type": "stream",
     "text": [
      "Destination folder already exists: C:\\Users\\dwmcc\\Desktop\\Learningfuze\\new_na_birds_dataset\\Test\\114.Black_throated_Sparrow\n",
      "Destination folder already exists: C:\\Users\\dwmcc\\Desktop\\Learningfuze\\new_na_birds_dataset\\Valid\\114.Black_throated_Sparrow\n",
      "Copied first: Black_Throated_Sparrow_0001_107233.jpg to C:\\Users\\dwmcc\\Desktop\\Learningfuze\\new_na_birds_dataset\\Test\\114.Black_throated_Sparrow\n",
      "Deleted: Black_Throated_Sparrow_0001_107233.jpg from C:\\Users\\dwmcc\\Desktop\\Learningfuze\\new_na_birds_dataset\\Train\\114.Black_throated_Sparrow\n",
      "Copied first: Black_Throated_Sparrow_0002_106962.jpg to C:\\Users\\dwmcc\\Desktop\\Learningfuze\\new_na_birds_dataset\\Test\\114.Black_throated_Sparrow\n",
      "Deleted: Black_Throated_Sparrow_0002_106962.jpg from C:\\Users\\dwmcc\\Desktop\\Learningfuze\\new_na_birds_dataset\\Train\\114.Black_throated_Sparrow\n",
      "Copied first: Black_Throated_Sparrow_0003_107035.jpg to C:\\Users\\dwmcc\\Desktop\\Learningfuze\\new_na_birds_dataset\\Test\\114.Black_throated_Sparrow\n",
      "Deleted: Black_Throated_Sparrow_0003_107035.jpg from C:\\Users\\dwmcc\\Desktop\\Learningfuze\\new_na_birds_dataset\\Train\\114.Black_throated_Sparrow\n",
      "Copied first: Black_Throated_Sparrow_0005_107150.jpg to C:\\Users\\dwmcc\\Desktop\\Learningfuze\\new_na_birds_dataset\\Test\\114.Black_throated_Sparrow\n",
      "Deleted: Black_Throated_Sparrow_0005_107150.jpg from C:\\Users\\dwmcc\\Desktop\\Learningfuze\\new_na_birds_dataset\\Train\\114.Black_throated_Sparrow\n",
      "Copied last: Black_Throated_Sparrow_0097_106935.jpg to C:\\Users\\dwmcc\\Desktop\\Learningfuze\\new_na_birds_dataset\\Valid\\114.Black_throated_Sparrow\n",
      "Deleted: Black_Throated_Sparrow_0097_106935.jpg from C:\\Users\\dwmcc\\Desktop\\Learningfuze\\new_na_birds_dataset\\Train\\114.Black_throated_Sparrow\n",
      "Copied last: Black_Throated_Sparrow_0098_107138.jpg to C:\\Users\\dwmcc\\Desktop\\Learningfuze\\new_na_birds_dataset\\Valid\\114.Black_throated_Sparrow\n",
      "Deleted: Black_Throated_Sparrow_0098_107138.jpg from C:\\Users\\dwmcc\\Desktop\\Learningfuze\\new_na_birds_dataset\\Train\\114.Black_throated_Sparrow\n",
      "Copied last: Black_Throated_Sparrow_0099_106944.jpg to C:\\Users\\dwmcc\\Desktop\\Learningfuze\\new_na_birds_dataset\\Valid\\114.Black_throated_Sparrow\n",
      "Deleted: Black_Throated_Sparrow_0099_106944.jpg from C:\\Users\\dwmcc\\Desktop\\Learningfuze\\new_na_birds_dataset\\Train\\114.Black_throated_Sparrow\n",
      "Copied last: Black_Throated_Sparrow_0102_107243.jpg to C:\\Users\\dwmcc\\Desktop\\Learningfuze\\new_na_birds_dataset\\Valid\\114.Black_throated_Sparrow\n",
      "Deleted: Black_Throated_Sparrow_0102_107243.jpg from C:\\Users\\dwmcc\\Desktop\\Learningfuze\\new_na_birds_dataset\\Train\\114.Black_throated_Sparrow\n",
      "Successfully copied the first 4 images to C:\\Users\\dwmcc\\Desktop\\Learningfuze\\new_na_birds_dataset\\Test\\114.Black_throated_Sparrow and the last 4 images to C:\\Users\\dwmcc\\Desktop\\Learningfuze\\new_na_birds_dataset\\Valid\\114.Black_throated_Sparrow, and deleted them from C:\\Users\\dwmcc\\Desktop\\Learningfuze\\new_na_birds_dataset\\Train\\114.Black_throated_Sparrow\n"
     ]
    }
   ],
   "source": [
    "train = r\"C:\\Users\\dwmcc\\Desktop\\Learningfuze\\new_na_birds_dataset\\Train\\114.Black_throated_Sparrow\"\n",
    "test = r\"C:\\Users\\dwmcc\\Desktop\\Learningfuze\\new_na_birds_dataset\\Test\\114.Black_throated_Sparrow\"\n",
    "valid = r\"C:\\Users\\dwmcc\\Desktop\\Learningfuze\\new_na_birds_dataset\\Valid\\114.Black_throated_Sparrow\"\n",
    "\n",
    "nutcracker(train, test, valid)"
   ]
  },
  {
   "cell_type": "code",
   "execution_count": 43,
   "id": "578e4f79",
   "metadata": {},
   "outputs": [
    {
     "name": "stdout",
     "output_type": "stream",
     "text": [
      "Destination folder already exists: C:\\Users\\dwmcc\\Desktop\\Learningfuze\\new_na_birds_dataset\\Test\\118.House_Sparrow\n",
      "Destination folder already exists: C:\\Users\\dwmcc\\Desktop\\Learningfuze\\new_na_birds_dataset\\Valid\\118.House_Sparrow\n",
      "Copied first: House_Sparrow_0002_112905.jpg to C:\\Users\\dwmcc\\Desktop\\Learningfuze\\new_na_birds_dataset\\Test\\118.House_Sparrow\n",
      "Deleted: House_Sparrow_0002_112905.jpg from C:\\Users\\dwmcc\\Desktop\\Learningfuze\\new_na_birds_dataset\\Train\\118.House_Sparrow\n",
      "Copied first: House_Sparrow_0004_111989.jpg to C:\\Users\\dwmcc\\Desktop\\Learningfuze\\new_na_birds_dataset\\Test\\118.House_Sparrow\n",
      "Deleted: House_Sparrow_0004_111989.jpg from C:\\Users\\dwmcc\\Desktop\\Learningfuze\\new_na_birds_dataset\\Train\\118.House_Sparrow\n",
      "Copied first: House_Sparrow_0005_111967.jpg to C:\\Users\\dwmcc\\Desktop\\Learningfuze\\new_na_birds_dataset\\Test\\118.House_Sparrow\n",
      "Deleted: House_Sparrow_0005_111967.jpg from C:\\Users\\dwmcc\\Desktop\\Learningfuze\\new_na_birds_dataset\\Train\\118.House_Sparrow\n",
      "Copied first: House_Sparrow_0006_111034.jpg to C:\\Users\\dwmcc\\Desktop\\Learningfuze\\new_na_birds_dataset\\Test\\118.House_Sparrow\n",
      "Deleted: House_Sparrow_0006_111034.jpg from C:\\Users\\dwmcc\\Desktop\\Learningfuze\\new_na_birds_dataset\\Train\\118.House_Sparrow\n",
      "Copied last: House_Sparrow_0139_112438.jpg to C:\\Users\\dwmcc\\Desktop\\Learningfuze\\new_na_birds_dataset\\Valid\\118.House_Sparrow\n",
      "Deleted: House_Sparrow_0139_112438.jpg from C:\\Users\\dwmcc\\Desktop\\Learningfuze\\new_na_birds_dataset\\Train\\118.House_Sparrow\n",
      "Copied last: House_Sparrow_0143_111400.jpg to C:\\Users\\dwmcc\\Desktop\\Learningfuze\\new_na_birds_dataset\\Valid\\118.House_Sparrow\n",
      "Deleted: House_Sparrow_0143_111400.jpg from C:\\Users\\dwmcc\\Desktop\\Learningfuze\\new_na_birds_dataset\\Train\\118.House_Sparrow\n",
      "Copied last: House_Sparrow_0144_113216.jpg to C:\\Users\\dwmcc\\Desktop\\Learningfuze\\new_na_birds_dataset\\Valid\\118.House_Sparrow\n",
      "Deleted: House_Sparrow_0144_113216.jpg from C:\\Users\\dwmcc\\Desktop\\Learningfuze\\new_na_birds_dataset\\Train\\118.House_Sparrow\n",
      "Copied last: House_Sparrow_0145_112703.jpg to C:\\Users\\dwmcc\\Desktop\\Learningfuze\\new_na_birds_dataset\\Valid\\118.House_Sparrow\n",
      "Deleted: House_Sparrow_0145_112703.jpg from C:\\Users\\dwmcc\\Desktop\\Learningfuze\\new_na_birds_dataset\\Train\\118.House_Sparrow\n",
      "Successfully copied the first 4 images to C:\\Users\\dwmcc\\Desktop\\Learningfuze\\new_na_birds_dataset\\Test\\118.House_Sparrow and the last 4 images to C:\\Users\\dwmcc\\Desktop\\Learningfuze\\new_na_birds_dataset\\Valid\\118.House_Sparrow, and deleted them from C:\\Users\\dwmcc\\Desktop\\Learningfuze\\new_na_birds_dataset\\Train\\118.House_Sparrow\n"
     ]
    }
   ],
   "source": [
    "train = r\"C:\\Users\\dwmcc\\Desktop\\Learningfuze\\new_na_birds_dataset\\Train\\118.House_Sparrow\"\n",
    "test = r\"C:\\Users\\dwmcc\\Desktop\\Learningfuze\\new_na_birds_dataset\\Test\\118.House_Sparrow\"\n",
    "valid = r\"C:\\Users\\dwmcc\\Desktop\\Learningfuze\\new_na_birds_dataset\\Valid\\118.House_Sparrow\"\n",
    "\n",
    "nutcracker(train, test, valid)"
   ]
  },
  {
   "cell_type": "code",
   "execution_count": 44,
   "id": "5ecf0d33",
   "metadata": {},
   "outputs": [
    {
     "name": "stdout",
     "output_type": "stream",
     "text": [
      "Destination folder already exists: C:\\Users\\dwmcc\\Desktop\\Learningfuze\\new_na_birds_dataset\\Test\\120.Fox_Sparrow\n",
      "Destination folder already exists: C:\\Users\\dwmcc\\Desktop\\Learningfuze\\new_na_birds_dataset\\Valid\\120.Fox_Sparrow\n",
      "Copied first: Fox_Sparrow_0009_114796.jpg to C:\\Users\\dwmcc\\Desktop\\Learningfuze\\new_na_birds_dataset\\Test\\120.Fox_Sparrow\n",
      "Deleted: Fox_Sparrow_0009_114796.jpg from C:\\Users\\dwmcc\\Desktop\\Learningfuze\\new_na_birds_dataset\\Train\\120.Fox_Sparrow\n",
      "Copied first: Fox_Sparrow_0010_114728.jpg to C:\\Users\\dwmcc\\Desktop\\Learningfuze\\new_na_birds_dataset\\Test\\120.Fox_Sparrow\n",
      "Deleted: Fox_Sparrow_0010_114728.jpg from C:\\Users\\dwmcc\\Desktop\\Learningfuze\\new_na_birds_dataset\\Train\\120.Fox_Sparrow\n",
      "Copied first: Fox_Sparrow_0012_115324.jpg to C:\\Users\\dwmcc\\Desktop\\Learningfuze\\new_na_birds_dataset\\Test\\120.Fox_Sparrow\n",
      "Deleted: Fox_Sparrow_0012_115324.jpg from C:\\Users\\dwmcc\\Desktop\\Learningfuze\\new_na_birds_dataset\\Train\\120.Fox_Sparrow\n",
      "Copied first: Fox_Sparrow_0013_114344.jpg to C:\\Users\\dwmcc\\Desktop\\Learningfuze\\new_na_birds_dataset\\Test\\120.Fox_Sparrow\n",
      "Deleted: Fox_Sparrow_0013_114344.jpg from C:\\Users\\dwmcc\\Desktop\\Learningfuze\\new_na_birds_dataset\\Train\\120.Fox_Sparrow\n",
      "Copied last: Fox_Sparrow_0125_114557.jpg to C:\\Users\\dwmcc\\Desktop\\Learningfuze\\new_na_birds_dataset\\Valid\\120.Fox_Sparrow\n",
      "Deleted: Fox_Sparrow_0125_114557.jpg from C:\\Users\\dwmcc\\Desktop\\Learningfuze\\new_na_birds_dataset\\Train\\120.Fox_Sparrow\n",
      "Copied last: Fox_Sparrow_0135_115251.jpg to C:\\Users\\dwmcc\\Desktop\\Learningfuze\\new_na_birds_dataset\\Valid\\120.Fox_Sparrow\n",
      "Deleted: Fox_Sparrow_0135_115251.jpg from C:\\Users\\dwmcc\\Desktop\\Learningfuze\\new_na_birds_dataset\\Train\\120.Fox_Sparrow\n",
      "Copied last: Fox_Sparrow_0136_115278.jpg to C:\\Users\\dwmcc\\Desktop\\Learningfuze\\new_na_birds_dataset\\Valid\\120.Fox_Sparrow\n",
      "Deleted: Fox_Sparrow_0136_115278.jpg from C:\\Users\\dwmcc\\Desktop\\Learningfuze\\new_na_birds_dataset\\Train\\120.Fox_Sparrow\n",
      "Copied last: Fox_Sparrow_0138_114586.jpg to C:\\Users\\dwmcc\\Desktop\\Learningfuze\\new_na_birds_dataset\\Valid\\120.Fox_Sparrow\n",
      "Deleted: Fox_Sparrow_0138_114586.jpg from C:\\Users\\dwmcc\\Desktop\\Learningfuze\\new_na_birds_dataset\\Train\\120.Fox_Sparrow\n",
      "Successfully copied the first 4 images to C:\\Users\\dwmcc\\Desktop\\Learningfuze\\new_na_birds_dataset\\Test\\120.Fox_Sparrow and the last 4 images to C:\\Users\\dwmcc\\Desktop\\Learningfuze\\new_na_birds_dataset\\Valid\\120.Fox_Sparrow, and deleted them from C:\\Users\\dwmcc\\Desktop\\Learningfuze\\new_na_birds_dataset\\Train\\120.Fox_Sparrow\n"
     ]
    }
   ],
   "source": [
    "train = r\"C:\\Users\\dwmcc\\Desktop\\Learningfuze\\new_na_birds_dataset\\Train\\120.Fox_Sparrow\"\n",
    "test = r\"C:\\Users\\dwmcc\\Desktop\\Learningfuze\\new_na_birds_dataset\\Test\\120.Fox_Sparrow\"\n",
    "valid = r\"C:\\Users\\dwmcc\\Desktop\\Learningfuze\\new_na_birds_dataset\\Valid\\120.Fox_Sparrow\"\n",
    "\n",
    "nutcracker(train, test, valid)"
   ]
  },
  {
   "cell_type": "code",
   "execution_count": 45,
   "id": "32881473",
   "metadata": {},
   "outputs": [
    {
     "name": "stdout",
     "output_type": "stream",
     "text": [
      "Destination folder already exists: C:\\Users\\dwmcc\\Desktop\\Learningfuze\\new_na_birds_dataset\\Test\\127.Savannah_Sparrow\n",
      "Destination folder already exists: C:\\Users\\dwmcc\\Desktop\\Learningfuze\\new_na_birds_dataset\\Valid\\127.Savannah_Sparrow\n",
      "Copied first: Savannah_Sparrow_0001_118956.jpg to C:\\Users\\dwmcc\\Desktop\\Learningfuze\\new_na_birds_dataset\\Test\\127.Savannah_Sparrow\n",
      "Deleted: Savannah_Sparrow_0001_118956.jpg from C:\\Users\\dwmcc\\Desktop\\Learningfuze\\new_na_birds_dataset\\Train\\127.Savannah_Sparrow\n",
      "Copied first: Savannah_Sparrow_0005_119735.jpg to C:\\Users\\dwmcc\\Desktop\\Learningfuze\\new_na_birds_dataset\\Test\\127.Savannah_Sparrow\n",
      "Deleted: Savannah_Sparrow_0005_119735.jpg from C:\\Users\\dwmcc\\Desktop\\Learningfuze\\new_na_birds_dataset\\Train\\127.Savannah_Sparrow\n",
      "Copied first: Savannah_Sparrow_0008_118929.jpg to C:\\Users\\dwmcc\\Desktop\\Learningfuze\\new_na_birds_dataset\\Test\\127.Savannah_Sparrow\n",
      "Deleted: Savannah_Sparrow_0008_118929.jpg from C:\\Users\\dwmcc\\Desktop\\Learningfuze\\new_na_birds_dataset\\Train\\127.Savannah_Sparrow\n",
      "Copied first: Savannah_Sparrow_0009_120205.jpg to C:\\Users\\dwmcc\\Desktop\\Learningfuze\\new_na_birds_dataset\\Test\\127.Savannah_Sparrow\n",
      "Deleted: Savannah_Sparrow_0009_120205.jpg from C:\\Users\\dwmcc\\Desktop\\Learningfuze\\new_na_birds_dataset\\Train\\127.Savannah_Sparrow\n",
      "Copied last: Savannah_Sparrow_0135_119620.jpg to C:\\Users\\dwmcc\\Desktop\\Learningfuze\\new_na_birds_dataset\\Valid\\127.Savannah_Sparrow\n",
      "Deleted: Savannah_Sparrow_0135_119620.jpg from C:\\Users\\dwmcc\\Desktop\\Learningfuze\\new_na_birds_dataset\\Train\\127.Savannah_Sparrow\n",
      "Copied last: Savannah_Sparrow_0136_119581.jpg to C:\\Users\\dwmcc\\Desktop\\Learningfuze\\new_na_birds_dataset\\Valid\\127.Savannah_Sparrow\n",
      "Deleted: Savannah_Sparrow_0136_119581.jpg from C:\\Users\\dwmcc\\Desktop\\Learningfuze\\new_na_birds_dataset\\Train\\127.Savannah_Sparrow\n",
      "Copied last: Savannah_Sparrow_0137_119757.jpg to C:\\Users\\dwmcc\\Desktop\\Learningfuze\\new_na_birds_dataset\\Valid\\127.Savannah_Sparrow\n",
      "Deleted: Savannah_Sparrow_0137_119757.jpg from C:\\Users\\dwmcc\\Desktop\\Learningfuze\\new_na_birds_dataset\\Train\\127.Savannah_Sparrow\n",
      "Copied last: Savannah_Sparrow_0139_119444.jpg to C:\\Users\\dwmcc\\Desktop\\Learningfuze\\new_na_birds_dataset\\Valid\\127.Savannah_Sparrow\n",
      "Deleted: Savannah_Sparrow_0139_119444.jpg from C:\\Users\\dwmcc\\Desktop\\Learningfuze\\new_na_birds_dataset\\Train\\127.Savannah_Sparrow\n",
      "Successfully copied the first 4 images to C:\\Users\\dwmcc\\Desktop\\Learningfuze\\new_na_birds_dataset\\Test\\127.Savannah_Sparrow and the last 4 images to C:\\Users\\dwmcc\\Desktop\\Learningfuze\\new_na_birds_dataset\\Valid\\127.Savannah_Sparrow, and deleted them from C:\\Users\\dwmcc\\Desktop\\Learningfuze\\new_na_birds_dataset\\Train\\127.Savannah_Sparrow\n"
     ]
    }
   ],
   "source": [
    "train = r\"C:\\Users\\dwmcc\\Desktop\\Learningfuze\\new_na_birds_dataset\\Train\\127.Savannah_Sparrow\"\n",
    "test = r\"C:\\Users\\dwmcc\\Desktop\\Learningfuze\\new_na_birds_dataset\\Test\\127.Savannah_Sparrow\"\n",
    "valid = r\"C:\\Users\\dwmcc\\Desktop\\Learningfuze\\new_na_birds_dataset\\Valid\\127.Savannah_Sparrow\"\n",
    "\n",
    "nutcracker(train, test, valid)"
   ]
  },
  {
   "cell_type": "code",
   "execution_count": 46,
   "id": "696f15e1",
   "metadata": {},
   "outputs": [
    {
     "name": "stdout",
     "output_type": "stream",
     "text": [
      "Destination folder already exists: C:\\Users\\dwmcc\\Desktop\\Learningfuze\\new_na_birds_dataset\\Test\\129.Song_Sparrow\n",
      "Destination folder already exists: C:\\Users\\dwmcc\\Desktop\\Learningfuze\\new_na_birds_dataset\\Valid\\129.Song_Sparrow\n",
      "Copied first: Song_Sparrow_0001_122169.jpg to C:\\Users\\dwmcc\\Desktop\\Learningfuze\\new_na_birds_dataset\\Test\\129.Song_Sparrow\n",
      "Deleted: Song_Sparrow_0001_122169.jpg from C:\\Users\\dwmcc\\Desktop\\Learningfuze\\new_na_birds_dataset\\Train\\129.Song_Sparrow\n",
      "Copied first: Song_Sparrow_0003_122425.jpg to C:\\Users\\dwmcc\\Desktop\\Learningfuze\\new_na_birds_dataset\\Test\\129.Song_Sparrow\n",
      "Deleted: Song_Sparrow_0003_122425.jpg from C:\\Users\\dwmcc\\Desktop\\Learningfuze\\new_na_birds_dataset\\Train\\129.Song_Sparrow\n",
      "Copied first: Song_Sparrow_0007_121133.jpg to C:\\Users\\dwmcc\\Desktop\\Learningfuze\\new_na_birds_dataset\\Test\\129.Song_Sparrow\n",
      "Deleted: Song_Sparrow_0007_121133.jpg from C:\\Users\\dwmcc\\Desktop\\Learningfuze\\new_na_birds_dataset\\Train\\129.Song_Sparrow\n",
      "Copied first: Song_Sparrow_0009_121025.jpg to C:\\Users\\dwmcc\\Desktop\\Learningfuze\\new_na_birds_dataset\\Test\\129.Song_Sparrow\n",
      "Deleted: Song_Sparrow_0009_121025.jpg from C:\\Users\\dwmcc\\Desktop\\Learningfuze\\new_na_birds_dataset\\Train\\129.Song_Sparrow\n",
      "Copied last: Song_Sparrow_0126_120901.jpg to C:\\Users\\dwmcc\\Desktop\\Learningfuze\\new_na_birds_dataset\\Valid\\129.Song_Sparrow\n",
      "Deleted: Song_Sparrow_0126_120901.jpg from C:\\Users\\dwmcc\\Desktop\\Learningfuze\\new_na_birds_dataset\\Train\\129.Song_Sparrow\n",
      "Copied last: Song_Sparrow_0130_121583.jpg to C:\\Users\\dwmcc\\Desktop\\Learningfuze\\new_na_birds_dataset\\Valid\\129.Song_Sparrow\n",
      "Deleted: Song_Sparrow_0130_121583.jpg from C:\\Users\\dwmcc\\Desktop\\Learningfuze\\new_na_birds_dataset\\Train\\129.Song_Sparrow\n",
      "Copied last: Song_Sparrow_0132_121153.jpg to C:\\Users\\dwmcc\\Desktop\\Learningfuze\\new_na_birds_dataset\\Valid\\129.Song_Sparrow\n",
      "Deleted: Song_Sparrow_0132_121153.jpg from C:\\Users\\dwmcc\\Desktop\\Learningfuze\\new_na_birds_dataset\\Train\\129.Song_Sparrow\n",
      "Copied last: Song_Sparrow_0135_121261.jpg to C:\\Users\\dwmcc\\Desktop\\Learningfuze\\new_na_birds_dataset\\Valid\\129.Song_Sparrow\n",
      "Deleted: Song_Sparrow_0135_121261.jpg from C:\\Users\\dwmcc\\Desktop\\Learningfuze\\new_na_birds_dataset\\Train\\129.Song_Sparrow\n",
      "Successfully copied the first 4 images to C:\\Users\\dwmcc\\Desktop\\Learningfuze\\new_na_birds_dataset\\Test\\129.Song_Sparrow and the last 4 images to C:\\Users\\dwmcc\\Desktop\\Learningfuze\\new_na_birds_dataset\\Valid\\129.Song_Sparrow, and deleted them from C:\\Users\\dwmcc\\Desktop\\Learningfuze\\new_na_birds_dataset\\Train\\129.Song_Sparrow\n"
     ]
    }
   ],
   "source": [
    "train = r\"C:\\Users\\dwmcc\\Desktop\\Learningfuze\\new_na_birds_dataset\\Train\\129.Song_Sparrow\"\n",
    "test = r\"C:\\Users\\dwmcc\\Desktop\\Learningfuze\\new_na_birds_dataset\\Test\\129.Song_Sparrow\"\n",
    "valid = r\"C:\\Users\\dwmcc\\Desktop\\Learningfuze\\new_na_birds_dataset\\Valid\\129.Song_Sparrow\"\n",
    "\n",
    "nutcracker(train, test, valid)"
   ]
  },
  {
   "cell_type": "code",
   "execution_count": 47,
   "id": "895caf41",
   "metadata": {},
   "outputs": [
    {
     "name": "stdout",
     "output_type": "stream",
     "text": [
      "Destination folder already exists: C:\\Users\\dwmcc\\Desktop\\Learningfuze\\new_na_birds_dataset\\Test\\132.White_crowned_Sparrow\n",
      "Destination folder already exists: C:\\Users\\dwmcc\\Desktop\\Learningfuze\\new_na_birds_dataset\\Valid\\132.White_crowned_Sparrow\n",
      "Copied first: White_Crowned_Sparrow_0001_127115.jpg to C:\\Users\\dwmcc\\Desktop\\Learningfuze\\new_na_birds_dataset\\Test\\132.White_crowned_Sparrow\n",
      "Deleted: White_Crowned_Sparrow_0001_127115.jpg from C:\\Users\\dwmcc\\Desktop\\Learningfuze\\new_na_birds_dataset\\Train\\132.White_crowned_Sparrow\n",
      "Copied first: White_Crowned_Sparrow_0002_127774.jpg to C:\\Users\\dwmcc\\Desktop\\Learningfuze\\new_na_birds_dataset\\Test\\132.White_crowned_Sparrow\n",
      "Deleted: White_Crowned_Sparrow_0002_127774.jpg from C:\\Users\\dwmcc\\Desktop\\Learningfuze\\new_na_birds_dataset\\Train\\132.White_crowned_Sparrow\n",
      "Copied first: White_Crowned_Sparrow_0009_127658.jpg to C:\\Users\\dwmcc\\Desktop\\Learningfuze\\new_na_birds_dataset\\Test\\132.White_crowned_Sparrow\n",
      "Deleted: White_Crowned_Sparrow_0009_127658.jpg from C:\\Users\\dwmcc\\Desktop\\Learningfuze\\new_na_birds_dataset\\Train\\132.White_crowned_Sparrow\n",
      "Copied first: White_Crowned_Sparrow_0010_127651.jpg to C:\\Users\\dwmcc\\Desktop\\Learningfuze\\new_na_birds_dataset\\Test\\132.White_crowned_Sparrow\n",
      "Deleted: White_Crowned_Sparrow_0010_127651.jpg from C:\\Users\\dwmcc\\Desktop\\Learningfuze\\new_na_birds_dataset\\Train\\132.White_crowned_Sparrow\n",
      "Copied last: White_Crowned_Sparrow_0127_126923.jpg to C:\\Users\\dwmcc\\Desktop\\Learningfuze\\new_na_birds_dataset\\Valid\\132.White_crowned_Sparrow\n",
      "Deleted: White_Crowned_Sparrow_0127_126923.jpg from C:\\Users\\dwmcc\\Desktop\\Learningfuze\\new_na_birds_dataset\\Train\\132.White_crowned_Sparrow\n",
      "Copied last: White_Crowned_Sparrow_0129_127860.jpg to C:\\Users\\dwmcc\\Desktop\\Learningfuze\\new_na_birds_dataset\\Valid\\132.White_crowned_Sparrow\n",
      "Deleted: White_Crowned_Sparrow_0129_127860.jpg from C:\\Users\\dwmcc\\Desktop\\Learningfuze\\new_na_birds_dataset\\Train\\132.White_crowned_Sparrow\n",
      "Copied last: White_Crowned_Sparrow_0140_125967.jpg to C:\\Users\\dwmcc\\Desktop\\Learningfuze\\new_na_birds_dataset\\Valid\\132.White_crowned_Sparrow\n",
      "Deleted: White_Crowned_Sparrow_0140_125967.jpg from C:\\Users\\dwmcc\\Desktop\\Learningfuze\\new_na_birds_dataset\\Train\\132.White_crowned_Sparrow\n",
      "Copied last: White_Crowned_Sparrow_0141_127766.jpg to C:\\Users\\dwmcc\\Desktop\\Learningfuze\\new_na_birds_dataset\\Valid\\132.White_crowned_Sparrow\n",
      "Deleted: White_Crowned_Sparrow_0141_127766.jpg from C:\\Users\\dwmcc\\Desktop\\Learningfuze\\new_na_birds_dataset\\Train\\132.White_crowned_Sparrow\n",
      "Successfully copied the first 4 images to C:\\Users\\dwmcc\\Desktop\\Learningfuze\\new_na_birds_dataset\\Test\\132.White_crowned_Sparrow and the last 4 images to C:\\Users\\dwmcc\\Desktop\\Learningfuze\\new_na_birds_dataset\\Valid\\132.White_crowned_Sparrow, and deleted them from C:\\Users\\dwmcc\\Desktop\\Learningfuze\\new_na_birds_dataset\\Train\\132.White_crowned_Sparrow\n"
     ]
    }
   ],
   "source": [
    "train = r\"C:\\Users\\dwmcc\\Desktop\\Learningfuze\\new_na_birds_dataset\\Train\\132.White_crowned_Sparrow\"\n",
    "test = r\"C:\\Users\\dwmcc\\Desktop\\Learningfuze\\new_na_birds_dataset\\Test\\132.White_crowned_Sparrow\"\n",
    "valid = r\"C:\\Users\\dwmcc\\Desktop\\Learningfuze\\new_na_birds_dataset\\Valid\\132.White_crowned_Sparrow\"\n",
    "\n",
    "nutcracker(train, test, valid)"
   ]
  },
  {
   "cell_type": "code",
   "execution_count": null,
   "id": "58eb8ee1",
   "metadata": {},
   "outputs": [],
   "source": [
    "#done transfering over the 45 species dataset"
   ]
  },
  {
   "cell_type": "code",
   "execution_count": null,
   "id": "86e9a0a7",
   "metadata": {},
   "outputs": [],
   "source": [
    "#let's try something else"
   ]
  },
  {
   "cell_type": "code",
   "execution_count": null,
   "id": "724d650a",
   "metadata": {},
   "outputs": [],
   "source": []
  },
  {
   "cell_type": "code",
   "execution_count": null,
   "id": "df3ae798",
   "metadata": {},
   "outputs": [],
   "source": []
  }
 ],
 "metadata": {
  "kernelspec": {
   "display_name": "Python 3",
   "language": "python",
   "name": "python3"
  },
  "language_info": {
   "codemirror_mode": {
    "name": "ipython",
    "version": 3
   },
   "file_extension": ".py",
   "mimetype": "text/x-python",
   "name": "python",
   "nbconvert_exporter": "python",
   "pygments_lexer": "ipython3",
   "version": "3.11.9"
  }
 },
 "nbformat": 4,
 "nbformat_minor": 5
}
